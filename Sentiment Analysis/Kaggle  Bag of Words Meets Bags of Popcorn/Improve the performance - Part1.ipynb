{
 "cells": [
  {
   "cell_type": "markdown",
   "metadata": {
    "collapsed": true
   },
   "source": [
    "# 1. Introduction\n",
    "\n",
    "In this tutorial we want to improve the performance of the model in [Bag of words meet bag of popcorn: warm up](https://github.com/bright1993ff66/Text-Data-Analysis/blob/master/Sentiment%20Analysis/Kaggle%20%20Bag%20of%20Words%20Meets%20Bags%20of%20Popcorn/Bag%20of%20words%20meet%20bag%20of%20popcorn_warm%20up.ipynb). In this [competition](https://www.kaggle.com/c/word2vec-nlp-tutorial#evaluation), the area under the ROC curve is used to judge a model's performance. Hence we will use it to select the best model. Let's first import the useful modules.\n",
    "\n",
    "In this tutorial, neural network is not included but it will be discussed in the next tutorial.\n",
    "\n",
    "By the way, this [link](http://www.navan.name/roc/) and this [video](https://www.youtube.com/watch?v=OAl6eAyP-yo) gives a great explanation of the ROC and the AUC."
   ]
  },
  {
   "cell_type": "code",
   "execution_count": 23,
   "metadata": {},
   "outputs": [],
   "source": [
    "import re\n",
    "import time\n",
    "import logging\n",
    "from bs4 import BeautifulSoup\n",
    "\n",
    "import numpy as np\n",
    "import pandas as pd\n",
    "from matplotlib import pyplot as plt\n",
    "\n",
    "import nltk\n",
    "from nltk import data\n",
    "from nltk.corpus import stopwords\n",
    "from nltk.stem.lancaster import LancasterStemmer\n",
    "\n",
    "from sklearn.ensemble import RandomForestClassifier\n",
    "from sklearn.linear_model import LogisticRegression\n",
    "from sklearn.svm import SVC\n",
    "from sklearn.neural_network import MLPClassifier\n",
    "from sklearn import metrics\n",
    "from sklearn.manifold import TSNE\n",
    "\n",
    "import tensorflow as tf\n",
    "\n",
    "import gensim\n",
    "from gensim import models\n",
    "from gensim.models import Word2Vec\n",
    "from gensim.scripts.glove2word2vec import glove2word2vec"
   ]
  },
  {
   "cell_type": "markdown",
   "metadata": {},
   "source": [
    "And load the relevant numpy arrays."
   ]
  },
  {
   "cell_type": "code",
   "execution_count": 2,
   "metadata": {
    "collapsed": true
   },
   "outputs": [],
   "source": [
    "\"\"\"\"\n",
    "header=0: indicates that the first line of the file contains column names\n",
    "\"delimiter=\\t\": indicates that the fields are separated by tabs\n",
    "quoting=3: tells Python to ignore doubled quotes\n",
    "\"\"\"\n",
    "\n",
    "labeled_train = pd.read_csv(\"labeledTrainData.tsv\", header=0, delimiter=\"\\t\", quoting=3)\n",
    "unlabeled_train = pd.read_csv(\"unlabeledTrainData.tsv\", header=0, delimiter=\"\\t\", quoting=3)\n",
    "test_data = pd.read_csv(\"testData.tsv\", header=0, delimiter=\"\\t\", quoting=3)\n",
    "\n",
    "trainDataVecs = np.load('training_data.npy')\n",
    "testDataVecs = np.load('test_data.npy')"
   ]
  },
  {
   "cell_type": "markdown",
   "metadata": {},
   "source": [
    "# 2. Improve the Performance - Other machine learning tools\n",
    "\n",
    "Based on the end of the previous section, we could improve the performance of our current sentiment analysis model in two ways.\n",
    "\n",
    "## 2.1 Choose the right model\n",
    "\n",
    "To choose the right model, we should first build our machine learning datas, which include training data, validation data and test data."
   ]
  },
  {
   "cell_type": "code",
   "execution_count": 3,
   "metadata": {
    "collapsed": true
   },
   "outputs": [],
   "source": [
    "# Construct the training data, validation data and the test data\n",
    "\n",
    "training_data = trainDataVecs[0:15000,:]\n",
    "training_data_label = labeled_train['sentiment'][:15000]\n",
    "validation_data = trainDataVecs[15000:20000,:]\n",
    "validation_data_label = labeled_train['sentiment'][15000:20000]\n",
    "test_data_for_train = trainDataVecs[20000:,:]\n",
    "test_data_for_train_label = labeled_train['sentiment'][20000:]"
   ]
  },
  {
   "cell_type": "markdown",
   "metadata": {},
   "source": [
    "Then we could use the training dataset to train the machine learning model such as random forest, support vector machine etc and use the validation data to choose the model that performs best."
   ]
  },
  {
   "cell_type": "code",
   "execution_count": 4,
   "metadata": {},
   "outputs": [
    {
     "name": "stdout",
     "output_type": "stream",
     "text": [
      "Logistics Regression starts.....\n",
      "Total time for training is:  1.4161303043365479  seconds\n",
      "\n",
      "The area under the curve is:  0.949478501226\n",
      "The precision score is:  0.885425101215\n"
     ]
    }
   ],
   "source": [
    "# logistics regression\n",
    "\n",
    "print('Logistics Regression starts.....')\n",
    "\n",
    "start = time.time()\n",
    "\n",
    "lr = LogisticRegression(C=40, random_state=0)                          \n",
    "lr.fit(training_data, training_data_label)\n",
    "result_lr = lr.predict(validation_data)\n",
    "true = np.array(validation_data_label)\n",
    "result_prob_lr = lr.predict_proba(validation_data)[:, 1]\n",
    "\n",
    "# Calculating the precision score\n",
    "precision_lr = metrics.precision_score(true, result_lr)\n",
    "\n",
    "# Calculating the AUC\n",
    "fpr_lr, tpr_lr, thresholds_lr = metrics.roc_curve(true, result_prob_lr, pos_label=1)\n",
    "auc_lr = metrics.auc(fpr_lr, tpr_lr)\n",
    "\n",
    "end = time.time()\n",
    "\n",
    "print('Total time for training is: ', end - start, ' seconds\\n')\n",
    "print('The area under the curve is: ', auc_lr)\n",
    "print('The precision score is: ', precision_lr)"
   ]
  },
  {
   "cell_type": "code",
   "execution_count": 5,
   "metadata": {},
   "outputs": [
    {
     "data": {
      "image/png": "[encoded data removed]",
      "text/plain": [
       "<matplotlib.figure.Figure at 0x2ec8ce729b0>"
      ]
     },
     "metadata": {},
     "output_type": "display_data"
    }
   ],
   "source": [
    "plt.plot(fpr_lr, tpr_lr)\n",
    "plt.xlim([0.0, 1.0])\n",
    "plt.ylim([0.0, 1.0])\n",
    "plt.title('ROC Curve for BOWs meet Bag of Popcore - Logistics Regression')\n",
    "plt.xlabel('False Positive Rate (1 - Specificity)')\n",
    "plt.ylabel('True Positive Rate (Sensitivity)')\n",
    "plt.grid(True)\n",
    "plt.show()"
   ]
  },
  {
   "cell_type": "code",
   "execution_count": 6,
   "metadata": {},
   "outputs": [
    {
     "name": "stdout",
     "output_type": "stream",
     "text": [
      "Random Forest starts....\n",
      "Total time for training is:  24.811062574386597  seconds\n",
      "\n",
      "The area under the curve is:  0.9143638771\n",
      "The precision score is:  0.828235294118\n"
     ]
    }
   ],
   "source": [
    "# random forest\n",
    "\n",
    "print('Random Forest starts....')\n",
    "\n",
    "start = time.time()\n",
    "\n",
    "forest = RandomForestClassifier(n_estimators = 100)\n",
    "forest = forest.fit( training_data, training_data_label )\n",
    "result_forest = forest.predict(validation_data)\n",
    "result_prob_forest = forest.predict_proba(validation_data)[:, 1]\n",
    "\n",
    "# Calculating the precision score\n",
    "precision_forest = metrics.precision_score(true, result_forest)\n",
    "\n",
    "# Calculating the AUC\n",
    "fpr_forest, tpr_forest, thresholds_forest = metrics.roc_curve(true, result_prob_forest, pos_label=1)\n",
    "auc_forest = metrics.auc(fpr_forest, tpr_forest)\n",
    "\n",
    "end = time.time()\n",
    "print('Total time for training is: ', end - start, ' seconds\\n')\n",
    "print('The area under the curve is: ', auc_forest)\n",
    "print('The precision score is: ', precision_forest)"
   ]
  },
  {
   "cell_type": "code",
   "execution_count": 7,
   "metadata": {},
   "outputs": [
    {
     "data": {
      "image/png": "[encoded data removed]",
      "text/plain": [
       "<matplotlib.figure.Figure at 0x2ec8cc97278>"
      ]
     },
     "metadata": {},
     "output_type": "display_data"
    }
   ],
   "source": [
    "plt.plot(fpr_forest, tpr_forest)\n",
    "plt.xlim([0.0, 1.0])\n",
    "plt.ylim([0.0, 1.0])\n",
    "plt.title('ROC Curve for BOWs meet Bag of Popcore - Random Forest')\n",
    "plt.xlabel('False Positive Rate (1 - Specificity)')\n",
    "plt.ylabel('True Positive Rate (Sensitivity)')\n",
    "plt.grid(True)\n",
    "plt.show()"
   ]
  },
  {
   "cell_type": "code",
   "execution_count": 8,
   "metadata": {},
   "outputs": [
    {
     "name": "stdout",
     "output_type": "stream",
     "text": [
      "Support Vector Machine starts....\n",
      "Total time for training is:  446.7199196815491  seconds\n",
      "\n",
      "The area under the curve is:  0.938837638155\n",
      "The precision score is:  0.862635162195\n"
     ]
    }
   ],
   "source": [
    "# support vector machine\n",
    "\n",
    "print('Support Vector Machine starts....')\n",
    "\n",
    "start = time.time()\n",
    "\n",
    "# The probability = True means that we want to work out the probability of a review being classified as label == 1\n",
    "svm = SVC(C = 200, kernel = 'rbf', probability = True)\n",
    "svm.fit(training_data, training_data_label)\n",
    "result_svm = svm.predict(validation_data)\n",
    "result_prob_svm = svm.predict_proba(validation_data)[:, 1]\n",
    "\n",
    "# Calculating the precision score\n",
    "precision_svm = metrics.precision_score(true, result_svm)\n",
    "\n",
    "# Calculating the AUC\n",
    "fpr_svm, tpr_svm, thresholds_svm = metrics.roc_curve(true, result_prob_svm, pos_label=1)\n",
    "auc_svm = metrics.auc(fpr_svm, tpr_svm)\n",
    "\n",
    "end = time.time()\n",
    "print('Total time for training is: ', end - start, ' seconds\\n')\n",
    "print('The area under the curve is: ', auc_svm)\n",
    "print('The precision score is: ', precision_svm)"
   ]
  },
  {
   "cell_type": "code",
   "execution_count": 9,
   "metadata": {},
   "outputs": [
    {
     "data": {
      "image/png": "[encoded data removed]",
      "text/plain": [
       "<matplotlib.figure.Figure at 0x2ec8cd42080>"
      ]
     },
     "metadata": {},
     "output_type": "display_data"
    }
   ],
   "source": [
    "plt.plot(fpr_svm, tpr_svm)\n",
    "plt.xlim([0.0, 1.0])\n",
    "plt.ylim([0.0, 1.0])\n",
    "plt.title('ROC Curve for BOWs meet Bag of Popcore - SVM')\n",
    "plt.xlabel('False Positive Rate (1 - Specificity)')\n",
    "plt.ylabel('True Positive Rate (Sensitivity)')\n",
    "plt.grid(True)\n",
    "plt.show()"
   ]
  },
  {
   "cell_type": "markdown",
   "metadata": {},
   "source": [
    "I tried the above model with various values of hyperparamters. And it is true that if you, for instance, increase the value of C in logistics regression, the area under the ROC curve increases. Here we use logistics regression to output the results."
   ]
  },
  {
   "cell_type": "code",
   "execution_count": 10,
   "metadata": {
    "collapsed": true
   },
   "outputs": [],
   "source": [
    "# Test & extract results \n",
    "result = lr.predict( testDataVecs )\n",
    "\n",
    "# Write the test results \n",
    "output = pd.DataFrame( data={\"id\":test_data[\"id\"], \"sentiment\":result} )\n",
    "output.to_csv( \"Word2Vec_AverageVectors.csv\", index=False, quoting=3 )"
   ]
  },
  {
   "cell_type": "markdown",
   "metadata": {},
   "source": [
    "We could also plot the ROC curves above together in one plot and get a more intuitve answer of which model performs better."
   ]
  },
  {
   "cell_type": "code",
   "execution_count": 30,
   "metadata": {},
   "outputs": [
    {
     "data": {
      "text/plain": [
       "<matplotlib.figure.Figure at 0x2ecf127bda0>"
      ]
     },
     "metadata": {},
     "output_type": "display_data"
    },
    {
     "data": {
      "image/png": "[encoded data removed]",
      "text/plain": [
       "<matplotlib.figure.Figure at 0x2ecefba5ef0>"
      ]
     },
     "metadata": {},
     "output_type": "display_data"
    }
   ],
   "source": [
    "plt.plot(fpr_lr, tpr_lr, label = 'LR')\n",
    "plt.plot(fpr_forest, tpr_forest, label = 'Forest')\n",
    "plt.plot(fpr_svm, tpr_svm, label = 'SVM')\n",
    "plt.xlim([0.0, 1.0])\n",
    "plt.ylim([0.0, 1.0])\n",
    "plt.title('ROC Curve for BOWs meet Bag of Popcore - Model Comparision')\n",
    "plt.xlabel('False Positive Rate (1 - Specificity)')\n",
    "plt.ylabel('True Positive Rate (Sensitivity)')\n",
    "plt.grid(True)\n",
    "plt.legend()\n",
    "plt.show()"
   ]
  },
  {
   "cell_type": "markdown",
   "metadata": {},
   "source": [
    "## 2.2 Use pre-trained word embedding\n",
    "\n",
    "Another path for improving performance is to consider using pretrained word embedding. The pretrained word embedding, such as [Glove Embedding](http://nlp.stanford.edu/data/glove.6B.zip), is trained with much larger text data and based on it, we may work out more accurate review representation.\n",
    "\n",
    "The following codes show how to generate word vectors using Glove."
   ]
  },
  {
   "cell_type": "code",
   "execution_count": 11,
   "metadata": {},
   "outputs": [
    {
     "data": {
      "text/plain": [
       "(400000, 300)"
      ]
     },
     "execution_count": 11,
     "metadata": {},
     "output_type": "execute_result"
    }
   ],
   "source": [
    "glove_input_file = 'glove.6B.300d.txt'\n",
    "word2vec_output_file = 'glove.6B.300d.txt.word2vec'\n",
    "glove2word2vec(glove_input_file, word2vec_output_file)"
   ]
  },
  {
   "cell_type": "code",
   "execution_count": 12,
   "metadata": {
    "collapsed": true
   },
   "outputs": [],
   "source": [
    "filename = 'glove.6B.300d.txt.word2vec'\n",
    "model_Glove = models.KeyedVectors.load_word2vec_format(filename, binary=False)"
   ]
  },
  {
   "cell_type": "code",
   "execution_count": 13,
   "metadata": {},
   "outputs": [
    {
     "data": {
      "text/plain": [
       "array([-0.138     , -0.12203   ,  0.0054643 , -0.010215  ,  0.13134   ,\n",
       "        0.28615999, -0.36436   , -0.035735  , -0.17218   , -0.38863999,\n",
       "        0.58636999,  0.13189   , -0.1513    ,  0.35515001, -0.34298   ,\n",
       "       -0.54394001, -0.40301999, -0.17129   ,  0.19899   ,  0.24316999,\n",
       "        0.21332   ,  0.60334998,  0.22555999,  0.46382001,  0.064101  ,\n",
       "        0.36409   ,  0.25328001, -0.79771   ,  0.26771   ,  0.42462   ,\n",
       "       -0.62075001,  0.31208   , -0.25316   ,  0.13562   , -1.13230002,\n",
       "        0.0099104 , -0.62471002, -0.048047  ,  0.23139   ,  0.16102   ,\n",
       "        0.24774   , -0.26148999, -0.17341   ,  0.34005001,  0.21511   ,\n",
       "       -0.26714   ,  0.45697999, -0.13671   ,  0.11654   , -0.12222   ,\n",
       "        0.062068  , -0.45585001, -0.30114999,  0.11208   ,  0.31145999,\n",
       "       -0.048065  ,  0.10067   ,  0.1441    ,  0.27138999, -0.17809001,\n",
       "       -0.41069001,  0.093994  ,  0.49900001,  0.023845  ,  0.42438   ,\n",
       "       -0.027703  ,  0.044485  , -0.15928   ,  0.45054001,  0.13142   ,\n",
       "        0.19913   ,  0.36482999,  0.26074001,  0.55475003,  0.47257999,\n",
       "       -0.43103999,  0.23181   , -0.177     ,  0.21771   , -0.37325001,\n",
       "       -0.15304001, -0.45236999,  0.68006998, -0.15976   , -0.094521  ,\n",
       "        0.6455    ,  0.10443   , -0.19616   ,  0.027374  , -0.24713001,\n",
       "       -0.24108   ,  0.24404   , -0.0066751 , -0.055555  , -0.13255   ,\n",
       "        0.28159001,  0.10104   ,  0.26668999, -0.20363   , -1.24989998,\n",
       "        0.17955001,  0.16492   ,  0.29045999,  0.078206  ,  0.36390999,\n",
       "        0.1972    , -0.38922   , -0.08842   ,  0.36837   , -0.46351001,\n",
       "       -0.05688   ,  0.23692   ,  0.25946   , -0.0092949 ,  0.55123001,\n",
       "        0.18404999, -0.070915  , -0.12582999, -0.33537999, -0.62159997,\n",
       "        0.10658   , -0.04339   ,  0.054995  ,  0.46283001,  0.088233  ,\n",
       "        0.051282  ,  0.30241999,  0.045697  , -0.30008999,  0.086718  ,\n",
       "       -0.075517  ,  0.10886   , -0.018905  ,  0.11489   ,  0.30603999,\n",
       "       -0.014883  , -0.20548999, -0.11995   , -0.57362002,  0.71357   ,\n",
       "       -0.0056715 , -0.11205   , -0.32317999, -0.058222  , -0.36445999,\n",
       "       -0.68901002,  0.07647   , -0.027654  , -0.080254  , -0.22787   ,\n",
       "        0.35799   , -0.21695   , -0.20211001, -0.23661999,  0.58239001,\n",
       "        0.12348   ,  0.053221  ,  0.21873   , -0.11821   ,  0.11212   ,\n",
       "        0.79702997, -0.30937001,  0.20630001, -0.17314   ,  0.01498   ,\n",
       "        0.76045001,  0.075878  ,  0.047252  , -0.35795   ,  0.30923   ,\n",
       "       -0.082989  , -0.30638   , -1.69710004,  0.055546  ,  0.089201  ,\n",
       "        0.38312   , -0.33247   , -0.13426   , -0.049802  , -0.41536   ,\n",
       "       -0.13256   , -0.066477  , -0.18844999,  0.17873999,  0.19334   ,\n",
       "       -0.22544   ,  0.023197  , -0.33430001,  0.21698999, -0.16357   ,\n",
       "       -0.33379999, -0.15257999, -0.27452999, -0.2123    , -0.38512   ,\n",
       "       -0.39829001, -0.74720001,  0.19217999, -0.15262   , -0.26095   ,\n",
       "        1.95060003, -0.30508   ,  0.11658   ,  0.01811   ,  0.38870001,\n",
       "        0.02532   , -0.073168  ,  0.08531   , -0.26947001, -0.41580001,\n",
       "       -0.52560002, -0.36179999,  0.1364    ,  0.14176001,  0.080273  ,\n",
       "        0.31376001,  0.12755001,  0.1358    ,  0.25488999,  0.33135   ,\n",
       "       -0.75424999, -0.10576   ,  0.036561  , -0.15502   , -0.41141   ,\n",
       "       -0.1202    ,  0.27146   , -0.44042   , -0.29210001, -0.11905   ,\n",
       "        0.62502003, -0.27724001, -0.59457999, -0.31237   ,  0.30283001,\n",
       "        0.28397   ,  0.75238001, -0.12298   , -0.32536   ,  0.12182   ,\n",
       "        0.40979001,  0.15839   , -0.26725   , -0.21228001, -0.51142001,\n",
       "       -0.34827   , -0.42787999, -0.10433   , -0.58670998,  0.26117   ,\n",
       "       -0.021263  , -0.16688   , -0.42096999,  1.00590003,  0.23807999,\n",
       "       -0.80146998,  0.39030001, -0.34794   ,  0.54536998, -0.14279   ,\n",
       "        0.17518   , -0.083995  ,  0.13864   , -0.36320999,  0.44685999,\n",
       "       -0.18776   ,  0.17833   , -0.19966   ,  0.53591001,  0.57661998,\n",
       "        0.54154003, -0.10555   , -0.27472001,  0.11733   ,  0.22361   ,\n",
       "        0.32644999, -1.6279    , -0.14297   , -0.010648  , -0.62519002,\n",
       "       -0.037267  , -0.35863   ,  0.023786  , -0.059398  , -0.10813   ,\n",
       "        0.59328002, -0.11333   , -0.1525    , -0.14136   ,  0.67566001,\n",
       "        0.11331   ,  0.15394001, -0.32260001,  0.017754  , -0.97517997,\n",
       "        0.021112  , -0.15476   ,  0.19934   ,  0.057473  , -0.023767  ], dtype=float32)"
      ]
     },
     "execution_count": 13,
     "metadata": {},
     "output_type": "execute_result"
    }
   ],
   "source": [
    "model_Glove['movie']"
   ]
  },
  {
   "cell_type": "markdown",
   "metadata": {},
   "source": [
    "Then we follow the previous steps of generating represenation of each review."
   ]
  },
  {
   "cell_type": "code",
   "execution_count": 14,
   "metadata": {
    "collapsed": true
   },
   "outputs": [],
   "source": [
    "def makeFeatureVec(sentence, model, num_features):\n",
    "    # Function to average all of the word vectors in a given\n",
    "    # paragraph\n",
    "    #\n",
    "    # Pre-initialize an empty numpy array (for speed)\n",
    "    featureVec = np.zeros((300,),dtype=\"float32\")\n",
    "    #\n",
    "    nwords = 0.\n",
    "    #\n",
    "    # Index2word is a list that contains the names of the words in \n",
    "    # the model's vocabulary. Convert it to a set, for speed \n",
    "    index2word_set = set(model.wv.index2word)\n",
    "    # Loop over each word in the review\n",
    "    for word in sentence:\n",
    "        if word in index2word_set:\n",
    "            nwords = nwords + 1.\n",
    "            featureVec = np.add(featureVec,model[word])\n",
    "    # \n",
    "    # Divide the result by the number of words to get the average\n",
    "    featureVec = np.divide(featureVec,nwords)\n",
    "    return featureVec\n",
    "\n",
    "def getAvgFeatureVecs(reviews, model, num_features):\n",
    "    # Given a set of reviews (each one a list of words), calculate \n",
    "    # the average feature vector for each one and return a 2D numpy array \n",
    "    # \n",
    "    # Initialize a counter\n",
    "    counter = 0\n",
    "    # \n",
    "    # Preallocate a 2D numpy array, for speed\n",
    "    reviewFeatureVecs = np.zeros((len(reviews),num_features),dtype=\"float32\")\n",
    "    # \n",
    "    # Loop through the reviews\n",
    "    for review in reviews:\n",
    "       #\n",
    "       # Print a status message every 1000th review\n",
    "        if counter % 1000. == 0.:\n",
    "            print(\"Review %d of %d\" % (counter, len(reviews)))\n",
    "       # \n",
    "       # Call the function (defined above) that makes average feature vectors\n",
    "        reviewFeatureVecs[int(counter),] = makeFeatureVec(review, model, num_features)\n",
    "       #\n",
    "       # Increment the counter\n",
    "        counter = counter + 1.\n",
    "    return reviewFeatureVecs"
   ]
  },
  {
   "cell_type": "code",
   "execution_count": 15,
   "metadata": {},
   "outputs": [
    {
     "name": "stdout",
     "output_type": "stream",
     "text": [
      "Cleaning the labeled training set movie reviews...\n"
     ]
    },
    {
     "name": "stderr",
     "output_type": "stream",
     "text": [
      "f:\\python\\lib\\site-packages\\bs4\\__init__.py:181: UserWarning: No parser was explicitly specified, so I'm using the best available HTML parser for this system (\"html5lib\"). This usually isn't a problem, but if you run this code on another system, or in a different virtual environment, it may use a different parser and behave differently.\n",
      "\n",
      "The code that caused this warning is on line 184 of the file f:\\python\\lib\\runpy.py. To get rid of this warning, change code that looks like this:\n",
      "\n",
      " BeautifulSoup(YOUR_MARKUP})\n",
      "\n",
      "to this:\n",
      "\n",
      " BeautifulSoup(YOUR_MARKUP, \"html5lib\")\n",
      "\n",
      "  markup_type=markup_type))\n"
     ]
    },
    {
     "name": "stdout",
     "output_type": "stream",
     "text": [
      "Review 1000 of 25000\n",
      "\n",
      "Review 2000 of 25000\n",
      "\n",
      "Review 3000 of 25000\n",
      "\n",
      "Review 4000 of 25000\n",
      "\n",
      "Review 5000 of 25000\n",
      "\n",
      "Review 6000 of 25000\n",
      "\n",
      "Review 7000 of 25000\n",
      "\n",
      "Review 8000 of 25000\n",
      "\n",
      "Review 9000 of 25000\n",
      "\n",
      "Review 10000 of 25000\n",
      "\n",
      "Review 11000 of 25000\n",
      "\n",
      "Review 12000 of 25000\n",
      "\n",
      "Review 13000 of 25000\n",
      "\n",
      "Review 14000 of 25000\n",
      "\n",
      "Review 15000 of 25000\n",
      "\n",
      "Review 16000 of 25000\n",
      "\n",
      "Review 17000 of 25000\n",
      "\n",
      "Review 18000 of 25000\n",
      "\n",
      "Review 19000 of 25000\n",
      "\n",
      "Review 20000 of 25000\n",
      "\n",
      "Review 21000 of 25000\n",
      "\n",
      "Review 22000 of 25000\n",
      "\n",
      "Review 23000 of 25000\n",
      "\n",
      "Review 24000 of 25000\n",
      "\n",
      "Review 25000 of 25000\n",
      "\n"
     ]
    }
   ],
   "source": [
    "def review_to_words(raw_review, remove_stopwords = False ):\n",
    "\n",
    "    # 1. Remove HTML\n",
    "    try:\n",
    "        review_text = BeautifulSoup(raw_review).get_text() \n",
    "    except TypeError:\n",
    "        # Here if we just use the beautifulsoup to clean the data, we notice that some texts just become none \n",
    "        # and it will cause TypeError. Hence, we just add a value to this None case.\n",
    "        review_text = \"None\"\n",
    "    #\n",
    "    # 2. Remove non-letters        \n",
    "    letters_only = re.sub(\"[^a-zA-Z]\", \" \", review_text) \n",
    "    #\n",
    "    # 3. Convert to lower case, split into individual words\n",
    "    words = letters_only.lower().split()                             \n",
    "    #\n",
    "    # 4. Remove stop words\n",
    "    # In Python, searching a set is much faster than searchin a list, so convert the stop words to a set\n",
    "    if remove_stopwords:\n",
    "        stops = set(stopwords.words(\"english\"))                  \n",
    "        words = [w for w in words if not w in stops]   \n",
    "    #\n",
    "    # 5. Join the words back into one string separated by space, and return the result.\n",
    "    return words\n",
    "\n",
    "# Get the number of reviews based on the dataframe column size\n",
    "num_reviews = labeled_train[\"review\"].size\n",
    "\n",
    "# Initialize an empty list to hold the clean reviews\n",
    "clean_labeled_train_reviews = []\n",
    "\n",
    "print('Cleaning the labeled training set movie reviews...')\n",
    "\n",
    "# Loop over each review; create an index i that goes from 0 to the length\n",
    "# of the movie review list \n",
    "for i in range(num_reviews):\n",
    "    if ((i+1) % 1000 == 0):\n",
    "        print(\"Review %d of %d\\n\" % ( i+1, num_reviews ))\n",
    "    clean_labeled_train_reviews.append( review_to_words( labeled_train[\"review\"][i] ) )"
   ]
  },
  {
   "cell_type": "code",
   "execution_count": 16,
   "metadata": {},
   "outputs": [
    {
     "name": "stdout",
     "output_type": "stream",
     "text": [
      "Cleaning the test dataset movie reviews...\n"
     ]
    },
    {
     "name": "stderr",
     "output_type": "stream",
     "text": [
      "f:\\python\\lib\\site-packages\\bs4\\__init__.py:181: UserWarning: No parser was explicitly specified, so I'm using the best available HTML parser for this system (\"html5lib\"). This usually isn't a problem, but if you run this code on another system, or in a different virtual environment, it may use a different parser and behave differently.\n",
      "\n",
      "The code that caused this warning is on line 184 of the file f:\\python\\lib\\runpy.py. To get rid of this warning, change code that looks like this:\n",
      "\n",
      " BeautifulSoup(YOUR_MARKUP})\n",
      "\n",
      "to this:\n",
      "\n",
      " BeautifulSoup(YOUR_MARKUP, \"html5lib\")\n",
      "\n",
      "  markup_type=markup_type))\n"
     ]
    },
    {
     "name": "stdout",
     "output_type": "stream",
     "text": [
      "Review 1000 of 25000\n",
      "\n",
      "Review 2000 of 25000\n",
      "\n",
      "Review 3000 of 25000\n",
      "\n",
      "Review 4000 of 25000\n",
      "\n",
      "Review 5000 of 25000\n",
      "\n",
      "Review 6000 of 25000\n",
      "\n",
      "Review 7000 of 25000\n",
      "\n",
      "Review 8000 of 25000\n",
      "\n",
      "Review 9000 of 25000\n",
      "\n",
      "Review 10000 of 25000\n",
      "\n",
      "Review 11000 of 25000\n",
      "\n",
      "Review 12000 of 25000\n",
      "\n",
      "Review 13000 of 25000\n",
      "\n",
      "Review 14000 of 25000\n",
      "\n",
      "Review 15000 of 25000\n",
      "\n",
      "Review 16000 of 25000\n",
      "\n",
      "Review 17000 of 25000\n",
      "\n",
      "Review 18000 of 25000\n",
      "\n",
      "Review 19000 of 25000\n",
      "\n",
      "Review 20000 of 25000\n",
      "\n",
      "Review 21000 of 25000\n",
      "\n",
      "Review 22000 of 25000\n",
      "\n",
      "Review 23000 of 25000\n",
      "\n",
      "Review 24000 of 25000\n",
      "\n",
      "Review 25000 of 25000\n",
      "\n"
     ]
    }
   ],
   "source": [
    "# Get the number of reviews based on the dataframe column size\n",
    "num_reviews = test_data[\"review\"].size\n",
    "\n",
    "# Initialize an empty list to hold the clean reviews\n",
    "clean_test_data_reviews = []\n",
    "\n",
    "print('Cleaning the test dataset movie reviews...')\n",
    "\n",
    "# Loop over each review; create an index i that goes from 0 to the length\n",
    "# of the movie review list \n",
    "\n",
    "for i in range(num_reviews):\n",
    "    if ((i+1) % 1000 == 0):\n",
    "        print(\"Review %d of %d\\n\" % ( i+1, num_reviews ))\n",
    "    clean_test_data_reviews.append( review_to_words( test_data[\"review\"][i] ) )"
   ]
  },
  {
   "cell_type": "code",
   "execution_count": 17,
   "metadata": {},
   "outputs": [
    {
     "name": "stdout",
     "output_type": "stream",
     "text": [
      "Creating average feature vecs for training reviews\n",
      "Review 0 of 25000\n",
      "Review 1000 of 25000\n",
      "Review 2000 of 25000\n",
      "Review 3000 of 25000\n",
      "Review 4000 of 25000\n",
      "Review 5000 of 25000\n",
      "Review 6000 of 25000\n",
      "Review 7000 of 25000\n",
      "Review 8000 of 25000\n",
      "Review 9000 of 25000\n",
      "Review 10000 of 25000\n",
      "Review 11000 of 25000\n",
      "Review 12000 of 25000\n",
      "Review 13000 of 25000\n",
      "Review 14000 of 25000\n",
      "Review 15000 of 25000\n",
      "Review 16000 of 25000\n",
      "Review 17000 of 25000\n",
      "Review 18000 of 25000\n",
      "Review 19000 of 25000\n",
      "Review 20000 of 25000\n",
      "Review 21000 of 25000\n",
      "Review 22000 of 25000\n",
      "Review 23000 of 25000\n",
      "Review 24000 of 25000\n",
      "Creating average feature vecs for test reviews\n",
      "Review 0 of 25000\n",
      "Review 1000 of 25000\n",
      "Review 2000 of 25000\n",
      "Review 3000 of 25000\n",
      "Review 4000 of 25000\n",
      "Review 5000 of 25000\n",
      "Review 6000 of 25000\n",
      "Review 7000 of 25000\n",
      "Review 8000 of 25000\n",
      "Review 9000 of 25000\n",
      "Review 10000 of 25000\n",
      "Review 11000 of 25000\n",
      "Review 12000 of 25000\n",
      "Review 13000 of 25000\n",
      "Review 14000 of 25000\n",
      "Review 15000 of 25000\n",
      "Review 16000 of 25000\n",
      "Review 17000 of 25000\n",
      "Review 18000 of 25000\n",
      "Review 19000 of 25000\n",
      "Review 20000 of 25000\n",
      "Review 21000 of 25000\n",
      "Review 22000 of 25000\n",
      "Review 23000 of 25000\n",
      "Review 24000 of 25000\n"
     ]
    }
   ],
   "source": [
    "# ****************************************************************\n",
    "# Calculate average feature vectors for training and testing sets,\n",
    "# using the functions we defined above. Notice that we now use stop word\n",
    "# removal.\n",
    "\n",
    "# You should run the codes again in Bag of words meet bag of popcorn_warm up to get the clean_labeled_train_reviews and the \n",
    "# clean_test_data_reviews\n",
    "\n",
    "print(\"Creating average feature vecs for training reviews\")\n",
    "\n",
    "trainDataVecs_Glove = getAvgFeatureVecs(clean_labeled_train_reviews, model_Glove, 300)\n",
    "\n",
    "print(\"Creating average feature vecs for test reviews\")\n",
    "\n",
    "testDataVecs_Glove = getAvgFeatureVecs(clean_test_data_reviews, model_Glove, 300)"
   ]
  },
  {
   "cell_type": "code",
   "execution_count": 18,
   "metadata": {
    "collapsed": true
   },
   "outputs": [],
   "source": [
    "np.save('trainDataVecs_Glove', trainDataVecs_Glove )\n",
    "np.save('testDataVecs_Glove', testDataVecs_Glove)"
   ]
  },
  {
   "cell_type": "code",
   "execution_count": 19,
   "metadata": {
    "collapsed": true
   },
   "outputs": [],
   "source": [
    "trainDataVecs_Glove = np.load('trainDataVecs_Glove.npy')\n",
    "testDataVecs_Glove = np.load('testDataVecs_Glove.npy')"
   ]
  },
  {
   "cell_type": "code",
   "execution_count": 20,
   "metadata": {
    "collapsed": true
   },
   "outputs": [],
   "source": [
    "training_data_Glove = trainDataVecs_Glove[0:15000,:]\n",
    "training_data_label_Glove = labeled_train['sentiment'][:15000]\n",
    "validation_data_Glove = trainDataVecs_Glove[15000:20000,:]\n",
    "validation_data_label_Glove = labeled_train['sentiment'][15000:20000]\n",
    "test_data_for_train_Glove = trainDataVecs_Glove[20000:,:]\n",
    "test_data_for_train_label_Glove = labeled_train['sentiment'][20000:]"
   ]
  },
  {
   "cell_type": "code",
   "execution_count": 21,
   "metadata": {},
   "outputs": [
    {
     "name": "stdout",
     "output_type": "stream",
     "text": [
      "Logistics Regression Glove starts.....\n",
      "Total time for training is:  2.9259889125823975  seconds\n",
      "\n",
      "The area under the curve is:  0.918438183775\n",
      "The precision score is:  0.846091861402\n"
     ]
    }
   ],
   "source": [
    "# logistics regression\n",
    "\n",
    "print('Logistics Regression Glove starts.....')\n",
    "\n",
    "start = time.time()\n",
    "\n",
    "lr = LogisticRegression(C=40, random_state=0)                          \n",
    "lr.fit(training_data_Glove, training_data_label_Glove)\n",
    "result_lr_Glove = lr.predict(validation_data_Glove)\n",
    "true = np.array(validation_data_label_Glove)\n",
    "result_prob_lr_Glove = lr.predict_proba(validation_data_Glove )[:, 1]\n",
    "\n",
    "# Calculating the precision score\n",
    "precision_lr_Glove = metrics.precision_score(true, result_lr_Glove )\n",
    "\n",
    "# Calculating the AUC\n",
    "fpr_lr_Glove, tpr_lr_Glove, thresholds_lr_Glove = metrics.roc_curve(true, result_prob_lr_Glove, pos_label=1)\n",
    "auc_lr_Glove = metrics.auc(fpr_lr_Glove, tpr_lr_Glove)\n",
    "\n",
    "end = time.time()\n",
    "\n",
    "print('Total time for training is: ', end - start, ' seconds\\n')\n",
    "print('The area under the curve is: ', auc_lr_Glove)\n",
    "print('The precision score is: ', precision_lr_Glove)"
   ]
  },
  {
   "cell_type": "code",
   "execution_count": 22,
   "metadata": {
    "collapsed": true
   },
   "outputs": [],
   "source": [
    "# Test & extract results \n",
    "result = lr.predict( testDataVecs_Glove )\n",
    "\n",
    "# Write the test results \n",
    "output = pd.DataFrame( data={\"id\":test_data[\"id\"], \"sentiment\":result} )\n",
    "output.to_csv( \"Word2Vec_AverageVectors.csv\", index=False, quoting=3 )"
   ]
  },
  {
   "cell_type": "code",
   "execution_count": null,
   "metadata": {
    "collapsed": true
   },
   "outputs": [],
   "source": []
  }
 ],
 "metadata": {
  "kernelspec": {
   "display_name": "Python 3",
   "language": "python",
   "name": "python3"
  },
  "language_info": {
   "codemirror_mode": {
    "name": "ipython",
    "version": 3
   },
   "file_extension": ".py",
   "mimetype": "text/x-python",
   "name": "python",
   "nbconvert_exporter": "python",
   "pygments_lexer": "ipython3",
   "version": "3.5.2"
  }
 },
 "nbformat": 4,
 "nbformat_minor": 2
}
