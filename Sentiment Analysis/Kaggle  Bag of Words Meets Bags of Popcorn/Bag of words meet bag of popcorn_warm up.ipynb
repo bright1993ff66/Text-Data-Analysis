{
 "cells": [
  {
   "cell_type": "markdown",
   "metadata": {},
   "source": [
    "# 1. Overview\n",
    "\n",
    "Let's first import the modules needed for this sentiment analysis project. The original data for this project could be downloaded in here:\n",
    "\n",
    "[Bag of Words Meets Bags of Popcorn](https://www.kaggle.com/c/word2vec-nlp-tutorial/data)"
   ]
  },
  {
   "cell_type": "code",
   "execution_count": 18,
   "metadata": {},
   "outputs": [],
   "source": [
    "import re\n",
    "import time\n",
    "import logging\n",
    "from bs4 import BeautifulSoup\n",
    "\n",
    "import numpy as np\n",
    "import pandas as pd\n",
    "from matplotlib import pyplot as plt\n",
    "\n",
    "import nltk\n",
    "from nltk import data\n",
    "from nltk.corpus import stopwords\n",
    "from nltk.stem.lancaster import LancasterStemmer\n",
    "\n",
    "from sklearn.ensemble import RandomForestClassifier\n",
    "from sklearn.linear_model import LogisticRegression\n",
    "from sklearn.svm import SVC\n",
    "from sklearn.neural_network import MLPClassifier\n",
    "from sklearn.manifold import TSNE\n",
    "from sklearn.metrics import f1_score, precision_score, recall_score, accuracy_score, classification_report,confusion_matrix, roc_curve, auc\n",
    "\n",
    "import tensorflow as tf\n",
    "\n",
    "import gensim\n",
    "from gensim.models import Word2Vec"
   ]
  },
  {
   "cell_type": "markdown",
   "metadata": {},
   "source": [
    "First, load the dataset. We use pandas to read the tab delimited file."
   ]
  },
  {
   "cell_type": "code",
   "execution_count": 2,
   "metadata": {
    "collapsed": true
   },
   "outputs": [],
   "source": [
    "\"\"\"\"\n",
    "header=0: indicates that the first line of the file contains column names\n",
    "\"delimiter=\\t\": indicates that the fields are separated by tabs\n",
    "quoting=3: tells Python to ignore doubled quotes\n",
    "\"\"\"\n",
    "\n",
    "labeled_train = pd.read_csv(\"labeledTrainData.tsv\", header=0, delimiter=\"\\t\", quoting=3)\n",
    "unlabeled_train = pd.read_csv(\"unlabeledTrainData.tsv\", header=0, delimiter=\"\\t\", quoting=3)\n",
    "test_data = pd.read_csv(\"testData.tsv\", header=0, delimiter=\"\\t\", quoting=3)"
   ]
  },
  {
   "cell_type": "code",
   "execution_count": 3,
   "metadata": {},
   "outputs": [
    {
     "data": {
      "text/plain": [
       "Index(['id', 'sentiment', 'review'], dtype='object')"
      ]
     },
     "execution_count": 3,
     "metadata": {},
     "output_type": "execute_result"
    }
   ],
   "source": [
    "labeled_train.columns"
   ]
  },
  {
   "cell_type": "markdown",
   "metadata": {},
   "source": [
    "As a remainder, the following code shows the first review given by a user. From the review, we could see HTML tags, abbreviations, punctuations. We need to clean the data before putting it to a machine learning model."
   ]
  },
  {
   "cell_type": "code",
   "execution_count": 4,
   "metadata": {},
   "outputs": [
    {
     "data": {
      "text/plain": [
       "'\"With all this stuff going down at the moment with MJ i\\'ve started listening to his music, watching the odd documentary here and there, watched The Wiz and watched Moonwalker again. Maybe i just want to get a certain insight into this guy who i thought was really cool in the eighties just to maybe make up my mind whether he is guilty or innocent. Moonwalker is part biography, part feature film which i remember going to see at the cinema when it was originally released. Some of it has subtle messages about MJ\\'s feeling towards the press and also the obvious message of drugs are bad m\\'kay.<br /><br />Visually impressive but of course this is all about Michael Jackson so unless you remotely like MJ in anyway then you are going to hate this and find it boring. Some may call MJ an egotist for consenting to the making of this movie BUT MJ and most of his fans would say that he made it for the fans which if true is really nice of him.<br /><br />The actual feature film bit when it finally starts is only on for 20 minutes or so excluding the Smooth Criminal sequence and Joe Pesci is convincing as a psychopathic all powerful drug lord. Why he wants MJ dead so bad is beyond me. Because MJ overheard his plans? Nah, Joe Pesci\\'s character ranted that he wanted people to know it is he who is supplying drugs etc so i dunno, maybe he just hates MJ\\'s music.<br /><br />Lots of cool things in this like MJ turning into a car and a robot and the whole Speed Demon sequence. Also, the director must have had the patience of a saint when it came to filming the kiddy Bad sequence as usually directors hate working with one kid let alone a whole bunch of them performing a complex dance scene.<br /><br />Bottom line, this movie is for people who like MJ on one level or another (which i think is most people). If not, then stay away. It does try and give off a wholesome message and ironically MJ\\'s bestest buddy in this movie is a girl! Michael Jackson is truly one of the most talented people ever to grace this planet but is he guilty? Well, with all the attention i\\'ve gave this subject....hmmm well i don\\'t know because people can be different behind closed doors, i know this for a fact. He is either an extremely nice but stupid guy or one of the most sickest liars. I hope he is not the latter.\"'"
      ]
     },
     "execution_count": 4,
     "metadata": {},
     "output_type": "execute_result"
    }
   ],
   "source": [
    "labeled_train['review'][0]"
   ]
  },
  {
   "cell_type": "markdown",
   "metadata": {},
   "source": [
    "# 2. Data Cleaning\n",
    "\n",
    "In this part, we are going to do the text data preprocessing, which mainly includes deleting the punctuations, removing HTML tags, removing non-letters, etc. The following function shows how to finish these data cleaning steps."
   ]
  },
  {
   "cell_type": "code",
   "execution_count": 5,
   "metadata": {
    "collapsed": true
   },
   "outputs": [],
   "source": [
    "def review_to_words(raw_review, remove_stopwords = False ):\n",
    "\n",
    "    # 1. Remove HTML\n",
    "    try:\n",
    "        review_text = BeautifulSoup(raw_review).get_text() \n",
    "    except TypeError:\n",
    "        # Here if we just use the beautifulsoup to clean the data, we notice that some texts just become none \n",
    "        # and it will cause TypeError. Hence, we just add a value to this None case.\n",
    "        review_text = \"None\"\n",
    "    #\n",
    "    # 2. Remove non-letters        \n",
    "    letters_only = re.sub(\"[^a-zA-Z]\", \" \", review_text) \n",
    "    #\n",
    "    # 3. Convert to lower case, split into individual words\n",
    "    words = letters_only.lower().split()                             \n",
    "    #\n",
    "    # 4. Remove stop words\n",
    "    # In Python, searching a set is much faster than searchin a list, so convert the stop words to a set\n",
    "    if remove_stopwords:\n",
    "        stops = set(stopwords.words(\"english\"))                  \n",
    "        words = [w for w in words if not w in stops]   \n",
    "    #\n",
    "    # 5. Join the words back into one string separated by space, and return the result.\n",
    "    return words"
   ]
  },
  {
   "cell_type": "code",
   "execution_count": 6,
   "metadata": {},
   "outputs": [
    {
     "name": "stdout",
     "output_type": "stream",
     "text": [
      "['with', 'all', 'this', 'stuff', 'going', 'down', 'at', 'the', 'moment', 'with', 'mj', 'i', 've', 'started', 'listening', 'to', 'his', 'music', 'watching', 'the', 'odd', 'documentary', 'here', 'and', 'there', 'watched', 'the', 'wiz', 'and', 'watched', 'moonwalker', 'again', 'maybe', 'i', 'just', 'want', 'to', 'get', 'a', 'certain', 'insight', 'into', 'this', 'guy', 'who', 'i', 'thought', 'was', 'really', 'cool', 'in', 'the', 'eighties', 'just', 'to', 'maybe', 'make', 'up', 'my', 'mind', 'whether', 'he', 'is', 'guilty', 'or', 'innocent', 'moonwalker', 'is', 'part', 'biography', 'part', 'feature', 'film', 'which', 'i', 'remember', 'going', 'to', 'see', 'at', 'the', 'cinema', 'when', 'it', 'was', 'originally', 'released', 'some', 'of', 'it', 'has', 'subtle', 'messages', 'about', 'mj', 's', 'feeling', 'towards', 'the', 'press', 'and', 'also', 'the', 'obvious', 'message', 'of', 'drugs', 'are', 'bad', 'm', 'kay', 'visually', 'impressive', 'but', 'of', 'course', 'this', 'is', 'all', 'about', 'michael', 'jackson', 'so', 'unless', 'you', 'remotely', 'like', 'mj', 'in', 'anyway', 'then', 'you', 'are', 'going', 'to', 'hate', 'this', 'and', 'find', 'it', 'boring', 'some', 'may', 'call', 'mj', 'an', 'egotist', 'for', 'consenting', 'to', 'the', 'making', 'of', 'this', 'movie', 'but', 'mj', 'and', 'most', 'of', 'his', 'fans', 'would', 'say', 'that', 'he', 'made', 'it', 'for', 'the', 'fans', 'which', 'if', 'true', 'is', 'really', 'nice', 'of', 'him', 'the', 'actual', 'feature', 'film', 'bit', 'when', 'it', 'finally', 'starts', 'is', 'only', 'on', 'for', 'minutes', 'or', 'so', 'excluding', 'the', 'smooth', 'criminal', 'sequence', 'and', 'joe', 'pesci', 'is', 'convincing', 'as', 'a', 'psychopathic', 'all', 'powerful', 'drug', 'lord', 'why', 'he', 'wants', 'mj', 'dead', 'so', 'bad', 'is', 'beyond', 'me', 'because', 'mj', 'overheard', 'his', 'plans', 'nah', 'joe', 'pesci', 's', 'character', 'ranted', 'that', 'he', 'wanted', 'people', 'to', 'know', 'it', 'is', 'he', 'who', 'is', 'supplying', 'drugs', 'etc', 'so', 'i', 'dunno', 'maybe', 'he', 'just', 'hates', 'mj', 's', 'music', 'lots', 'of', 'cool', 'things', 'in', 'this', 'like', 'mj', 'turning', 'into', 'a', 'car', 'and', 'a', 'robot', 'and', 'the', 'whole', 'speed', 'demon', 'sequence', 'also', 'the', 'director', 'must', 'have', 'had', 'the', 'patience', 'of', 'a', 'saint', 'when', 'it', 'came', 'to', 'filming', 'the', 'kiddy', 'bad', 'sequence', 'as', 'usually', 'directors', 'hate', 'working', 'with', 'one', 'kid', 'let', 'alone', 'a', 'whole', 'bunch', 'of', 'them', 'performing', 'a', 'complex', 'dance', 'scene', 'bottom', 'line', 'this', 'movie', 'is', 'for', 'people', 'who', 'like', 'mj', 'on', 'one', 'level', 'or', 'another', 'which', 'i', 'think', 'is', 'most', 'people', 'if', 'not', 'then', 'stay', 'away', 'it', 'does', 'try', 'and', 'give', 'off', 'a', 'wholesome', 'message', 'and', 'ironically', 'mj', 's', 'bestest', 'buddy', 'in', 'this', 'movie', 'is', 'a', 'girl', 'michael', 'jackson', 'is', 'truly', 'one', 'of', 'the', 'most', 'talented', 'people', 'ever', 'to', 'grace', 'this', 'planet', 'but', 'is', 'he', 'guilty', 'well', 'with', 'all', 'the', 'attention', 'i', 've', 'gave', 'this', 'subject', 'hmmm', 'well', 'i', 'don', 't', 'know', 'because', 'people', 'can', 'be', 'different', 'behind', 'closed', 'doors', 'i', 'know', 'this', 'for', 'a', 'fact', 'he', 'is', 'either', 'an', 'extremely', 'nice', 'but', 'stupid', 'guy', 'or', 'one', 'of', 'the', 'most', 'sickest', 'liars', 'i', 'hope', 'he', 'is', 'not', 'the', 'latter']\n"
     ]
    },
    {
     "name": "stderr",
     "output_type": "stream",
     "text": [
      "f:\\python\\lib\\site-packages\\bs4\\__init__.py:181: UserWarning: No parser was explicitly specified, so I'm using the best available HTML parser for this system (\"html5lib\"). This usually isn't a problem, but if you run this code on another system, or in a different virtual environment, it may use a different parser and behave differently.\n",
      "\n",
      "The code that caused this warning is on line 184 of the file f:\\python\\lib\\runpy.py. To get rid of this warning, change code that looks like this:\n",
      "\n",
      " BeautifulSoup(YOUR_MARKUP})\n",
      "\n",
      "to this:\n",
      "\n",
      " BeautifulSoup(YOUR_MARKUP, \"html5lib\")\n",
      "\n",
      "  markup_type=markup_type))\n"
     ]
    }
   ],
   "source": [
    "clean_review = review_to_words( labeled_train[\"review\"][0] )\n",
    "print(clean_review)"
   ]
  },
  {
   "cell_type": "markdown",
   "metadata": {},
   "source": [
    "Now we could use this function to clean all the reviews in the labeled_train, unlabeled train and test datasets."
   ]
  },
  {
   "cell_type": "code",
   "execution_count": 7,
   "metadata": {},
   "outputs": [
    {
     "name": "stderr",
     "output_type": "stream",
     "text": [
      "f:\\python\\lib\\site-packages\\bs4\\__init__.py:181: UserWarning: No parser was explicitly specified, so I'm using the best available HTML parser for this system (\"html5lib\"). This usually isn't a problem, but if you run this code on another system, or in a different virtual environment, it may use a different parser and behave differently.\n",
      "\n",
      "The code that caused this warning is on line 184 of the file f:\\python\\lib\\runpy.py. To get rid of this warning, change code that looks like this:\n",
      "\n",
      " BeautifulSoup(YOUR_MARKUP})\n",
      "\n",
      "to this:\n",
      "\n",
      " BeautifulSoup(YOUR_MARKUP, \"html5lib\")\n",
      "\n",
      "  markup_type=markup_type))\n"
     ]
    },
    {
     "name": "stdout",
     "output_type": "stream",
     "text": [
      "Cleaning the labeled training set movie reviews...\n",
      "Review 1000 of 25000\n",
      "\n",
      "Review 2000 of 25000\n",
      "\n",
      "Review 3000 of 25000\n",
      "\n",
      "Review 4000 of 25000\n",
      "\n",
      "Review 5000 of 25000\n",
      "\n",
      "Review 6000 of 25000\n",
      "\n",
      "Review 7000 of 25000\n",
      "\n",
      "Review 8000 of 25000\n",
      "\n",
      "Review 9000 of 25000\n",
      "\n",
      "Review 10000 of 25000\n",
      "\n",
      "Review 11000 of 25000\n",
      "\n",
      "Review 12000 of 25000\n",
      "\n",
      "Review 13000 of 25000\n",
      "\n",
      "Review 14000 of 25000\n",
      "\n",
      "Review 15000 of 25000\n",
      "\n",
      "Review 16000 of 25000\n",
      "\n",
      "Review 17000 of 25000\n",
      "\n",
      "Review 18000 of 25000\n",
      "\n",
      "Review 19000 of 25000\n",
      "\n",
      "Review 20000 of 25000\n",
      "\n",
      "Review 21000 of 25000\n",
      "\n",
      "Review 22000 of 25000\n",
      "\n",
      "Review 23000 of 25000\n",
      "\n",
      "Review 24000 of 25000\n",
      "\n",
      "Review 25000 of 25000\n",
      "\n"
     ]
    }
   ],
   "source": [
    "# Get the number of reviews based on the dataframe column size\n",
    "num_reviews = labeled_train[\"review\"].size\n",
    "\n",
    "# Initialize an empty list to hold the clean reviews\n",
    "clean_labeled_train_reviews = []\n",
    "\n",
    "print('Cleaning the labeled training set movie reviews...')\n",
    "\n",
    "# Loop over each review; create an index i that goes from 0 to the length\n",
    "# of the movie review list \n",
    "for i in range(num_reviews):\n",
    "    if ((i+1) % 1000 == 0):\n",
    "        print(\"Review %d of %d\\n\" % ( i+1, num_reviews ))\n",
    "    clean_labeled_train_reviews.append( review_to_words( labeled_train[\"review\"][i] ) )"
   ]
  },
  {
   "cell_type": "code",
   "execution_count": 8,
   "metadata": {},
   "outputs": [
    {
     "name": "stdout",
     "output_type": "stream",
     "text": [
      "Cleaning the unlabeled training set movie reviews...\n"
     ]
    },
    {
     "name": "stderr",
     "output_type": "stream",
     "text": [
      "f:\\python\\lib\\site-packages\\bs4\\__init__.py:181: UserWarning: No parser was explicitly specified, so I'm using the best available HTML parser for this system (\"html5lib\"). This usually isn't a problem, but if you run this code on another system, or in a different virtual environment, it may use a different parser and behave differently.\n",
      "\n",
      "The code that caused this warning is on line 184 of the file f:\\python\\lib\\runpy.py. To get rid of this warning, change code that looks like this:\n",
      "\n",
      " BeautifulSoup(YOUR_MARKUP})\n",
      "\n",
      "to this:\n",
      "\n",
      " BeautifulSoup(YOUR_MARKUP, \"html5lib\")\n",
      "\n",
      "  markup_type=markup_type))\n"
     ]
    },
    {
     "name": "stdout",
     "output_type": "stream",
     "text": [
      "Review 1000 of 115764\n",
      "\n",
      "Review 2000 of 115764\n",
      "\n",
      "Review 3000 of 115764\n",
      "\n",
      "Review 4000 of 115764\n",
      "\n",
      "Review 5000 of 115764\n",
      "\n",
      "Review 6000 of 115764\n",
      "\n",
      "Review 7000 of 115764\n",
      "\n",
      "Review 8000 of 115764\n",
      "\n",
      "Review 9000 of 115764\n",
      "\n",
      "Review 10000 of 115764\n",
      "\n",
      "Review 11000 of 115764\n",
      "\n",
      "Review 12000 of 115764\n",
      "\n",
      "Review 13000 of 115764\n",
      "\n",
      "Review 14000 of 115764\n",
      "\n",
      "Review 15000 of 115764\n",
      "\n",
      "Review 16000 of 115764\n",
      "\n",
      "Review 17000 of 115764\n",
      "\n",
      "Review 18000 of 115764\n",
      "\n",
      "Review 19000 of 115764\n",
      "\n",
      "Review 20000 of 115764\n",
      "\n",
      "Review 21000 of 115764\n",
      "\n",
      "Review 22000 of 115764\n",
      "\n",
      "Review 23000 of 115764\n",
      "\n",
      "Review 24000 of 115764\n",
      "\n",
      "Review 25000 of 115764\n",
      "\n",
      "Review 26000 of 115764\n",
      "\n",
      "Review 27000 of 115764\n",
      "\n",
      "Review 28000 of 115764\n",
      "\n",
      "Review 29000 of 115764\n",
      "\n",
      "Review 30000 of 115764\n",
      "\n",
      "Review 31000 of 115764\n",
      "\n",
      "Review 32000 of 115764\n",
      "\n",
      "Review 33000 of 115764\n",
      "\n",
      "Review 34000 of 115764\n",
      "\n",
      "Review 35000 of 115764\n",
      "\n",
      "Review 36000 of 115764\n",
      "\n",
      "Review 37000 of 115764\n",
      "\n",
      "Review 38000 of 115764\n",
      "\n",
      "Review 39000 of 115764\n",
      "\n",
      "Review 40000 of 115764\n",
      "\n",
      "Review 41000 of 115764\n",
      "\n",
      "Review 42000 of 115764\n",
      "\n",
      "Review 43000 of 115764\n",
      "\n",
      "Review 44000 of 115764\n",
      "\n",
      "Review 45000 of 115764\n",
      "\n",
      "Review 46000 of 115764\n",
      "\n",
      "Review 47000 of 115764\n",
      "\n",
      "Review 48000 of 115764\n",
      "\n",
      "Review 49000 of 115764\n",
      "\n",
      "Review 50000 of 115764\n",
      "\n",
      "Review 51000 of 115764\n",
      "\n",
      "Review 52000 of 115764\n",
      "\n",
      "Review 53000 of 115764\n",
      "\n",
      "Review 54000 of 115764\n",
      "\n",
      "Review 55000 of 115764\n",
      "\n",
      "Review 56000 of 115764\n",
      "\n",
      "Review 57000 of 115764\n",
      "\n",
      "Review 58000 of 115764\n",
      "\n",
      "Review 59000 of 115764\n",
      "\n",
      "Review 60000 of 115764\n",
      "\n",
      "Review 61000 of 115764\n",
      "\n",
      "Review 62000 of 115764\n",
      "\n",
      "Review 63000 of 115764\n",
      "\n",
      "Review 64000 of 115764\n",
      "\n",
      "Review 65000 of 115764\n",
      "\n",
      "Review 66000 of 115764\n",
      "\n",
      "Review 67000 of 115764\n",
      "\n",
      "Review 68000 of 115764\n",
      "\n",
      "Review 69000 of 115764\n",
      "\n",
      "Review 70000 of 115764\n",
      "\n",
      "Review 71000 of 115764\n",
      "\n",
      "Review 72000 of 115764\n",
      "\n",
      "Review 73000 of 115764\n",
      "\n",
      "Review 74000 of 115764\n",
      "\n",
      "Review 75000 of 115764\n",
      "\n",
      "Review 76000 of 115764\n",
      "\n",
      "Review 77000 of 115764\n",
      "\n",
      "Review 78000 of 115764\n",
      "\n",
      "Review 79000 of 115764\n",
      "\n",
      "Review 80000 of 115764\n",
      "\n",
      "Review 81000 of 115764\n",
      "\n",
      "Review 82000 of 115764\n",
      "\n",
      "Review 83000 of 115764\n",
      "\n",
      "Review 84000 of 115764\n",
      "\n",
      "Review 85000 of 115764\n",
      "\n",
      "Review 86000 of 115764\n",
      "\n",
      "Review 87000 of 115764\n",
      "\n",
      "Review 88000 of 115764\n",
      "\n",
      "Review 89000 of 115764\n",
      "\n",
      "Review 90000 of 115764\n",
      "\n",
      "Review 91000 of 115764\n",
      "\n",
      "Review 92000 of 115764\n",
      "\n",
      "Review 93000 of 115764\n",
      "\n",
      "Review 94000 of 115764\n",
      "\n",
      "Review 95000 of 115764\n",
      "\n",
      "Review 96000 of 115764\n",
      "\n",
      "Review 97000 of 115764\n",
      "\n",
      "Review 98000 of 115764\n",
      "\n",
      "Review 99000 of 115764\n",
      "\n",
      "Review 100000 of 115764\n",
      "\n",
      "Review 101000 of 115764\n",
      "\n",
      "Review 102000 of 115764\n",
      "\n",
      "Review 103000 of 115764\n",
      "\n",
      "Review 104000 of 115764\n",
      "\n",
      "Review 105000 of 115764\n",
      "\n",
      "Review 106000 of 115764\n",
      "\n",
      "Review 107000 of 115764\n",
      "\n",
      "Review 108000 of 115764\n",
      "\n",
      "Review 109000 of 115764\n",
      "\n",
      "Review 110000 of 115764\n",
      "\n",
      "Review 111000 of 115764\n",
      "\n",
      "Review 112000 of 115764\n",
      "\n",
      "Review 113000 of 115764\n",
      "\n",
      "Review 114000 of 115764\n",
      "\n",
      "Review 115000 of 115764\n",
      "\n"
     ]
    }
   ],
   "source": [
    "# Get the number of reviews based on the dataframe column size\n",
    "num_reviews = unlabeled_train[\"review\"].size\n",
    "\n",
    "# Initialize an empty list to hold the clean reviews\n",
    "clean_unlabeled_train_reviews = []\n",
    "\n",
    "print('Cleaning the unlabeled training set movie reviews...')\n",
    "\n",
    "# Loop over each review; create an index i that goes from 0 to the length\n",
    "# of the movie review list \n",
    "\n",
    "\n",
    "for i in range(num_reviews):\n",
    "    if ((i+1) % 1000 == 0):\n",
    "        print(\"Review %d of %d\\n\" % ( i+1, num_reviews ))\n",
    "    clean_unlabeled_train_reviews.append( review_to_words( unlabeled_train[\"review\"][i] ) )"
   ]
  },
  {
   "cell_type": "code",
   "execution_count": 9,
   "metadata": {},
   "outputs": [
    {
     "name": "stdout",
     "output_type": "stream",
     "text": [
      "Cleaning the test dataset movie reviews...\n"
     ]
    },
    {
     "name": "stderr",
     "output_type": "stream",
     "text": [
      "f:\\python\\lib\\site-packages\\bs4\\__init__.py:181: UserWarning: No parser was explicitly specified, so I'm using the best available HTML parser for this system (\"html5lib\"). This usually isn't a problem, but if you run this code on another system, or in a different virtual environment, it may use a different parser and behave differently.\n",
      "\n",
      "The code that caused this warning is on line 184 of the file f:\\python\\lib\\runpy.py. To get rid of this warning, change code that looks like this:\n",
      "\n",
      " BeautifulSoup(YOUR_MARKUP})\n",
      "\n",
      "to this:\n",
      "\n",
      " BeautifulSoup(YOUR_MARKUP, \"html5lib\")\n",
      "\n",
      "  markup_type=markup_type))\n"
     ]
    },
    {
     "name": "stdout",
     "output_type": "stream",
     "text": [
      "Review 1000 of 25000\n",
      "\n",
      "Review 2000 of 25000\n",
      "\n",
      "Review 3000 of 25000\n",
      "\n",
      "Review 4000 of 25000\n",
      "\n",
      "Review 5000 of 25000\n",
      "\n",
      "Review 6000 of 25000\n",
      "\n",
      "Review 7000 of 25000\n",
      "\n",
      "Review 8000 of 25000\n",
      "\n",
      "Review 9000 of 25000\n",
      "\n",
      "Review 10000 of 25000\n",
      "\n",
      "Review 11000 of 25000\n",
      "\n",
      "Review 12000 of 25000\n",
      "\n",
      "Review 13000 of 25000\n",
      "\n",
      "Review 14000 of 25000\n",
      "\n",
      "Review 15000 of 25000\n",
      "\n",
      "Review 16000 of 25000\n",
      "\n",
      "Review 17000 of 25000\n",
      "\n",
      "Review 18000 of 25000\n",
      "\n",
      "Review 19000 of 25000\n",
      "\n",
      "Review 20000 of 25000\n",
      "\n",
      "Review 21000 of 25000\n",
      "\n",
      "Review 22000 of 25000\n",
      "\n",
      "Review 23000 of 25000\n",
      "\n",
      "Review 24000 of 25000\n",
      "\n",
      "Review 25000 of 25000\n",
      "\n"
     ]
    }
   ],
   "source": [
    "# Get the number of reviews based on the dataframe column size\n",
    "num_reviews = test_data[\"review\"].size\n",
    "\n",
    "# Initialize an empty list to hold the clean reviews\n",
    "clean_test_data_reviews = []\n",
    "\n",
    "print('Cleaning the test dataset movie reviews...')\n",
    "\n",
    "# Loop over each review; create an index i that goes from 0 to the length\n",
    "# of the movie review list \n",
    "\n",
    "for i in range(num_reviews):\n",
    "    if ((i+1) % 1000 == 0):\n",
    "        print(\"Review %d of %d\\n\" % ( i+1, num_reviews ))\n",
    "    clean_test_data_reviews.append( review_to_words( test_data[\"review\"][i] ) )"
   ]
  },
  {
   "cell_type": "markdown",
   "metadata": {},
   "source": [
    "# 3. Construct the Model"
   ]
  },
  {
   "cell_type": "markdown",
   "metadata": {},
   "source": [
    "In this tutorial, we want to implement the Word2Vec model in gensim to generate the word vectors based on the labeled and unlabeled dataset. The following codes put these two datasets together in a sentence list."
   ]
  },
  {
   "cell_type": "code",
   "execution_count": 10,
   "metadata": {},
   "outputs": [
    {
     "name": "stdout",
     "output_type": "stream",
     "text": [
      "Parsing the sentences from the labeled training set....\n",
      "Parsing the sentences from the unlabeled training set....\n",
      "Time taken for getting all the text:  0.03462481498718262  seconds\n"
     ]
    }
   ],
   "source": [
    "sentences = []\n",
    "\n",
    "print('Parsing the sentences from the labeled training set....')\n",
    "start = time.time()\n",
    "\n",
    "for review in clean_labeled_train_reviews:\n",
    "    sentences.append(review)\n",
    "    \n",
    "print('Parsing the sentences from the unlabeled training set....')\n",
    "\n",
    "for review in clean_unlabeled_train_reviews:\n",
    "    sentences.append(review)\n",
    "    \n",
    "end = time.time()\n",
    "duration = end - start\n",
    "\n",
    "print(\"Time taken for getting all the text: \", duration, ' seconds')"
   ]
  },
  {
   "cell_type": "markdown",
   "metadata": {},
   "source": [
    "Since we have got all the words in the labeled and unlabeled dataset, we could use the word2vec model in [gensim](https://radimrehurek.com/gensim/models/word2vec.html) to generate the word vectors."
   ]
  },
  {
   "cell_type": "code",
   "execution_count": 11,
   "metadata": {},
   "outputs": [
    {
     "name": "stderr",
     "output_type": "stream",
     "text": [
      "2018-03-13 15:27:29,037 : INFO : collecting all words and their counts\n"
     ]
    },
    {
     "name": "stdout",
     "output_type": "stream",
     "text": [
      "Training model...\n"
     ]
    },
    {
     "name": "stderr",
     "output_type": "stream",
     "text": [
      "2018-03-13 15:27:29,042 : INFO : PROGRESS: at sentence #0, processed 0 words, keeping 0 word types\n",
      "2018-03-13 15:27:29,617 : INFO : PROGRESS: at sentence #10000, processed 2385575 words, keeping 51527 word types\n",
      "2018-03-13 15:27:30,150 : INFO : PROGRESS: at sentence #20000, processed 4747504 words, keeping 67813 word types\n",
      "2018-03-13 15:27:30,698 : INFO : PROGRESS: at sentence #30000, processed 7109778 words, keeping 81728 word types\n",
      "2018-03-13 15:27:31,219 : INFO : PROGRESS: at sentence #40000, processed 9467206 words, keeping 92655 word types\n",
      "2018-03-13 15:27:31,781 : INFO : PROGRESS: at sentence #50000, processed 11825236 words, keeping 99583 word types\n",
      "2018-03-13 15:27:32,326 : INFO : PROGRESS: at sentence #60000, processed 14190901 words, keeping 105913 word types\n",
      "2018-03-13 15:27:32,912 : INFO : PROGRESS: at sentence #70000, processed 16573274 words, keeping 111433 word types\n",
      "2018-03-13 15:27:33,470 : INFO : PROGRESS: at sentence #80000, processed 18978383 words, keeping 116764 word types\n",
      "2018-03-13 15:27:34,022 : INFO : PROGRESS: at sentence #90000, processed 21360809 words, keeping 121461 word types\n",
      "2018-03-13 15:27:34,576 : INFO : PROGRESS: at sentence #100000, processed 23756442 words, keeping 123558 word types\n",
      "2018-03-13 15:27:35,179 : INFO : PROGRESS: at sentence #110000, processed 26138772 words, keeping 123567 word types\n",
      "2018-03-13 15:27:35,750 : INFO : PROGRESS: at sentence #120000, processed 28498204 words, keeping 123577 word types\n",
      "2018-03-13 15:27:36,304 : INFO : PROGRESS: at sentence #130000, processed 30857061 words, keeping 123587 word types\n",
      "2018-03-13 15:27:36,859 : INFO : PROGRESS: at sentence #140000, processed 33230318 words, keeping 123590 word types\n",
      "2018-03-13 15:27:36,911 : INFO : collected 123590 word types from a corpus of 33409920 raw words and 140764 sentences\n",
      "2018-03-13 15:27:36,913 : INFO : Loading a fresh vocabulary\n",
      "2018-03-13 15:27:37,055 : INFO : min_count=40 retains 23261 unique words (18% of original 123590, drops 100329)\n",
      "2018-03-13 15:27:37,056 : INFO : min_count=40 leaves 32733641 word corpus (97% of original 33409920, drops 676279)\n",
      "2018-03-13 15:27:37,262 : INFO : deleting the raw counts dictionary of 123590 items\n",
      "2018-03-13 15:27:37,269 : INFO : sample=0.001 downsamples 48 most-common words\n",
      "2018-03-13 15:27:37,271 : INFO : downsampling leaves estimated 24350254 word corpus (74.4% of prior 32733641)\n",
      "2018-03-13 15:27:37,273 : INFO : estimated required memory for 23261 words and 300 dimensions: 67456900 bytes\n",
      "2018-03-13 15:27:37,536 : INFO : resetting layer weights\n",
      "2018-03-13 15:27:38,172 : INFO : training model with 4 workers on 23261 vocabulary and 300 features, using sg=0 hs=0 sample=0.001 negative=5 window=10\n",
      "2018-03-13 15:27:39,507 : INFO : PROGRESS: at 0.01% examples, 6585 words/s, in_qsize 5, out_qsize 2\n",
      "2018-03-13 15:27:40,512 : INFO : PROGRESS: at 0.46% examples, 267678 words/s, in_qsize 7, out_qsize 0\n",
      "2018-03-13 15:27:41,517 : INFO : PROGRESS: at 0.92% examples, 361949 words/s, in_qsize 8, out_qsize 0\n",
      "2018-03-13 15:27:42,532 : INFO : PROGRESS: at 1.38% examples, 407862 words/s, in_qsize 7, out_qsize 0\n",
      "2018-03-13 15:27:43,536 : INFO : PROGRESS: at 1.75% examples, 415841 words/s, in_qsize 7, out_qsize 0\n",
      "2018-03-13 15:27:44,537 : INFO : PROGRESS: at 2.13% examples, 424758 words/s, in_qsize 8, out_qsize 0\n",
      "2018-03-13 15:27:45,550 : INFO : PROGRESS: at 2.53% examples, 431497 words/s, in_qsize 7, out_qsize 0\n",
      "2018-03-13 15:27:46,571 : INFO : PROGRESS: at 2.93% examples, 436169 words/s, in_qsize 7, out_qsize 0\n",
      "2018-03-13 15:27:47,584 : INFO : PROGRESS: at 3.36% examples, 443508 words/s, in_qsize 8, out_qsize 0\n",
      "2018-03-13 15:27:48,590 : INFO : PROGRESS: at 3.76% examples, 446768 words/s, in_qsize 7, out_qsize 0\n",
      "2018-03-13 15:27:49,595 : INFO : PROGRESS: at 4.14% examples, 448769 words/s, in_qsize 7, out_qsize 0\n",
      "2018-03-13 15:27:50,621 : INFO : PROGRESS: at 4.56% examples, 452768 words/s, in_qsize 8, out_qsize 0\n",
      "2018-03-13 15:27:51,638 : INFO : PROGRESS: at 4.98% examples, 456417 words/s, in_qsize 8, out_qsize 0\n",
      "2018-03-13 15:27:52,646 : INFO : PROGRESS: at 5.36% examples, 456269 words/s, in_qsize 8, out_qsize 0\n",
      "2018-03-13 15:27:53,652 : INFO : PROGRESS: at 5.76% examples, 458206 words/s, in_qsize 7, out_qsize 0\n",
      "2018-03-13 15:27:54,661 : INFO : PROGRESS: at 6.18% examples, 460148 words/s, in_qsize 7, out_qsize 0\n",
      "2018-03-13 15:27:55,668 : INFO : PROGRESS: at 6.55% examples, 459077 words/s, in_qsize 7, out_qsize 0\n",
      "2018-03-13 15:27:56,699 : INFO : PROGRESS: at 6.92% examples, 458703 words/s, in_qsize 8, out_qsize 1\n",
      "2018-03-13 15:27:57,710 : INFO : PROGRESS: at 7.33% examples, 459919 words/s, in_qsize 8, out_qsize 0\n",
      "2018-03-13 15:27:58,715 : INFO : PROGRESS: at 7.72% examples, 460804 words/s, in_qsize 8, out_qsize 0\n",
      "2018-03-13 15:27:59,725 : INFO : PROGRESS: at 8.12% examples, 461114 words/s, in_qsize 7, out_qsize 0\n",
      "2018-03-13 15:28:00,729 : INFO : PROGRESS: at 8.54% examples, 463356 words/s, in_qsize 8, out_qsize 0\n",
      "2018-03-13 15:28:01,745 : INFO : PROGRESS: at 8.96% examples, 465611 words/s, in_qsize 7, out_qsize 0\n",
      "2018-03-13 15:28:02,747 : INFO : PROGRESS: at 9.38% examples, 467059 words/s, in_qsize 8, out_qsize 0\n",
      "2018-03-13 15:28:03,769 : INFO : PROGRESS: at 9.79% examples, 468268 words/s, in_qsize 8, out_qsize 0\n",
      "2018-03-13 15:28:04,784 : INFO : PROGRESS: at 10.21% examples, 469662 words/s, in_qsize 7, out_qsize 0\n",
      "2018-03-13 15:28:05,786 : INFO : PROGRESS: at 10.58% examples, 469520 words/s, in_qsize 7, out_qsize 0\n",
      "2018-03-13 15:28:06,804 : INFO : PROGRESS: at 10.98% examples, 469367 words/s, in_qsize 8, out_qsize 0\n",
      "2018-03-13 15:28:07,817 : INFO : PROGRESS: at 11.27% examples, 465808 words/s, in_qsize 8, out_qsize 0\n",
      "2018-03-13 15:28:08,826 : INFO : PROGRESS: at 11.68% examples, 467033 words/s, in_qsize 7, out_qsize 0\n",
      "2018-03-13 15:28:09,830 : INFO : PROGRESS: at 12.09% examples, 468061 words/s, in_qsize 7, out_qsize 0\n",
      "2018-03-13 15:28:10,831 : INFO : PROGRESS: at 12.51% examples, 469273 words/s, in_qsize 7, out_qsize 0\n",
      "2018-03-13 15:28:11,842 : INFO : PROGRESS: at 12.93% examples, 470519 words/s, in_qsize 8, out_qsize 0\n",
      "2018-03-13 15:28:12,855 : INFO : PROGRESS: at 13.35% examples, 471864 words/s, in_qsize 7, out_qsize 0\n",
      "2018-03-13 15:28:13,861 : INFO : PROGRESS: at 13.78% examples, 473225 words/s, in_qsize 8, out_qsize 1\n",
      "2018-03-13 15:28:14,861 : INFO : PROGRESS: at 14.19% examples, 474129 words/s, in_qsize 7, out_qsize 0\n",
      "2018-03-13 15:28:15,875 : INFO : PROGRESS: at 14.62% examples, 475268 words/s, in_qsize 8, out_qsize 0\n",
      "2018-03-13 15:28:16,882 : INFO : PROGRESS: at 15.05% examples, 476425 words/s, in_qsize 8, out_qsize 0\n",
      "2018-03-13 15:28:17,897 : INFO : PROGRESS: at 15.48% examples, 477441 words/s, in_qsize 8, out_qsize 0\n",
      "2018-03-13 15:28:18,918 : INFO : PROGRESS: at 15.91% examples, 478544 words/s, in_qsize 8, out_qsize 0\n",
      "2018-03-13 15:28:19,924 : INFO : PROGRESS: at 16.35% examples, 479510 words/s, in_qsize 7, out_qsize 0\n",
      "2018-03-13 15:28:20,934 : INFO : PROGRESS: at 16.78% examples, 480205 words/s, in_qsize 7, out_qsize 0\n",
      "2018-03-13 15:28:21,934 : INFO : PROGRESS: at 17.20% examples, 481216 words/s, in_qsize 7, out_qsize 0\n",
      "2018-03-13 15:28:22,935 : INFO : PROGRESS: at 17.65% examples, 482196 words/s, in_qsize 7, out_qsize 0\n",
      "2018-03-13 15:28:23,940 : INFO : PROGRESS: at 18.06% examples, 482845 words/s, in_qsize 7, out_qsize 0\n",
      "2018-03-13 15:28:24,944 : INFO : PROGRESS: at 18.49% examples, 483549 words/s, in_qsize 6, out_qsize 1\n",
      "2018-03-13 15:28:25,947 : INFO : PROGRESS: at 18.88% examples, 483432 words/s, in_qsize 7, out_qsize 0\n",
      "2018-03-13 15:28:26,949 : INFO : PROGRESS: at 19.28% examples, 483493 words/s, in_qsize 8, out_qsize 0\n",
      "2018-03-13 15:28:27,981 : INFO : PROGRESS: at 19.70% examples, 483648 words/s, in_qsize 7, out_qsize 0\n",
      "2018-03-13 15:28:28,988 : INFO : PROGRESS: at 20.08% examples, 483214 words/s, in_qsize 8, out_qsize 0\n",
      "2018-03-13 15:28:30,018 : INFO : PROGRESS: at 20.48% examples, 483043 words/s, in_qsize 8, out_qsize 0\n",
      "2018-03-13 15:28:31,019 : INFO : PROGRESS: at 20.88% examples, 483098 words/s, in_qsize 8, out_qsize 0\n",
      "2018-03-13 15:28:32,023 : INFO : PROGRESS: at 21.29% examples, 483509 words/s, in_qsize 6, out_qsize 1\n",
      "2018-03-13 15:28:33,051 : INFO : PROGRESS: at 21.69% examples, 483194 words/s, in_qsize 7, out_qsize 0\n"
     ]
    },
    {
     "name": "stderr",
     "output_type": "stream",
     "text": [
      "2018-03-13 15:28:34,056 : INFO : PROGRESS: at 22.00% examples, 481503 words/s, in_qsize 6, out_qsize 1\n",
      "2018-03-13 15:28:35,066 : INFO : PROGRESS: at 22.35% examples, 480241 words/s, in_qsize 7, out_qsize 0\n",
      "2018-03-13 15:28:36,068 : INFO : PROGRESS: at 22.72% examples, 479689 words/s, in_qsize 7, out_qsize 0\n",
      "2018-03-13 15:28:37,073 : INFO : PROGRESS: at 23.09% examples, 479043 words/s, in_qsize 8, out_qsize 0\n",
      "2018-03-13 15:28:38,133 : INFO : PROGRESS: at 23.41% examples, 476893 words/s, in_qsize 8, out_qsize 0\n",
      "2018-03-13 15:28:39,144 : INFO : PROGRESS: at 23.69% examples, 474365 words/s, in_qsize 7, out_qsize 0\n",
      "2018-03-13 15:28:40,154 : INFO : PROGRESS: at 23.97% examples, 472280 words/s, in_qsize 8, out_qsize 0\n",
      "2018-03-13 15:28:41,161 : INFO : PROGRESS: at 24.33% examples, 471670 words/s, in_qsize 8, out_qsize 0\n",
      "2018-03-13 15:28:42,184 : INFO : PROGRESS: at 24.64% examples, 470072 words/s, in_qsize 7, out_qsize 0\n",
      "2018-03-13 15:28:43,186 : INFO : PROGRESS: at 25.00% examples, 469430 words/s, in_qsize 8, out_qsize 0\n",
      "2018-03-13 15:28:44,194 : INFO : PROGRESS: at 25.35% examples, 468658 words/s, in_qsize 7, out_qsize 0\n",
      "2018-03-13 15:28:45,202 : INFO : PROGRESS: at 25.71% examples, 468151 words/s, in_qsize 8, out_qsize 0\n",
      "2018-03-13 15:28:46,203 : INFO : PROGRESS: at 26.02% examples, 466722 words/s, in_qsize 7, out_qsize 0\n",
      "2018-03-13 15:28:47,221 : INFO : PROGRESS: at 26.34% examples, 465442 words/s, in_qsize 8, out_qsize 0\n",
      "2018-03-13 15:28:48,242 : INFO : PROGRESS: at 26.63% examples, 463571 words/s, in_qsize 7, out_qsize 0\n",
      "2018-03-13 15:28:49,254 : INFO : PROGRESS: at 26.92% examples, 462026 words/s, in_qsize 8, out_qsize 0\n",
      "2018-03-13 15:28:50,256 : INFO : PROGRESS: at 27.27% examples, 461457 words/s, in_qsize 7, out_qsize 0\n",
      "2018-03-13 15:28:51,271 : INFO : PROGRESS: at 27.70% examples, 462204 words/s, in_qsize 8, out_qsize 0\n",
      "2018-03-13 15:28:52,304 : INFO : PROGRESS: at 28.15% examples, 463007 words/s, in_qsize 8, out_qsize 0\n",
      "2018-03-13 15:28:53,322 : INFO : PROGRESS: at 28.58% examples, 463857 words/s, in_qsize 8, out_qsize 0\n",
      "2018-03-13 15:28:54,331 : INFO : PROGRESS: at 29.01% examples, 464573 words/s, in_qsize 7, out_qsize 0\n",
      "2018-03-13 15:28:55,339 : INFO : PROGRESS: at 29.43% examples, 465102 words/s, in_qsize 8, out_qsize 0\n",
      "2018-03-13 15:28:56,354 : INFO : PROGRESS: at 29.84% examples, 465476 words/s, in_qsize 8, out_qsize 0\n",
      "2018-03-13 15:28:57,354 : INFO : PROGRESS: at 30.25% examples, 466069 words/s, in_qsize 7, out_qsize 0\n",
      "2018-03-13 15:28:58,400 : INFO : PROGRESS: at 30.64% examples, 465882 words/s, in_qsize 8, out_qsize 0\n",
      "2018-03-13 15:28:59,401 : INFO : PROGRESS: at 30.96% examples, 465002 words/s, in_qsize 7, out_qsize 0\n",
      "2018-03-13 15:29:00,434 : INFO : PROGRESS: at 31.28% examples, 463929 words/s, in_qsize 7, out_qsize 0\n",
      "2018-03-13 15:29:01,442 : INFO : PROGRESS: at 31.58% examples, 462843 words/s, in_qsize 7, out_qsize 0\n",
      "2018-03-13 15:29:02,456 : INFO : PROGRESS: at 31.93% examples, 462305 words/s, in_qsize 8, out_qsize 0\n",
      "2018-03-13 15:29:03,471 : INFO : PROGRESS: at 32.23% examples, 461153 words/s, in_qsize 7, out_qsize 0\n",
      "2018-03-13 15:29:04,487 : INFO : PROGRESS: at 32.52% examples, 459796 words/s, in_qsize 7, out_qsize 0\n",
      "2018-03-13 15:29:05,535 : INFO : PROGRESS: at 32.82% examples, 458537 words/s, in_qsize 8, out_qsize 2\n",
      "2018-03-13 15:29:06,569 : INFO : PROGRESS: at 33.13% examples, 457459 words/s, in_qsize 7, out_qsize 0\n",
      "2018-03-13 15:29:07,600 : INFO : PROGRESS: at 33.43% examples, 456276 words/s, in_qsize 7, out_qsize 1\n",
      "2018-03-13 15:29:08,606 : INFO : PROGRESS: at 33.75% examples, 455478 words/s, in_qsize 7, out_qsize 0\n",
      "2018-03-13 15:29:09,613 : INFO : PROGRESS: at 34.10% examples, 455226 words/s, in_qsize 7, out_qsize 0\n",
      "2018-03-13 15:29:10,619 : INFO : PROGRESS: at 34.45% examples, 454996 words/s, in_qsize 8, out_qsize 0\n",
      "2018-03-13 15:29:11,620 : INFO : PROGRESS: at 34.82% examples, 454969 words/s, in_qsize 8, out_qsize 0\n",
      "2018-03-13 15:29:12,623 : INFO : PROGRESS: at 35.18% examples, 454754 words/s, in_qsize 8, out_qsize 1\n",
      "2018-03-13 15:29:13,626 : INFO : PROGRESS: at 35.56% examples, 454789 words/s, in_qsize 8, out_qsize 0\n",
      "2018-03-13 15:29:14,646 : INFO : PROGRESS: at 35.89% examples, 454230 words/s, in_qsize 7, out_qsize 0\n",
      "2018-03-13 15:29:15,657 : INFO : PROGRESS: at 36.24% examples, 453783 words/s, in_qsize 7, out_qsize 0\n",
      "2018-03-13 15:29:16,708 : INFO : PROGRESS: at 36.60% examples, 453279 words/s, in_qsize 7, out_qsize 0\n",
      "2018-03-13 15:29:17,725 : INFO : PROGRESS: at 36.99% examples, 453543 words/s, in_qsize 8, out_qsize 0\n",
      "2018-03-13 15:29:18,730 : INFO : PROGRESS: at 37.42% examples, 454089 words/s, in_qsize 8, out_qsize 0\n",
      "2018-03-13 15:29:19,740 : INFO : PROGRESS: at 37.86% examples, 454802 words/s, in_qsize 7, out_qsize 0\n",
      "2018-03-13 15:29:20,742 : INFO : PROGRESS: at 38.28% examples, 455463 words/s, in_qsize 7, out_qsize 0\n",
      "2018-03-13 15:29:21,758 : INFO : PROGRESS: at 38.71% examples, 455977 words/s, in_qsize 7, out_qsize 0\n",
      "2018-03-13 15:29:22,761 : INFO : PROGRESS: at 39.14% examples, 456543 words/s, in_qsize 8, out_qsize 0\n",
      "2018-03-13 15:29:23,765 : INFO : PROGRESS: at 39.57% examples, 457280 words/s, in_qsize 7, out_qsize 0\n",
      "2018-03-13 15:29:24,792 : INFO : PROGRESS: at 39.96% examples, 457228 words/s, in_qsize 7, out_qsize 0\n",
      "2018-03-13 15:29:25,800 : INFO : PROGRESS: at 40.39% examples, 457817 words/s, in_qsize 7, out_qsize 0\n",
      "2018-03-13 15:29:26,812 : INFO : PROGRESS: at 40.74% examples, 457564 words/s, in_qsize 7, out_qsize 0\n",
      "2018-03-13 15:29:27,816 : INFO : PROGRESS: at 41.09% examples, 457280 words/s, in_qsize 8, out_qsize 0\n",
      "2018-03-13 15:29:28,850 : INFO : PROGRESS: at 41.40% examples, 456371 words/s, in_qsize 7, out_qsize 0\n",
      "2018-03-13 15:29:29,866 : INFO : PROGRESS: at 41.75% examples, 456052 words/s, in_qsize 7, out_qsize 0\n",
      "2018-03-13 15:29:30,880 : INFO : PROGRESS: at 42.10% examples, 455816 words/s, in_qsize 8, out_qsize 0\n",
      "2018-03-13 15:29:31,895 : INFO : PROGRESS: at 42.46% examples, 455458 words/s, in_qsize 6, out_qsize 1\n",
      "2018-03-13 15:29:32,935 : INFO : PROGRESS: at 42.83% examples, 455252 words/s, in_qsize 5, out_qsize 2\n",
      "2018-03-13 15:29:33,959 : INFO : PROGRESS: at 43.20% examples, 455054 words/s, in_qsize 7, out_qsize 0\n",
      "2018-03-13 15:29:34,970 : INFO : PROGRESS: at 43.57% examples, 454904 words/s, in_qsize 7, out_qsize 0\n",
      "2018-03-13 15:29:36,003 : INFO : PROGRESS: at 43.94% examples, 454744 words/s, in_qsize 7, out_qsize 0\n",
      "2018-03-13 15:29:37,006 : INFO : PROGRESS: at 44.30% examples, 454590 words/s, in_qsize 7, out_qsize 0\n",
      "2018-03-13 15:29:38,006 : INFO : PROGRESS: at 44.66% examples, 454454 words/s, in_qsize 8, out_qsize 0\n",
      "2018-03-13 15:29:39,028 : INFO : PROGRESS: at 45.03% examples, 454221 words/s, in_qsize 8, out_qsize 0\n",
      "2018-03-13 15:29:40,029 : INFO : PROGRESS: at 45.38% examples, 454011 words/s, in_qsize 7, out_qsize 0\n",
      "2018-03-13 15:29:41,051 : INFO : PROGRESS: at 45.71% examples, 453509 words/s, in_qsize 8, out_qsize 0\n",
      "2018-03-13 15:29:42,064 : INFO : PROGRESS: at 46.02% examples, 452800 words/s, in_qsize 7, out_qsize 0\n",
      "2018-03-13 15:29:43,070 : INFO : PROGRESS: at 46.37% examples, 452480 words/s, in_qsize 8, out_qsize 0\n",
      "2018-03-13 15:29:44,080 : INFO : PROGRESS: at 46.72% examples, 452273 words/s, in_qsize 8, out_qsize 0\n",
      "2018-03-13 15:29:45,080 : INFO : PROGRESS: at 47.04% examples, 451759 words/s, in_qsize 7, out_qsize 0\n",
      "2018-03-13 15:29:46,103 : INFO : PROGRESS: at 47.37% examples, 451297 words/s, in_qsize 8, out_qsize 0\n",
      "2018-03-13 15:29:47,112 : INFO : PROGRESS: at 47.68% examples, 450756 words/s, in_qsize 7, out_qsize 0\n",
      "2018-03-13 15:29:48,118 : INFO : PROGRESS: at 48.00% examples, 450125 words/s, in_qsize 7, out_qsize 0\n",
      "2018-03-13 15:29:49,144 : INFO : PROGRESS: at 48.31% examples, 449497 words/s, in_qsize 7, out_qsize 0\n",
      "2018-03-13 15:29:50,146 : INFO : PROGRESS: at 48.60% examples, 448788 words/s, in_qsize 8, out_qsize 2\n",
      "2018-03-13 15:29:51,167 : INFO : PROGRESS: at 48.94% examples, 448468 words/s, in_qsize 7, out_qsize 0\n",
      "2018-03-13 15:29:52,180 : INFO : PROGRESS: at 49.29% examples, 448235 words/s, in_qsize 7, out_qsize 0\n",
      "2018-03-13 15:29:53,184 : INFO : PROGRESS: at 49.60% examples, 447766 words/s, in_qsize 8, out_qsize 0\n",
      "2018-03-13 15:29:54,189 : INFO : PROGRESS: at 49.96% examples, 447661 words/s, in_qsize 7, out_qsize 0\n"
     ]
    },
    {
     "name": "stderr",
     "output_type": "stream",
     "text": [
      "2018-03-13 15:29:55,199 : INFO : PROGRESS: at 50.25% examples, 447007 words/s, in_qsize 7, out_qsize 0\n",
      "2018-03-13 15:29:56,213 : INFO : PROGRESS: at 50.56% examples, 446474 words/s, in_qsize 7, out_qsize 0\n",
      "2018-03-13 15:29:57,234 : INFO : PROGRESS: at 50.89% examples, 446034 words/s, in_qsize 8, out_qsize 0\n",
      "2018-03-13 15:29:58,236 : INFO : PROGRESS: at 51.26% examples, 446107 words/s, in_qsize 7, out_qsize 0\n",
      "2018-03-13 15:29:59,246 : INFO : PROGRESS: at 51.53% examples, 445439 words/s, in_qsize 8, out_qsize 0\n",
      "2018-03-13 15:30:00,253 : INFO : PROGRESS: at 51.87% examples, 445159 words/s, in_qsize 7, out_qsize 0\n",
      "2018-03-13 15:30:01,273 : INFO : PROGRESS: at 52.23% examples, 445033 words/s, in_qsize 8, out_qsize 1\n",
      "2018-03-13 15:30:02,273 : INFO : PROGRESS: at 52.64% examples, 445377 words/s, in_qsize 7, out_qsize 0\n",
      "2018-03-13 15:30:03,302 : INFO : PROGRESS: at 52.99% examples, 445276 words/s, in_qsize 8, out_qsize 1\n",
      "2018-03-13 15:30:04,317 : INFO : PROGRESS: at 53.38% examples, 445420 words/s, in_qsize 7, out_qsize 0\n",
      "2018-03-13 15:30:05,338 : INFO : PROGRESS: at 53.69% examples, 444909 words/s, in_qsize 7, out_qsize 0\n",
      "2018-03-13 15:30:06,353 : INFO : PROGRESS: at 54.00% examples, 444364 words/s, in_qsize 7, out_qsize 0\n",
      "2018-03-13 15:30:07,366 : INFO : PROGRESS: at 54.34% examples, 444171 words/s, in_qsize 7, out_qsize 0\n",
      "2018-03-13 15:30:08,396 : INFO : PROGRESS: at 54.69% examples, 443994 words/s, in_qsize 8, out_qsize 0\n",
      "2018-03-13 15:30:09,418 : INFO : PROGRESS: at 55.01% examples, 443599 words/s, in_qsize 7, out_qsize 0\n",
      "2018-03-13 15:30:10,438 : INFO : PROGRESS: at 55.32% examples, 443071 words/s, in_qsize 8, out_qsize 0\n",
      "2018-03-13 15:30:11,439 : INFO : PROGRESS: at 55.67% examples, 442992 words/s, in_qsize 8, out_qsize 0\n",
      "2018-03-13 15:30:12,455 : INFO : PROGRESS: at 56.02% examples, 442775 words/s, in_qsize 7, out_qsize 0\n",
      "2018-03-13 15:30:13,461 : INFO : PROGRESS: at 56.38% examples, 442760 words/s, in_qsize 8, out_qsize 0\n",
      "2018-03-13 15:30:14,470 : INFO : PROGRESS: at 56.76% examples, 442821 words/s, in_qsize 7, out_qsize 0\n",
      "2018-03-13 15:30:15,471 : INFO : PROGRESS: at 57.17% examples, 443157 words/s, in_qsize 7, out_qsize 0\n",
      "2018-03-13 15:30:16,475 : INFO : PROGRESS: at 57.57% examples, 443391 words/s, in_qsize 7, out_qsize 0\n",
      "2018-03-13 15:30:17,483 : INFO : PROGRESS: at 57.96% examples, 443590 words/s, in_qsize 8, out_qsize 0\n",
      "2018-03-13 15:30:18,510 : INFO : PROGRESS: at 58.29% examples, 443254 words/s, in_qsize 7, out_qsize 0\n",
      "2018-03-13 15:30:19,522 : INFO : PROGRESS: at 58.60% examples, 442786 words/s, in_qsize 7, out_qsize 0\n",
      "2018-03-13 15:30:20,551 : INFO : PROGRESS: at 58.95% examples, 442629 words/s, in_qsize 7, out_qsize 0\n",
      "2018-03-13 15:30:21,556 : INFO : PROGRESS: at 59.32% examples, 442620 words/s, in_qsize 7, out_qsize 0\n",
      "2018-03-13 15:30:22,590 : INFO : PROGRESS: at 59.67% examples, 442447 words/s, in_qsize 7, out_qsize 0\n",
      "2018-03-13 15:30:23,595 : INFO : PROGRESS: at 60.06% examples, 442660 words/s, in_qsize 7, out_qsize 0\n",
      "2018-03-13 15:30:24,604 : INFO : PROGRESS: at 60.44% examples, 442782 words/s, in_qsize 8, out_qsize 0\n",
      "2018-03-13 15:30:25,612 : INFO : PROGRESS: at 60.75% examples, 442374 words/s, in_qsize 7, out_qsize 0\n",
      "2018-03-13 15:30:26,631 : INFO : PROGRESS: at 61.08% examples, 442077 words/s, in_qsize 7, out_qsize 0\n",
      "2018-03-13 15:30:27,660 : INFO : PROGRESS: at 61.44% examples, 441972 words/s, in_qsize 7, out_qsize 0\n",
      "2018-03-13 15:30:28,676 : INFO : PROGRESS: at 61.84% examples, 442228 words/s, in_qsize 8, out_qsize 0\n",
      "2018-03-13 15:30:29,682 : INFO : PROGRESS: at 62.22% examples, 442341 words/s, in_qsize 8, out_qsize 0\n",
      "2018-03-13 15:30:30,689 : INFO : PROGRESS: at 62.59% examples, 442280 words/s, in_qsize 7, out_qsize 0\n",
      "2018-03-13 15:30:31,696 : INFO : PROGRESS: at 62.97% examples, 442398 words/s, in_qsize 7, out_qsize 0\n",
      "2018-03-13 15:30:32,700 : INFO : PROGRESS: at 63.38% examples, 442647 words/s, in_qsize 7, out_qsize 0\n",
      "2018-03-13 15:30:33,715 : INFO : PROGRESS: at 63.78% examples, 442816 words/s, in_qsize 7, out_qsize 0\n",
      "2018-03-13 15:30:34,727 : INFO : PROGRESS: at 64.11% examples, 442585 words/s, in_qsize 7, out_qsize 0\n",
      "2018-03-13 15:30:35,730 : INFO : PROGRESS: at 64.46% examples, 442466 words/s, in_qsize 7, out_qsize 0\n",
      "2018-03-13 15:30:36,743 : INFO : PROGRESS: at 64.80% examples, 442287 words/s, in_qsize 7, out_qsize 0\n",
      "2018-03-13 15:30:37,748 : INFO : PROGRESS: at 65.21% examples, 442566 words/s, in_qsize 7, out_qsize 0\n",
      "2018-03-13 15:30:38,766 : INFO : PROGRESS: at 65.58% examples, 442496 words/s, in_qsize 8, out_qsize 0\n",
      "2018-03-13 15:30:39,792 : INFO : PROGRESS: at 65.95% examples, 442521 words/s, in_qsize 7, out_qsize 0\n",
      "2018-03-13 15:30:40,797 : INFO : PROGRESS: at 66.30% examples, 442361 words/s, in_qsize 8, out_qsize 0\n",
      "2018-03-13 15:30:41,803 : INFO : PROGRESS: at 66.66% examples, 442283 words/s, in_qsize 8, out_qsize 0\n",
      "2018-03-13 15:30:42,815 : INFO : PROGRESS: at 67.03% examples, 442346 words/s, in_qsize 7, out_qsize 0\n",
      "2018-03-13 15:30:43,851 : INFO : PROGRESS: at 67.41% examples, 442353 words/s, in_qsize 7, out_qsize 0\n",
      "2018-03-13 15:30:44,856 : INFO : PROGRESS: at 67.79% examples, 442419 words/s, in_qsize 8, out_qsize 0\n",
      "2018-03-13 15:30:45,860 : INFO : PROGRESS: at 68.15% examples, 442383 words/s, in_qsize 8, out_qsize 0\n",
      "2018-03-13 15:30:46,874 : INFO : PROGRESS: at 68.51% examples, 442351 words/s, in_qsize 8, out_qsize 0\n",
      "2018-03-13 15:30:47,877 : INFO : PROGRESS: at 68.85% examples, 442194 words/s, in_qsize 7, out_qsize 0\n",
      "2018-03-13 15:30:48,883 : INFO : PROGRESS: at 69.22% examples, 442232 words/s, in_qsize 8, out_qsize 0\n",
      "2018-03-13 15:30:49,894 : INFO : PROGRESS: at 69.59% examples, 442254 words/s, in_qsize 8, out_qsize 0\n",
      "2018-03-13 15:30:50,899 : INFO : PROGRESS: at 69.95% examples, 442246 words/s, in_qsize 8, out_qsize 0\n",
      "2018-03-13 15:30:51,908 : INFO : PROGRESS: at 70.33% examples, 442372 words/s, in_qsize 7, out_qsize 0\n",
      "2018-03-13 15:30:52,915 : INFO : PROGRESS: at 70.77% examples, 442806 words/s, in_qsize 7, out_qsize 0\n",
      "2018-03-13 15:30:53,926 : INFO : PROGRESS: at 71.19% examples, 443189 words/s, in_qsize 8, out_qsize 0\n",
      "2018-03-13 15:30:54,932 : INFO : PROGRESS: at 71.54% examples, 443169 words/s, in_qsize 6, out_qsize 1\n",
      "2018-03-13 15:30:55,959 : INFO : PROGRESS: at 71.87% examples, 442863 words/s, in_qsize 7, out_qsize 0\n",
      "2018-03-13 15:30:56,974 : INFO : PROGRESS: at 72.17% examples, 442467 words/s, in_qsize 8, out_qsize 0\n",
      "2018-03-13 15:30:57,982 : INFO : PROGRESS: at 72.56% examples, 442568 words/s, in_qsize 8, out_qsize 0\n",
      "2018-03-13 15:30:58,988 : INFO : PROGRESS: at 72.91% examples, 442563 words/s, in_qsize 8, out_qsize 0\n",
      "2018-03-13 15:31:00,011 : INFO : PROGRESS: at 73.26% examples, 442410 words/s, in_qsize 7, out_qsize 0\n",
      "2018-03-13 15:31:01,012 : INFO : PROGRESS: at 73.54% examples, 441925 words/s, in_qsize 7, out_qsize 0\n",
      "2018-03-13 15:31:02,027 : INFO : PROGRESS: at 73.88% examples, 441723 words/s, in_qsize 6, out_qsize 1\n",
      "2018-03-13 15:31:03,046 : INFO : PROGRESS: at 74.28% examples, 441968 words/s, in_qsize 7, out_qsize 0\n",
      "2018-03-13 15:31:04,048 : INFO : PROGRESS: at 74.63% examples, 441872 words/s, in_qsize 7, out_qsize 0\n",
      "2018-03-13 15:31:05,060 : INFO : PROGRESS: at 74.92% examples, 441477 words/s, in_qsize 7, out_qsize 0\n",
      "2018-03-13 15:31:06,094 : INFO : PROGRESS: at 75.34% examples, 441729 words/s, in_qsize 8, out_qsize 1\n",
      "2018-03-13 15:31:07,115 : INFO : PROGRESS: at 75.69% examples, 441598 words/s, in_qsize 6, out_qsize 1\n",
      "2018-03-13 15:31:08,140 : INFO : PROGRESS: at 76.13% examples, 442010 words/s, in_qsize 8, out_qsize 0\n",
      "2018-03-13 15:31:09,147 : INFO : PROGRESS: at 76.58% examples, 442432 words/s, in_qsize 7, out_qsize 0\n",
      "2018-03-13 15:31:10,158 : INFO : PROGRESS: at 76.94% examples, 442386 words/s, in_qsize 8, out_qsize 0\n",
      "2018-03-13 15:31:11,178 : INFO : PROGRESS: at 77.31% examples, 442392 words/s, in_qsize 7, out_qsize 0\n",
      "2018-03-13 15:31:12,181 : INFO : PROGRESS: at 77.75% examples, 442737 words/s, in_qsize 8, out_qsize 0\n",
      "2018-03-13 15:31:13,191 : INFO : PROGRESS: at 78.17% examples, 443118 words/s, in_qsize 8, out_qsize 0\n",
      "2018-03-13 15:31:14,192 : INFO : PROGRESS: at 78.61% examples, 443518 words/s, in_qsize 8, out_qsize 0\n",
      "2018-03-13 15:31:15,201 : INFO : PROGRESS: at 79.05% examples, 443906 words/s, in_qsize 8, out_qsize 0\n"
     ]
    },
    {
     "name": "stderr",
     "output_type": "stream",
     "text": [
      "2018-03-13 15:31:16,218 : INFO : PROGRESS: at 79.47% examples, 444194 words/s, in_qsize 7, out_qsize 0\n",
      "2018-03-13 15:31:17,219 : INFO : PROGRESS: at 79.90% examples, 444577 words/s, in_qsize 7, out_qsize 0\n",
      "2018-03-13 15:31:18,220 : INFO : PROGRESS: at 80.33% examples, 444937 words/s, in_qsize 7, out_qsize 0\n",
      "2018-03-13 15:31:19,236 : INFO : PROGRESS: at 80.76% examples, 445322 words/s, in_qsize 8, out_qsize 0\n",
      "2018-03-13 15:31:20,237 : INFO : PROGRESS: at 81.19% examples, 445633 words/s, in_qsize 8, out_qsize 0\n",
      "2018-03-13 15:31:21,250 : INFO : PROGRESS: at 81.63% examples, 445983 words/s, in_qsize 7, out_qsize 0\n",
      "2018-03-13 15:31:22,259 : INFO : PROGRESS: at 82.06% examples, 446331 words/s, in_qsize 7, out_qsize 0\n",
      "2018-03-13 15:31:23,271 : INFO : PROGRESS: at 82.50% examples, 446674 words/s, in_qsize 8, out_qsize 0\n",
      "2018-03-13 15:31:24,271 : INFO : PROGRESS: at 82.85% examples, 446530 words/s, in_qsize 7, out_qsize 0\n",
      "2018-03-13 15:31:25,275 : INFO : PROGRESS: at 83.20% examples, 446444 words/s, in_qsize 8, out_qsize 0\n",
      "2018-03-13 15:31:26,288 : INFO : PROGRESS: at 83.55% examples, 446308 words/s, in_qsize 7, out_qsize 0\n",
      "2018-03-13 15:31:27,321 : INFO : PROGRESS: at 83.91% examples, 446201 words/s, in_qsize 8, out_qsize 0\n",
      "2018-03-13 15:31:28,331 : INFO : PROGRESS: at 84.28% examples, 446204 words/s, in_qsize 7, out_qsize 0\n",
      "2018-03-13 15:31:29,344 : INFO : PROGRESS: at 84.65% examples, 446174 words/s, in_qsize 7, out_qsize 0\n",
      "2018-03-13 15:31:30,347 : INFO : PROGRESS: at 85.02% examples, 446158 words/s, in_qsize 8, out_qsize 1\n",
      "2018-03-13 15:31:31,369 : INFO : PROGRESS: at 85.40% examples, 446169 words/s, in_qsize 8, out_qsize 0\n",
      "2018-03-13 15:31:32,389 : INFO : PROGRESS: at 85.75% examples, 446064 words/s, in_qsize 8, out_qsize 0\n",
      "2018-03-13 15:31:33,402 : INFO : PROGRESS: at 86.13% examples, 446063 words/s, in_qsize 8, out_qsize 0\n",
      "2018-03-13 15:31:34,407 : INFO : PROGRESS: at 86.51% examples, 446077 words/s, in_qsize 7, out_qsize 0\n",
      "2018-03-13 15:31:35,422 : INFO : PROGRESS: at 86.87% examples, 446073 words/s, in_qsize 7, out_qsize 0\n",
      "2018-03-13 15:31:36,448 : INFO : PROGRESS: at 87.24% examples, 446022 words/s, in_qsize 7, out_qsize 0\n",
      "2018-03-13 15:31:37,470 : INFO : PROGRESS: at 87.61% examples, 446001 words/s, in_qsize 7, out_qsize 0\n",
      "2018-03-13 15:31:38,491 : INFO : PROGRESS: at 87.98% examples, 445952 words/s, in_qsize 8, out_qsize 0\n",
      "2018-03-13 15:31:39,520 : INFO : PROGRESS: at 88.36% examples, 445947 words/s, in_qsize 8, out_qsize 0\n",
      "2018-03-13 15:31:40,533 : INFO : PROGRESS: at 88.72% examples, 445967 words/s, in_qsize 7, out_qsize 0\n",
      "2018-03-13 15:31:41,550 : INFO : PROGRESS: at 89.09% examples, 445930 words/s, in_qsize 7, out_qsize 0\n",
      "2018-03-13 15:31:42,563 : INFO : PROGRESS: at 89.46% examples, 445906 words/s, in_qsize 8, out_qsize 0\n",
      "2018-03-13 15:31:43,565 : INFO : PROGRESS: at 89.83% examples, 445921 words/s, in_qsize 7, out_qsize 0\n",
      "2018-03-13 15:31:44,589 : INFO : PROGRESS: at 90.19% examples, 445888 words/s, in_qsize 8, out_qsize 0\n",
      "2018-03-13 15:31:45,599 : INFO : PROGRESS: at 90.55% examples, 445892 words/s, in_qsize 8, out_qsize 0\n",
      "2018-03-13 15:31:46,619 : INFO : PROGRESS: at 90.93% examples, 445909 words/s, in_qsize 7, out_qsize 0\n",
      "2018-03-13 15:31:47,643 : INFO : PROGRESS: at 91.30% examples, 445911 words/s, in_qsize 8, out_qsize 0\n",
      "2018-03-13 15:31:48,656 : INFO : PROGRESS: at 91.66% examples, 445935 words/s, in_qsize 7, out_qsize 0\n",
      "2018-03-13 15:31:49,670 : INFO : PROGRESS: at 92.04% examples, 445934 words/s, in_qsize 7, out_qsize 0\n",
      "2018-03-13 15:31:50,682 : INFO : PROGRESS: at 92.38% examples, 445810 words/s, in_qsize 8, out_qsize 0\n",
      "2018-03-13 15:31:51,689 : INFO : PROGRESS: at 92.74% examples, 445766 words/s, in_qsize 7, out_qsize 0\n",
      "2018-03-13 15:31:52,714 : INFO : PROGRESS: at 93.11% examples, 445772 words/s, in_qsize 7, out_qsize 0\n",
      "2018-03-13 15:31:53,729 : INFO : PROGRESS: at 93.48% examples, 445771 words/s, in_qsize 7, out_qsize 0\n",
      "2018-03-13 15:31:54,730 : INFO : PROGRESS: at 93.85% examples, 445760 words/s, in_qsize 7, out_qsize 0\n",
      "2018-03-13 15:31:55,749 : INFO : PROGRESS: at 94.20% examples, 445717 words/s, in_qsize 7, out_qsize 0\n",
      "2018-03-13 15:31:56,773 : INFO : PROGRESS: at 94.56% examples, 445644 words/s, in_qsize 7, out_qsize 0\n",
      "2018-03-13 15:31:57,776 : INFO : PROGRESS: at 94.86% examples, 445333 words/s, in_qsize 8, out_qsize 0\n",
      "2018-03-13 15:31:58,776 : INFO : PROGRESS: at 95.22% examples, 445295 words/s, in_qsize 7, out_qsize 0\n",
      "2018-03-13 15:31:59,777 : INFO : PROGRESS: at 95.54% examples, 445076 words/s, in_qsize 7, out_qsize 0\n",
      "2018-03-13 15:32:00,823 : INFO : PROGRESS: at 95.84% examples, 444728 words/s, in_qsize 8, out_qsize 0\n",
      "2018-03-13 15:32:01,827 : INFO : PROGRESS: at 96.17% examples, 444534 words/s, in_qsize 7, out_qsize 0\n",
      "2018-03-13 15:32:02,866 : INFO : PROGRESS: at 96.52% examples, 444376 words/s, in_qsize 8, out_qsize 0\n",
      "2018-03-13 15:32:03,872 : INFO : PROGRESS: at 96.82% examples, 444065 words/s, in_qsize 8, out_qsize 0\n",
      "2018-03-13 15:32:04,880 : INFO : PROGRESS: at 97.18% examples, 444056 words/s, in_qsize 7, out_qsize 0\n",
      "2018-03-13 15:32:05,882 : INFO : PROGRESS: at 97.58% examples, 444143 words/s, in_qsize 8, out_qsize 1\n",
      "2018-03-13 15:32:06,895 : INFO : PROGRESS: at 97.96% examples, 444193 words/s, in_qsize 7, out_qsize 0\n",
      "2018-03-13 15:32:07,921 : INFO : PROGRESS: at 98.36% examples, 444315 words/s, in_qsize 8, out_qsize 0\n",
      "2018-03-13 15:32:08,926 : INFO : PROGRESS: at 98.77% examples, 444517 words/s, in_qsize 8, out_qsize 0\n",
      "2018-03-13 15:32:09,936 : INFO : PROGRESS: at 99.18% examples, 444710 words/s, in_qsize 7, out_qsize 0\n",
      "2018-03-13 15:32:10,941 : INFO : PROGRESS: at 99.54% examples, 444643 words/s, in_qsize 7, out_qsize 0\n",
      "2018-03-13 15:32:11,946 : INFO : PROGRESS: at 99.91% examples, 444707 words/s, in_qsize 7, out_qsize 0\n",
      "2018-03-13 15:32:12,110 : INFO : worker thread finished; awaiting finish of 3 more threads\n",
      "2018-03-13 15:32:12,121 : INFO : worker thread finished; awaiting finish of 2 more threads\n",
      "2018-03-13 15:32:12,124 : INFO : worker thread finished; awaiting finish of 1 more threads\n",
      "2018-03-13 15:32:12,132 : INFO : worker thread finished; awaiting finish of 0 more threads\n",
      "2018-03-13 15:32:12,134 : INFO : training on 167049600 raw words (121753280 effective words) took 273.7s, 444783 effective words/s\n",
      "2018-03-13 15:32:12,137 : INFO : precomputing L2-norms of word weight vectors\n",
      "2018-03-13 15:32:12,604 : INFO : saving Word2Vec object under 300features_40minwords_10context, separately None\n",
      "2018-03-13 15:32:12,606 : INFO : not storing attribute syn0norm\n",
      "2018-03-13 15:32:12,608 : INFO : not storing attribute cum_table\n",
      "2018-03-13 15:32:14,139 : INFO : saved 300features_40minwords_10context\n"
     ]
    },
    {
     "name": "stdout",
     "output_type": "stream",
     "text": [
      "Total time for training the word vectors:  285.10412788391113  seconds\n"
     ]
    }
   ],
   "source": [
    "# Import the built-in logging module and configure it so that Word2Vec \n",
    "# creates nice output messages\n",
    "logging.basicConfig(format='%(asctime)s : %(levelname)s : %(message)s', level=logging.INFO)\n",
    "\n",
    "# Set values for various parameters\n",
    "num_features = 300    # Word vector dimensionality                      \n",
    "min_word_count = 40   # Minimum word count                        \n",
    "num_workers = 4       # Number of threads to run in parallel\n",
    "context = 10          # Context window size                                                                                    \n",
    "downsampling = 1e-3   # Downsample setting for frequent words\n",
    "\n",
    "# Initialize and train the model (this will take some time)\n",
    "print(\"Training model...\")\n",
    "start = time.time()\n",
    "model = Word2Vec(sentences, workers=num_workers, \\\n",
    "            size=num_features, min_count = min_word_count, \\\n",
    "            window = context, sample = downsampling)\n",
    "\n",
    "# If you don't plan to train the model any further, calling \n",
    "# init_sims will make the model much more memory-efficient.\n",
    "model.init_sims(replace=True)\n",
    "\n",
    "# It can be helpful to create a meaningful model name and \n",
    "# save the model for later use. You can load it later using Word2Vec.load()\n",
    "model_name = \"300features_40minwords_10context\"\n",
    "model.save(model_name)\n",
    "\n",
    "end = time.time()\n",
    "duration = end - start\n",
    "\n",
    "print(\"Total time for training the word vectors: \", duration, \" seconds\")"
   ]
  },
  {
   "cell_type": "markdown",
   "metadata": {},
   "source": [
    "We have got the word vector model. To load this model, you could use the following code:\n",
    "\n",
    "```Python\n",
    "model = Word2Vec.load(\"300features_40minwords_10context\")\n",
    "```"
   ]
  },
  {
   "cell_type": "code",
   "execution_count": 12,
   "metadata": {},
   "outputs": [
    {
     "name": "stderr",
     "output_type": "stream",
     "text": [
      "2018-03-13 15:32:14,153 : INFO : loading Word2Vec object from 300features_40minwords_10context\n",
      "2018-03-13 15:32:14,797 : INFO : loading wv recursively from 300features_40minwords_10context.wv.* with mmap=None\n",
      "2018-03-13 15:32:14,799 : INFO : setting ignored attribute syn0norm to None\n",
      "2018-03-13 15:32:14,800 : INFO : setting ignored attribute cum_table to None\n",
      "2018-03-13 15:32:14,802 : INFO : loaded 300features_40minwords_10context\n"
     ]
    }
   ],
   "source": [
    "model = Word2Vec.load(\"300features_40minwords_10context\")"
   ]
  },
  {
   "cell_type": "markdown",
   "metadata": {},
   "source": [
    "To get a more direct view of word vectors we generated, we could visualize it based on some dimensionality reduction techniques. [t-SNE](https://en.wikipedia.org/wiki/T-distributed_stochastic_neighbor_embedding) is a very popular algorithm to visualize the high dimensional data. We could project our word vectors in a two dimensional space and see if words with similar meaning are in the similar places."
   ]
  },
  {
   "cell_type": "code",
   "execution_count": 65,
   "metadata": {
    "collapsed": true
   },
   "outputs": [],
   "source": [
    "def plot_with_labels(low_dim_embs,labels,filename):\n",
    "    assert low_dim_embs.shape[0]>=len(labels),\"more labels than embedding\"\n",
    "    plt.figure(figsize=(18,18))\n",
    "    for i,label in enumerate(labels):\n",
    "        x,y=low_dim_embs[i,:]\n",
    "        plt.scatter(x, y)\n",
    "        plt.annotate(label,xy=(x,y),xytext=(5,2),textcoords='offset points',ha='right',va='bottom')\n",
    "    plt.savefig(filename)\n",
    "    plt.show()"
   ]
  },
  {
   "cell_type": "code",
   "execution_count": 66,
   "metadata": {
    "collapsed": true
   },
   "outputs": [],
   "source": [
    "words_in_model = model.wv.index2word # all the words included in our Word2Vec model\n",
    "num_features = 300\n",
    "\n",
    "# Delete the stop words\n",
    "stops = set(stopwords.words(\"english\"))                  \n",
    "words_in_model_without_stops = [w for w in words_in_model if not w in stops]\n",
    "\n",
    "tsne_word_vectors = np.zeros((len(words_in_model_without_stops), num_features),dtype=\"float32\")\n",
    "\n",
    "counter = 0\n",
    "\n",
    "for w in words_in_model_without_stops:\n",
    "    tsne_word_vectors[int(counter),] = model.wv[w]\n",
    "    counter += 1"
   ]
  },
  {
   "cell_type": "code",
   "execution_count": 67,
   "metadata": {},
   "outputs": [
    {
     "data": {
      "image/png": "[encoded data removed]",
      "text/plain": [
       "<matplotlib.figure.Figure at 0x1d4bfb87e48>"
      ]
     },
     "metadata": {},
     "output_type": "display_data"
    }
   ],
   "source": [
    "tsne=TSNE(perplexity=30,n_components=2,init='pca')\n",
    "plot_number=150\n",
    "low_dim_embs=tsne.fit_transform(tsne_word_vectors[:plot_number,:])\n",
    "labels=[words_in_model_without_stops[i] for i in range(plot_number)]\n",
    "plot_with_labels(low_dim_embs, labels, './plot.png')"
   ]
  },
  {
   "cell_type": "markdown",
   "metadata": {},
   "source": [
    "From the figure above, we could see that words with similar meaning(which means that they are indicating the same items subconsciously) be in the quite similar positions. \n",
    "\n",
    "- actors, characters, character\n",
    "- people anyone\n",
    "- find, found\n",
    "- etc."
   ]
  },
  {
   "cell_type": "markdown",
   "metadata": {},
   "source": [
    "Then, our next task is to use the word vectors we generated to do the sentiment classification. A machine learning model, such as support vector machine, could do this classification if we could work out the representation of each review. So firstly, we need to compute the review vectors based on the word vectors. An intuitive way to get the review representation is to **average** the vectors of all the words in this review and consider the output as the represenation of this review."
   ]
  },
  {
   "cell_type": "code",
   "execution_count": 13,
   "metadata": {
    "collapsed": true
   },
   "outputs": [],
   "source": [
    "def makeFeatureVec(sentence, model, num_features):\n",
    "    # Function to average all of the word vectors in a given\n",
    "    # paragraph\n",
    "    #\n",
    "    # Pre-initialize an empty numpy array (for speed)\n",
    "    featureVec = np.zeros((300,),dtype=\"float32\")\n",
    "    #\n",
    "    nwords = 0.\n",
    "    #\n",
    "    # Index2word is a list that contains the names of the words in \n",
    "    # the model's vocabulary. Convert it to a set, for speed \n",
    "    index2word_set = set(model.wv.index2word)\n",
    "    # Loop over each word in the review\n",
    "    for word in sentence:\n",
    "        if word in index2word_set:\n",
    "            nwords = nwords + 1.\n",
    "            featureVec = np.add(featureVec,model[word])\n",
    "    # \n",
    "    # Divide the result by the number of words to get the average\n",
    "    featureVec = np.divide(featureVec,nwords)\n",
    "    return featureVec"
   ]
  },
  {
   "cell_type": "code",
   "execution_count": 14,
   "metadata": {
    "collapsed": true
   },
   "outputs": [],
   "source": [
    "def getAvgFeatureVecs(reviews, model, num_features):\n",
    "    # Given a set of reviews (each one a list of words), calculate \n",
    "    # the average feature vector for each one and return a 2D numpy array \n",
    "    # \n",
    "    # Initialize a counter\n",
    "    counter = 0\n",
    "    # \n",
    "    # Preallocate a 2D numpy array, for speed\n",
    "    reviewFeatureVecs = np.zeros((len(reviews),num_features),dtype=\"float32\")\n",
    "    # \n",
    "    # Loop through the reviews\n",
    "    for review in reviews:\n",
    "       #\n",
    "       # Print a status message every 1000th review\n",
    "        if counter % 1000. == 0.:\n",
    "            print(\"Review %d of %d\" % (counter, len(reviews)))\n",
    "       # \n",
    "       # Call the function (defined above) that makes average feature vectors\n",
    "        reviewFeatureVecs[int(counter),] = makeFeatureVec(review, model, num_features)\n",
    "       #\n",
    "       # Increment the counter\n",
    "        counter = counter + 1.\n",
    "    return reviewFeatureVecs"
   ]
  },
  {
   "cell_type": "code",
   "execution_count": 15,
   "metadata": {},
   "outputs": [
    {
     "name": "stdout",
     "output_type": "stream",
     "text": [
      "Creating average feature vecs for training reviews\n",
      "Review 0 of 25000\n",
      "Review 1000 of 25000\n",
      "Review 2000 of 25000\n",
      "Review 3000 of 25000\n",
      "Review 4000 of 25000\n",
      "Review 5000 of 25000\n",
      "Review 6000 of 25000\n",
      "Review 7000 of 25000\n",
      "Review 8000 of 25000\n",
      "Review 9000 of 25000\n",
      "Review 10000 of 25000\n",
      "Review 11000 of 25000\n",
      "Review 12000 of 25000\n",
      "Review 13000 of 25000\n",
      "Review 14000 of 25000\n",
      "Review 15000 of 25000\n",
      "Review 16000 of 25000\n",
      "Review 17000 of 25000\n",
      "Review 18000 of 25000\n",
      "Review 19000 of 25000\n",
      "Review 20000 of 25000\n",
      "Review 21000 of 25000\n",
      "Review 22000 of 25000\n",
      "Review 23000 of 25000\n",
      "Review 24000 of 25000\n",
      "Creating average feature vecs for test reviews\n",
      "Review 0 of 25000\n",
      "Review 1000 of 25000\n",
      "Review 2000 of 25000\n",
      "Review 3000 of 25000\n",
      "Review 4000 of 25000\n",
      "Review 5000 of 25000\n",
      "Review 6000 of 25000\n",
      "Review 7000 of 25000\n",
      "Review 8000 of 25000\n",
      "Review 9000 of 25000\n",
      "Review 10000 of 25000\n",
      "Review 11000 of 25000\n",
      "Review 12000 of 25000\n",
      "Review 13000 of 25000\n",
      "Review 14000 of 25000\n",
      "Review 15000 of 25000\n",
      "Review 16000 of 25000\n",
      "Review 17000 of 25000\n",
      "Review 18000 of 25000\n",
      "Review 19000 of 25000\n",
      "Review 20000 of 25000\n",
      "Review 21000 of 25000\n",
      "Review 22000 of 25000\n",
      "Review 23000 of 25000\n",
      "Review 24000 of 25000\n"
     ]
    }
   ],
   "source": [
    "# ****************************************************************\n",
    "# Calculate average feature vectors for training and testing sets,\n",
    "# using the functions we defined above. Notice that we now use stop word\n",
    "# removal.\n",
    "print(\"Creating average feature vecs for training reviews\")\n",
    "\n",
    "trainDataVecs = getAvgFeatureVecs(clean_labeled_train_reviews, model, 300)\n",
    "\n",
    "print(\"Creating average feature vecs for test reviews\")\n",
    "\n",
    "testDataVecs = getAvgFeatureVecs(clean_test_data_reviews, model, 300)"
   ]
  },
  {
   "cell_type": "markdown",
   "metadata": {},
   "source": [
    "# 4. Train with Random Forest"
   ]
  },
  {
   "cell_type": "markdown",
   "metadata": {},
   "source": [
    "After getting the review vectors, we could first run a warm-up model: random forest and see how well it performs."
   ]
  },
  {
   "cell_type": "code",
   "execution_count": 16,
   "metadata": {},
   "outputs": [
    {
     "name": "stdout",
     "output_type": "stream",
     "text": [
      "Fitting a random forest to labeled training data...\n"
     ]
    }
   ],
   "source": [
    "# Fit a random forest to the training data, using 100 trees\n",
    "forest = RandomForestClassifier(n_estimators = 100)\n",
    "\n",
    "print(\"Fitting a random forest to labeled training data...\")\n",
    "forest = forest.fit( trainDataVecs, labeled_train[\"sentiment\"] )\n",
    "\n",
    "# Test & extract results \n",
    "result = forest.predict( testDataVecs )\n",
    "\n",
    "# Write the test results \n",
    "output = pd.DataFrame( data={\"id\":test_data[\"id\"], \"sentiment\":result} )\n",
    "output.to_csv( \"Word2Vec_AverageVectors.csv\", index=False, quoting=3 )"
   ]
  },
  {
   "attachments": {
    "image.png": {
     "image/png": "[encoded data removed]"
    }
   },
   "cell_type": "markdown",
   "metadata": {
    "collapsed": true
   },
   "source": [
    "I run this model two times the result is given below.\n",
    "\n",
    "![image.png](attachment:image.png)"
   ]
  },
  {
   "cell_type": "markdown",
   "metadata": {},
   "source": [
    "It seems that the model we just constructed does not perform stably. In my view, there are mainly two paths to improve the performance:\n",
    "\n",
    "1. The codes above use the average word vectors as the representation of a movie review. However, other approaches such as [Doc2Vec](https://radimrehurek.com/gensim/models/doc2vec.html) should be used to construct more convincing review representation.\n",
    "2. Other machine learning models such as support vector machine, neural networks, etc. should be considered.\n",
    "\n",
    "At last, we save our numpy arrays of training data and test data for the later machine learning model improvement."
   ]
  },
  {
   "cell_type": "code",
   "execution_count": 17,
   "metadata": {
    "collapsed": true
   },
   "outputs": [],
   "source": [
    "np.save('training_data',trainDataVecs)\n",
    "np.save('test_data',testDataVecs)"
   ]
  },
  {
   "cell_type": "code",
   "execution_count": null,
   "metadata": {
    "collapsed": true
   },
   "outputs": [],
   "source": []
  }
 ],
 "metadata": {
  "kernelspec": {
   "display_name": "Python 3",
   "language": "python",
   "name": "python3"
  },
  "language_info": {
   "codemirror_mode": {
    "name": "ipython",
    "version": 3
   },
   "file_extension": ".py",
   "mimetype": "text/x-python",
   "name": "python",
   "nbconvert_exporter": "python",
   "pygments_lexer": "ipython3",
   "version": "3.5.2"
  }
 },
 "nbformat": 4,
 "nbformat_minor": 2
}
