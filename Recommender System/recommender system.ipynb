{
 "cells": [
  {
   "cell_type": "markdown",
   "metadata": {},
   "source": [
    "# 1. Introduction\n",
    "\n",
    "In this post I am going to talk about how to apply the natural lanugage processing techniques to the recommender system. In many real cases, for instance, if we have finished a course in Coursera, we want to learn some related courses to get a deeper insight into one research field. Hence, it would be better if our online system could automatically recommend some relevant courses for a learner.\n",
    "\n",
    "If we talk more about this coursera case, some people might say we could use labels to tag all the courses previously and if one learner finished one course, based on the label the system would post some relevant courses. However, manually labelling huge number of courses is very time consuming. Moreover, some algorithms such as collaborative filtering and content-based filtering could also help this problem. But these approaches would not work if we had a new course on Coursera and we did not have much feedback(data) from users about this course. **A better approach** to this problem is that we utilize the title and the description of each course and use NLP techniques to work out for instance the similarity of two courses. Based on this similarity, our system could automatically recommende coursers to our users. The following sections will show the main techniques we use.\n",
    "\n",
    "So let's get started!"
   ]
  },
  {
   "cell_type": "markdown",
   "metadata": {},
   "source": [
    "# 2. Construct the NLP Models\n",
    "\n",
    "In this section we show how to create a recommendation system for our Coursera users. Let's first import modules for this task."
   ]
  },
  {
   "cell_type": "markdown",
   "metadata": {},
   "source": [
    "## 2.1 Load the dataset\n",
    "\n",
    "First we import all the modules we need in this case study."
   ]
  },
  {
   "cell_type": "code",
   "execution_count": 31,
   "metadata": {
    "collapsed": true
   },
   "outputs": [],
   "source": [
    "import nltk\n",
    "import re\n",
    "import string\n",
    "import numpy as np\n",
    "\n",
    "from nltk.tokenize import word_tokenize\n",
    "from nltk.corpus import stopwords\n",
    "from nltk.stem.lancaster import LancasterStemmer\n",
    "\n",
    "from gensim import corpora, models, similarities\n",
    "\n",
    "from sklearn.decomposition import NMF"
   ]
  },
  {
   "cell_type": "markdown",
   "metadata": {},
   "source": [
    "Then we load the data. The data can be found in here: [Coursera corpus](https://github.com/bright1993ff66/Text-Data-Analysis/blob/master/Recommender%20System/coursera_corpus)"
   ]
  },
  {
   "cell_type": "code",
   "execution_count": 2,
   "metadata": {},
   "outputs": [
    {
     "data": {
      "text/plain": [
       "['Writing II: Rhetorical Composing\\tRhetorical Composing engages you in a series of interactive reading, research, and composing activities along with assignments designed to help you become more effective consumers and producers of alphabetic, visual and multimodal texts.  Join us to become more effective writers... and better citizens.\\tRhetorical Composing is a course where writers exchange words, ideas,     talents, and support. You will be introduced to a variety of rhetorical     concepts鈥攖hat is, ideas and techniques to inform and persuade audiences鈥攖hat     will help you become a more effective consumer and producer of written,     visual, and multimodal texts. The class includes short videos, demonstrations,     and activities. We envision Rhetorical Composing as a learning community that includes both those enrolled in this course and the instructors. We bring our expertise in writing, rhetoric and course design, and we have designed the assignments and course infrastructure to help you share your experiences as writers, students, and professionals with each other and with us. These collaborations are facilitated through WEx, The Writers Exchange, a place where you will exchange your work and feedback',\n",
       " 'Genetics and Society: A Course for Educators\\tHow have advances in genetics affected society? What do we need to know to make ethical decisions about genetic technologies? This course includes the study of cloning, genetic enhancement, and ownership of genetic information. Course participants will acquire the tools to explore the ethics of modern genetics and learn how to integrate these issues into their classrooms.\\tThe AMNH course Genetics and Society: A Course for Educators explores the social, legal and ethical issues of modern-day genetics. Informed by the recently released Next Generation Science Standards, the course provides an overview of recent genetic discoveries and molecular lab techniques. Participants will acquire an understanding of the science and technology behind breakthroughs such as therapeutic cloning and the sequencing of the human genome. You will also have the opportunity to discuss and debate issues surrounding hot-button topics in genetics: If it is ethical to clone your dog, will humans be next? Should we care if our food is genetically modified? What are the pros and cons of gene therapy?&nbsp;Course participants will bring their understanding of modern genetics and associated ethical issues - along with content resources, discussion questions, and assignments - into their own teaching.&nbsp;']"
      ]
     },
     "execution_count": 2,
     "metadata": {},
     "output_type": "execute_result"
    }
   ],
   "source": [
    "file = open('F:/Data Analysis/github/Text-Data-Analysis/Recommender System/coursera_corpus', encoding = 'gb18030', \n",
    "            errors = 'ignore')\n",
    "courses = [line.strip() for line in file]\n",
    "courses[:2]"
   ]
  },
  {
   "cell_type": "markdown",
   "metadata": {},
   "source": [
    "From the output, we see that the names of the courses are seperated by tab. Hence we use the following code to extract the courses' names."
   ]
  },
  {
   "cell_type": "code",
   "execution_count": 3,
   "metadata": {},
   "outputs": [
    {
     "data": {
      "text/plain": [
       "['Writing II: Rhetorical Composing',\n",
       " 'Genetics and Society: A Course for Educators',\n",
       " 'General Game Playing',\n",
       " 'Genes and the Human Condition (From Behavior to Biotechnology)',\n",
       " 'A Brief History of Humankind',\n",
       " 'New Models of Business in Society',\n",
       " 'Analyse Num茅rique pour Ing茅nieurs',\n",
       " 'Evolution: A Course for Educators',\n",
       " 'Coding the Matrix: Linear Algebra through Computer Science Applications',\n",
       " 'The Dynamic Earth: A Course for Educators']"
      ]
     },
     "execution_count": 3,
     "metadata": {},
     "output_type": "execute_result"
    }
   ],
   "source": [
    "courses_name = [course.split('\\t')[0] for course in courses]\n",
    "courses_name[:10]"
   ]
  },
  {
   "cell_type": "markdown",
   "metadata": {
    "collapsed": true
   },
   "source": [
    "## 2.2 Preprocess the data\n",
    "\n",
    "Generally, we need to do the following text pre-processing:\n",
    "\n",
    "1. lowercase the words\n",
    "2. eliminate punctuations\n",
    "3. eliminate the stopwords\n",
    "3. stemming"
   ]
  },
  {
   "cell_type": "code",
   "execution_count": 4,
   "metadata": {},
   "outputs": [
    {
     "name": "stdout",
     "output_type": "stream",
     "text": [
      "['writing', 'ii:', 'rhetorical', 'composing', 'rhetorical', 'composing', 'engages', 'you', 'in', 'a', 'series', 'of', 'interactive', 'reading,', 'research,', 'and', 'composing', 'activities', 'along', 'with', 'assignments', 'designed', 'to', 'help', 'you', 'become', 'more', 'effective', 'consumers', 'and', 'producers', 'of', 'alphabetic,', 'visual', 'and', 'multimodal', 'texts.', 'join', 'us', 'to', 'become', 'more', 'effective', 'writers...', 'and', 'better', 'citizens.', 'rhetorical', 'composing', 'is', 'a', 'course', 'where', 'writers', 'exchange', 'words,', 'ideas,', 'talents,', 'and', 'support.', 'you', 'will', 'be', 'introduced', 'to', 'a', 'variety', 'of', 'rhetorical', 'concepts鈥攖hat', 'is,', 'ideas', 'and', 'techniques', 'to', 'inform', 'and', 'persuade', 'audiences鈥攖hat', 'will', 'help', 'you', 'become', 'a', 'more', 'effective', 'consumer', 'and', 'producer', 'of', 'written,', 'visual,', 'and', 'multimodal', 'texts.', 'the', 'class', 'includes', 'short', 'videos,', 'demonstrations,', 'and', 'activities.', 'we', 'envision', 'rhetorical', 'composing', 'as', 'a', 'learning', 'community', 'that', 'includes', 'both', 'those', 'enrolled', 'in', 'this', 'course', 'and', 'the', 'instructors.', 'we', 'bring', 'our', 'expertise', 'in', 'writing,', 'rhetoric', 'and', 'course', 'design,', 'and', 'we', 'have', 'designed', 'the', 'assignments', 'and', 'course', 'infrastructure', 'to', 'help', 'you', 'share', 'your', 'experiences', 'as', 'writers,', 'students,', 'and', 'professionals', 'with', 'each', 'other', 'and', 'with', 'us.', 'these', 'collaborations', 'are', 'facilitated', 'through', 'wex,', 'the', 'writers', 'exchange,', 'a', 'place', 'where', 'you', 'will', 'exchange', 'your', 'work', 'and', 'feedback']\t"
     ]
    }
   ],
   "source": [
    "text_lower = [[word for word in document.lower().split()] for document in courses]\n",
    "print(text_lower[0], end = '\\t')"
   ]
  },
  {
   "cell_type": "markdown",
   "metadata": {},
   "source": [
    "From the text above, we see some output such as 'texts.' does not split the word and the punctuation. Hence, it would be better if we could use the **word_tokenize** function in nltk and get a more meaningful result."
   ]
  },
  {
   "cell_type": "code",
   "execution_count": 5,
   "metadata": {},
   "outputs": [
    {
     "name": "stdout",
     "output_type": "stream",
     "text": [
      "['writing', 'ii', ':', 'rhetorical', 'composing', 'rhetorical', 'composing', 'engages', 'you', 'in', 'a', 'series', 'of', 'interactive', 'reading', ',', 'research', ',', 'and', 'composing', 'activities', 'along', 'with', 'assignments', 'designed', 'to', 'help', 'you', 'become', 'more', 'effective', 'consumers', 'and', 'producers', 'of', 'alphabetic', ',', 'visual', 'and', 'multimodal', 'texts', '.', 'join', 'us', 'to', 'become', 'more', 'effective', 'writers', '...', 'and', 'better', 'citizens', '.', 'rhetorical', 'composing', 'is', 'a', 'course', 'where', 'writers', 'exchange', 'words', ',', 'ideas', ',', 'talents', ',', 'and', 'support', '.', 'you', 'will', 'be', 'introduced', 'to', 'a', 'variety', 'of', 'rhetorical', 'concepts鈥攖hat', 'is', ',', 'ideas', 'and', 'techniques', 'to', 'inform', 'and', 'persuade', 'audiences鈥攖hat', 'will', 'help', 'you', 'become', 'a', 'more', 'effective', 'consumer', 'and', 'producer', 'of', 'written', ',', 'visual', ',', 'and', 'multimodal', 'texts', '.', 'the', 'class', 'includes', 'short', 'videos', ',', 'demonstrations', ',', 'and', 'activities', '.', 'we', 'envision', 'rhetorical', 'composing', 'as', 'a', 'learning', 'community', 'that', 'includes', 'both', 'those', 'enrolled', 'in', 'this', 'course', 'and', 'the', 'instructors', '.', 'we', 'bring', 'our', 'expertise', 'in', 'writing', ',', 'rhetoric', 'and', 'course', 'design', ',', 'and', 'we', 'have', 'designed', 'the', 'assignments', 'and', 'course', 'infrastructure', 'to', 'help', 'you', 'share', 'your', 'experiences', 'as', 'writers', ',', 'students', ',', 'and', 'professionals', 'with', 'each', 'other', 'and', 'with', 'us', '.', 'these', 'collaborations', 'are', 'facilitated', 'through', 'wex', ',', 'the', 'writers', 'exchange', ',', 'a', 'place', 'where', 'you', 'will', 'exchange', 'your', 'work', 'and', 'feedback']\t"
     ]
    }
   ],
   "source": [
    "text_lower = [[word.lower() for word in word_tokenize(document)] for document in courses]\n",
    "print(text_lower[0], end = '\\t')"
   ]
  },
  {
   "cell_type": "markdown",
   "metadata": {},
   "source": [
    "The words and the punctuations have been splitted. Then we need to do is eliminate the punctuatiaons."
   ]
  },
  {
   "cell_type": "code",
   "execution_count": 6,
   "metadata": {},
   "outputs": [
    {
     "name": "stdout",
     "output_type": "stream",
     "text": [
      "['writing', 'ii', 'rhetorical', 'composing', 'rhetorical', 'composing', 'engages', 'you', 'in', 'a', 'series', 'of', 'interactive', 'reading', 'research', 'and', 'composing', 'activities', 'along', 'with', 'assignments', 'designed', 'to', 'help', 'you', 'become', 'more', 'effective', 'consumers', 'and', 'producers', 'of', 'alphabetic', 'visual', 'and', 'multimodal', 'texts', 'join', 'us', 'to', 'become', 'more', 'effective', 'writers', 'and', 'better', 'citizens', 'rhetorical', 'composing', 'is', 'a', 'course', 'where', 'writers', 'exchange', 'words', 'ideas', 'talents', 'and', 'support', 'you', 'will', 'be', 'introduced', 'to', 'a', 'variety', 'of', 'rhetorical', 'concepts鈥攖hat', 'is', 'ideas', 'and', 'techniques', 'to', 'inform', 'and', 'persuade', 'audiences鈥攖hat', 'will', 'help', 'you', 'become', 'a', 'more', 'effective', 'consumer', 'and', 'producer', 'of', 'written', 'visual', 'and', 'multimodal', 'texts', 'the', 'class', 'includes', 'short', 'videos', 'demonstrations', 'and', 'activities', 'we', 'envision', 'rhetorical', 'composing', 'as', 'a', 'learning', 'community', 'that', 'includes', 'both', 'those', 'enrolled', 'in', 'this', 'course', 'and', 'the', 'instructors', 'we', 'bring', 'our', 'expertise', 'in', 'writing', 'rhetoric', 'and', 'course', 'design', 'and', 'we', 'have', 'designed', 'the', 'assignments', 'and', 'course', 'infrastructure', 'to', 'help', 'you', 'share', 'your', 'experiences', 'as', 'writers', 'students', 'and', 'professionals', 'with', 'each', 'other', 'and', 'with', 'us', 'these', 'collaborations', 'are', 'facilitated', 'through', 'wex', 'the', 'writers', 'exchange', 'a', 'place', 'where', 'you', 'will', 'exchange', 'your', 'work', 'and', 'feedback']\t"
     ]
    }
   ],
   "source": [
    "x = re.compile('[%s]' % re.escape(string.punctuation))\n",
    "text_lower_no_punctuation = []\n",
    "\n",
    "for text in text_lower:\n",
    "    new_text = []\n",
    "    for token in text:\n",
    "        new_token = x.sub(u'',token) \n",
    "        if not new_token == u'':\n",
    "            new_text.append(new_token)\n",
    "    text_lower_no_punctuation.append(new_text)\n",
    "    \n",
    "print(text_lower_no_punctuation[0], end = \"\\t\")"
   ]
  },
  {
   "cell_type": "markdown",
   "metadata": {},
   "source": [
    "The punctuations have been removed. After that, we need to remove the unmeaningful stopwords. Fortunately, nltk provides us with a list of stopwords which are helpful in this task."
   ]
  },
  {
   "cell_type": "code",
   "execution_count": 7,
   "metadata": {
    "collapsed": true
   },
   "outputs": [],
   "source": [
    "english_stopwords = stopwords.words('english')"
   ]
  },
  {
   "cell_type": "code",
   "execution_count": 8,
   "metadata": {},
   "outputs": [
    {
     "name": "stdout",
     "output_type": "stream",
     "text": [
      "['writing', 'ii', 'rhetorical', 'composing', 'rhetorical', 'composing', 'engages', 'series', 'interactive', 'reading', 'research', 'composing', 'activities', 'along', 'assignments', 'designed', 'help', 'become', 'effective', 'consumers', 'producers', 'alphabetic', 'visual', 'multimodal', 'texts', 'join', 'us', 'become', 'effective', 'writers', 'better', 'citizens', 'rhetorical', 'composing', 'course', 'writers', 'exchange', 'words', 'ideas', 'talents', 'support', 'introduced', 'variety', 'rhetorical', 'concepts鈥攖hat', 'ideas', 'techniques', 'inform', 'persuade', 'audiences鈥攖hat', 'help', 'become', 'effective', 'consumer', 'producer', 'written', 'visual', 'multimodal', 'texts', 'class', 'includes', 'short', 'videos', 'demonstrations', 'activities', 'envision', 'rhetorical', 'composing', 'learning', 'community', 'includes', 'enrolled', 'course', 'instructors', 'bring', 'expertise', 'writing', 'rhetoric', 'course', 'design', 'designed', 'assignments', 'course', 'infrastructure', 'help', 'share', 'experiences', 'writers', 'students', 'professionals', 'us', 'collaborations', 'facilitated', 'wex', 'writers', 'exchange', 'place', 'exchange', 'work', 'feedback']\t"
     ]
    }
   ],
   "source": [
    "text_filtered = [[word for word in document if word not in english_stopwords ] for document in text_lower_no_punctuation]\n",
    "print(text_filtered[0], end = \"\\t\")"
   ]
  },
  {
   "cell_type": "markdown",
   "metadata": {},
   "source": [
    "At last, we do the stemming for this text. Stemming in NLP means that we treat each word's different variants as the same word. For instance for playing, played, play, we see them as a same word:play. nltk has many useful stemmers. The most well-know ones are Lancaster Stemmer and Porter Stemmer. Here we use Lancaster Stemmer to cope with this Coursera corpus."
   ]
  },
  {
   "cell_type": "code",
   "execution_count": 9,
   "metadata": {},
   "outputs": [
    {
     "name": "stdout",
     "output_type": "stream",
     "text": [
      "['writ', 'ii', 'rhet', 'compos', 'rhet', 'compos', 'eng', 'sery', 'interact', 'read', 'research', 'compos', 'act', 'along', 'assign', 'design', 'help', 'becom', 'effect', 'consum', 'produc', 'alphabet', 'vis', 'multimod', 'text', 'join', 'us', 'becom', 'effect', 'writ', 'bet', 'cit', 'rhet', 'compos', 'cours', 'writ', 'exchang', 'word', 'idea', 'tal', 'support', 'introduc', 'vary', 'rhet', 'concepts鈥攖h', 'idea', 'techn', 'inform', 'persuad', 'audiences鈥攖h', 'help', 'becom', 'effect', 'consum', 'produc', 'writ', 'vis', 'multimod', 'text', 'class', 'includ', 'short', 'video', 'demonst', 'act', 'envid', 'rhet', 'compos', 'learn', 'commun', 'includ', 'enrol', 'cours', 'instruct', 'bring', 'expert', 'writ', 'rhet', 'cours', 'design', 'design', 'assign', 'cours', 'infrastruct', 'help', 'shar', 'expery', 'writ', 'stud', 'profess', 'us', 'collab', 'facilit', 'wex', 'writ', 'exchang', 'plac', 'exchang', 'work', 'feedback']\t"
     ]
    }
   ],
   "source": [
    "st = LancasterStemmer()\n",
    "text_stemmed = [[st.stem(word) for word in docment] for docment in text_filtered]\n",
    "print(text_stemmed[0], end = \"\\t\")"
   ]
  },
  {
   "cell_type": "markdown",
   "metadata": {},
   "source": [
    "## 2.3 Train the data\n",
    "\n",
    "We have finished the text data preprocessing. Next, we will fead the data to our NLP models. First, let's construct a bag-of-words model."
   ]
  },
  {
   "cell_type": "code",
   "execution_count": 10,
   "metadata": {
    "collapsed": true
   },
   "outputs": [],
   "source": [
    "dictionary = corpora.Dictionary(text_stemmed)"
   ]
  },
  {
   "cell_type": "markdown",
   "metadata": {},
   "source": [
    "Then we construct the bag-of-words model."
   ]
  },
  {
   "cell_type": "code",
   "execution_count": 11,
   "metadata": {},
   "outputs": [
    {
     "name": "stdout",
     "output_type": "stream",
     "text": [
      "Dictionary(6167 unique tokens: ['diagnostic', '鈥渢echnolog', 'mechanismbas', 'n茅cessite', 'perpet']...)\n"
     ]
    }
   ],
   "source": [
    "print(dictionary)"
   ]
  },
  {
   "cell_type": "markdown",
   "metadata": {},
   "source": [
    "From the dictionary, we get the id of each unique word. Then we could calculate how many times a word appears in this Coursera corpus."
   ]
  },
  {
   "cell_type": "code",
   "execution_count": 12,
   "metadata": {
    "collapsed": true
   },
   "outputs": [],
   "source": [
    "'''\n",
    "doc2bow converts `document` (a list of words) into the bag-of-words format\n",
    "'''\n",
    "corpus = [dictionary.doc2bow(text) for text in text_stemmed] "
   ]
  },
  {
   "cell_type": "code",
   "execution_count": 13,
   "metadata": {},
   "outputs": [
    {
     "name": "stdout",
     "output_type": "stream",
     "text": [
      "[(0, 1), (1, 1), (2, 2), (3, 2), (4, 2), (5, 1), (6, 1), (7, 1), (8, 5), (9, 1), (10, 1), (11, 1), (12, 1), (13, 1), (14, 3), (15, 1), (16, 1), (17, 2), (18, 1), (19, 2), (20, 1), (21, 1), (22, 1), (23, 2), (24, 1), (25, 1), (26, 1), (27, 1), (28, 1), (29, 1), (30, 3), (31, 2), (32, 2), (33, 7), (34, 1), (35, 1), (36, 3), (37, 2), (38, 1), (39, 1), (40, 1), (41, 6), (42, 1), (43, 1), (44, 1), (45, 1), (46, 1), (47, 1), (48, 3), (49, 1), (50, 1), (51, 1), (52, 1), (53, 1), (54, 1), (55, 1), (56, 1), (57, 3), (58, 1), (59, 2), (60, 1), (61, 4)] "
     ]
    }
   ],
   "source": [
    "print(corpus[0], end = ' ')"
   ]
  },
  {
   "cell_type": "code",
   "execution_count": 14,
   "metadata": {},
   "outputs": [
    {
     "data": {
      "text/plain": [
       "379"
      ]
     },
     "execution_count": 14,
     "metadata": {},
     "output_type": "execute_result"
    }
   ],
   "source": [
    "len(corpus)"
   ]
  },
  {
   "cell_type": "markdown",
   "metadata": {},
   "source": [
    "For instance, the first output (0,1) means that the id 0 (which is the word 'design') occurs 3 times in a corpus. More specifically, it means the word 'design' occurs 3 times in text_stemmed[0]"
   ]
  },
  {
   "cell_type": "code",
   "execution_count": 15,
   "metadata": {},
   "outputs": [
    {
     "data": {
      "text/plain": [
       "'expert'"
      ]
     },
     "execution_count": 15,
     "metadata": {},
     "output_type": "execute_result"
    }
   ],
   "source": [
    "list(dictionary.token2id.keys())[list(dictionary.token2id.values()).index(0)]"
   ]
  },
  {
   "cell_type": "markdown",
   "metadata": {},
   "source": [
    "Then we could construct the TF-IDF model. The value of TF-IDF could be calculated as follows:\n",
    "\n",
    "\\begin{equation}\n",
    "TF-IDF(x) = TF(X) \\times IDF(X)\n",
    "\\end{equation}\n",
    "\n",
    "where $TF(x)$ means the word frequency of a word $x$. $IDF(x)$ represents the importance of a word $X$. We usually use the following formular to calcualte the $IDF(X)$:\n",
    "\n",
    "\\begin{equation}\n",
    "IDF(X) = log\\frac{N+1}{N(x)+1} + 1\n",
    "\\end{equation}\n",
    "\n",
    "where $N$ means the number of documents and $N(x)$ means the number of documents with word $x$. Sometimes, we could not find the term $x$ in all of our documents. Hence, it would be better if we could just add 1 to both of numerator and the denominator.\n",
    "\n",
    "Hence, we could train a TF-IDF model based on our bag-of-words format."
   ]
  },
  {
   "cell_type": "code",
   "execution_count": 16,
   "metadata": {
    "collapsed": true
   },
   "outputs": [],
   "source": [
    "tfidf = models.TfidfModel(corpus)"
   ]
  },
  {
   "cell_type": "markdown",
   "metadata": {},
   "source": [
    "Then we could calculate the TF-IDF value for each word in this corpus."
   ]
  },
  {
   "cell_type": "code",
   "execution_count": 17,
   "metadata": {
    "collapsed": true
   },
   "outputs": [],
   "source": [
    "corpus_tfidf = tfidf[corpus]"
   ]
  },
  {
   "cell_type": "code",
   "execution_count": 18,
   "metadata": {},
   "outputs": [
    {
     "name": "stdout",
     "output_type": "stream",
     "text": [
      "[(0, 0.06356315123530916), (1, 0.08326161336877998), (2, 0.082170178357927), (3, 0.10920030859393032), (4, 0.022030147784449523), (5, 0.018615393495326763), (6, 0.05093850343205337), (7, 0.05542000190122536), (8, 0.38741978484543227), (9, 0.042795354097969585), (10, 0.024482508739581715), (11, 0.04842479227956166), (12, 0.10532556843664105), (13, 0.011667494796360069), (14, 0.10907749209824724), (15, 0.07300245849991446), (16, 0.03635916403274908), (17, 0.061001377402935375), (18, 0.050279969766526385), (19, 0.12022360096920506), (20, 0.11924637417041838), (21, 0.06934080763500267), (22, 0.06934080763500267), (23, 0.04236546424533216), (24, 0.017319235564805236), (25, 0.11924637417041838), (26, 0.11924637417041838), (27, 0.03074412777174355), (28, 0.06934080763500267), (29, 0.11924637417041838), (30, 0.22535539210408861), (31, 0.10920030859393032), (32, 0.07901821252782935), (33, 0.31265453453864595), (34, 0.05542000190122536), (35, 0.03480152498628928), (36, 0.12974006157158152), (37, 0.13248985188182727), (38, 0.04964234550153185), (39, 0.04619099475082523), (40, 0.0437083966601677), (41, 0.5830945146153437), (42, 0.06934080763500267), (43, 0.04964234550153185), (44, 0.07748395696908646), (45, 0.06485930916583067), (46, 0.11924637417041838), (47, 0.030990553898974024), (48, 0.0872968412826239), (49, 0.03363693920793713), (50, 0.07748395696908646), (51, 0.03541016178789597), (52, 0.06485930916583067), (53, 0.05716749292430448), (54, 0.05908165276613715), (55, 0.04902434359022069), (56, 0.03603782153896876), (57, 0.0879776443702496), (58, 0.04028164294547788), (59, 0.23849274834083675), (60, 0.05093850343205337), (61, 0.009913660198250697)] "
     ]
    }
   ],
   "source": [
    "docs = [doc for doc in corpus_tfidf]\n",
    "print(docs[0], end =' ')"
   ]
  },
  {
   "attachments": {
    "_auto_0": {
     "image/png": "[encoded data removed]"
    }
   },
   "cell_type": "markdown",
   "metadata": {},
   "source": [
    "Then we use **Latent Semantic Index(LSI)** or **Latent Semantic Analysis(LSA)** model to train our data. The KSI model assumes that **words that are close in meaning will occur in similar pieces**. The LSI model is based on singular value decomposition(SVD). If we use SVD and implement PCA with first $k$ features, for a $m \\times n$ matrix $A$, we could get：\n",
    "\n",
    "\\begin{equation}\n",
    "A_{m \\times n} \\approx U_{m \\times k} \\Sigma_{k \\times k} V_{k \\times n}\n",
    "\\end{equation}\n",
    "\n",
    "We always use $A_{m \\times n}$ to represent the feature value of mth word in the nth document. In this case, we use TF-IDF value to be this feature value. Then for the terms $ U_{m \\times k}, \\Sigma_{k \\times k}$ and $V_{k \\times n} $:\n",
    "\n",
    "1. $U_{m \\times k}$ represents the correlation between mth word and kth topic\n",
    "2. $\\Sigma_{k \\times k}$ represents the correlatiion between the topics\n",
    "3. $V_{k \\times n} $ represents the correlation between the kth topic and the nth document.\n",
    "\n",
    "The following figure shows the general idea of LSI:\n",
    "\n",
    "![_auto_0](attachment:_auto_0)\n",
    "\n",
    "Hence for the function models.LsiModel, we use the TF-IDF values as the inputs and we assume that there are 10 different topics for this Coursera dataset. Then we could construct the following LSI model:"
   ]
  },
  {
   "cell_type": "code",
   "execution_count": 19,
   "metadata": {
    "collapsed": true
   },
   "outputs": [],
   "source": [
    "lsi = models.LsiModel(corpus = corpus_tfidf, id2word=dictionary, num_topics=10)"
   ]
  },
  {
   "cell_type": "markdown",
   "metadata": {},
   "source": [
    "With this LSI model, we could project our corpus to a 10-dimensional space."
   ]
  },
  {
   "cell_type": "code",
   "execution_count": 20,
   "metadata": {
    "collapsed": true
   },
   "outputs": [],
   "source": [
    "corpus_lsi = lsi[corpus_tfidf]"
   ]
  },
  {
   "cell_type": "markdown",
   "metadata": {},
   "source": [
    "Then we could compute the similarity between different documents."
   ]
  },
  {
   "cell_type": "code",
   "execution_count": 21,
   "metadata": {
    "collapsed": true
   },
   "outputs": [],
   "source": [
    "index = similarities.MatrixSimilarity(lsi[corpus])"
   ]
  },
  {
   "cell_type": "markdown",
   "metadata": {},
   "source": [
    "For instance, if a user has finished Andrew Ng's course Machine learning, he wants to study other courses which also contains machine learning. Hence, firstly we construct the bag-of-words framework for this course."
   ]
  },
  {
   "cell_type": "code",
   "execution_count": 22,
   "metadata": {
    "collapsed": true
   },
   "outputs": [],
   "source": [
    "ml_course = text_stemmed[210]\n",
    "ml_bow = dictionary.doc2bow(ml_course)"
   ]
  },
  {
   "cell_type": "code",
   "execution_count": 23,
   "metadata": {},
   "outputs": [
    {
     "name": "stdout",
     "output_type": "stream",
     "text": [
      "[(0, -8.6971891516311803), (1, 0.6756483706633416), (2, 1.0892949978946991), (3, -0.0093186486061790624), (4, -4.4757855681268062), (5, 0.36841044228752684), (6, 2.0171844170169106), (7, 1.5613763675351147), (8, 0.3044796100380609), (9, -0.69103130409389613)]\n"
     ]
    }
   ],
   "source": [
    "ml_lsi = lsi[ml_bow]\n",
    "print(ml_lsi)"
   ]
  },
  {
   "cell_type": "code",
   "execution_count": 24,
   "metadata": {
    "collapsed": true
   },
   "outputs": [],
   "source": [
    "sims = index[ml_lsi]"
   ]
  },
  {
   "cell_type": "code",
   "execution_count": 25,
   "metadata": {},
   "outputs": [
    {
     "name": "stdout",
     "output_type": "stream",
     "text": [
      "[(210, 1.0), (174, 0.97889173), (189, 0.94530272), (238, 0.94380879), (63, 0.94207221), (184, 0.93176055), (141, 0.92864418), (203, 0.92150527), (219, 0.92006952), (221, 0.91825765)]\n"
     ]
    }
   ],
   "source": [
    "sort_sims = sorted(enumerate(sims), key=lambda item: -item[1])\n",
    "print(sort_sims[:10])"
   ]
  },
  {
   "cell_type": "markdown",
   "metadata": {},
   "source": [
    "Hence we finally get the courses which are most close to Andrew's course 'machine learning' are:"
   ]
  },
  {
   "cell_type": "code",
   "execution_count": 26,
   "metadata": {},
   "outputs": [
    {
     "name": "stdout",
     "output_type": "stream",
     "text": [
      "['Machine Learning', 'Machine Learning', 'Computer Security', 'Probabilistic Graphical Models', 'Human-Computer Interaction', 'Computer Science 101', 'Computational Photography', 'Neural Networks for Machine Learning', 'Cryptography II', 'Heterogeneous Parallel Programming']\n"
     ]
    }
   ],
   "source": [
    "course_id = [course[0] for course in sort_sims[:10]]\n",
    "top_10_courses = [courses_name[i] for i in course_id]\n",
    "print(top_10_courses)"
   ]
  },
  {
   "cell_type": "markdown",
   "metadata": {
    "collapsed": true
   },
   "source": [
    "The results look quite reasonable. But the LSI model does have the following **issues**:\n",
    "\n",
    "1. This model is computationally expensive, especially when we are analyzing the large corpus(The speed could be improved by implementing the NMF decomposition).\n",
    "2. It is hard to select the appropriate $k$.\n",
    "3. The result, for instance the output given by the code below, is hard to interpret.\n",
    "\n",
    "```Python\n",
    "index = similarities.MatrixSimilarity(lsi[corpus])\n",
    "```"
   ]
  },
  {
   "cell_type": "markdown",
   "metadata": {},
   "source": [
    "To speed up the computation, we sometimes use **NMF** decomposition. The general idea of this decomposition is that we want to each value computed by $W$ and $H$ is similar to the value in $V$:"
   ]
  },
  {
   "attachments": {
    "_auto_0": {
     "image/png": "[encoded data removed]"
    }
   },
   "cell_type": "markdown",
   "metadata": {},
   "source": [
    "![_auto_0](attachment:_auto_0)"
   ]
  },
  {
   "cell_type": "code",
   "execution_count": null,
   "metadata": {
    "collapsed": true
   },
   "outputs": [],
   "source": []
  }
 ],
 "metadata": {
  "kernelspec": {
   "display_name": "Python 3",
   "language": "python",
   "name": "python3"
  },
  "language_info": {
   "codemirror_mode": {
    "name": "ipython",
    "version": 3
   },
   "file_extension": ".py",
   "mimetype": "text/x-python",
   "name": "python",
   "nbconvert_exporter": "python",
   "pygments_lexer": "ipython3",
   "version": "3.5.2"
  }
 },
 "nbformat": 4,
 "nbformat_minor": 2
}
