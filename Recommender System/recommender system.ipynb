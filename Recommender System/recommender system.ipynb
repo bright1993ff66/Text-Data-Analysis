{
 "cells": [
  {
   "cell_type": "markdown",
   "metadata": {},
   "source": [
    "# 1. Introduction\n",
    "\n",
    "In this post I am going to talk about how to apply the natural lanugage processing techniques to the recommender system. In many real cases, for instance, if we have finished a course in Coursera, we want to learn some related courses to get a deeper insight into one research field. Hence, it would be better if our online system could automatically recommend some relevant courses for a learner.\n",
    "\n",
    "If we talk more about this coursera case, some people might say we could use labels to tag all the courses previously and if one learner finished one course, based on the label the system would post some relevant courses. However, manually labelling huge number of courses is very time consuming. Moreover, some algorithms such as collaborative filtering and content-based filtering could also help this problem. But these approaches would not work if we had a new course on Coursera and we did not have much feedback(data) from users about this course. **A better approach** to this problem is that we utilize the title and the description of each course and use NLP techniques to work out for instance the similarity of two courses. Based on this similarity, our system could automatically recommende coursers to our users. The following sections will show the main techniques we use.\n",
    "\n",
    "So let's get started!"
   ]
  },
  {
   "cell_type": "markdown",
   "metadata": {},
   "source": [
    "# 2. Construct the NLP Models\n",
    "\n",
    "In this section we show how to create a recommendation system for our Coursera users. Let's first import modules for this task."
   ]
  },
  {
   "cell_type": "markdown",
   "metadata": {},
   "source": [
    "## 2.1 Load the dataset\n",
    "\n",
    "First we import all the modules we need in this case study."
   ]
  },
  {
   "cell_type": "code",
   "execution_count": 2,
   "metadata": {},
   "outputs": [],
   "source": [
    "import nltk\n",
    "import re\n",
    "import string\n",
    "import time\n",
    "import math\n",
    "import numpy as np\n",
    "\n",
    "from nltk.tokenize import word_tokenize\n",
    "from nltk.corpus import stopwords\n",
    "from nltk.stem.lancaster import LancasterStemmer\n",
    "\n",
    "from gensim import corpora, models, similarities, matutils\n",
    "from gensim.scripts.glove2word2vec import glove2word2vec\n",
    "\n",
    "from sklearn.feature_extraction.text import TfidfTransformer\n",
    "from sklearn.feature_extraction.text import CountVectorizer \n",
    "from sklearn.metrics.pairwise import cosine_similarity\n",
    "\n",
    "from matplotlib import pyplot as plt"
   ]
  },
  {
   "cell_type": "markdown",
   "metadata": {},
   "source": [
    "Then we load the data. The data can be found in here: [Coursera corpus](https://github.com/bright1993ff66/Text-Data-Analysis/blob/master/Recommender%20System/coursera_corpus)"
   ]
  },
  {
   "cell_type": "code",
   "execution_count": 3,
   "metadata": {},
   "outputs": [
    {
     "data": {
      "text/plain": [
       "['Writing II: Rhetorical Composing\\tRhetorical Composing engages you in a series of interactive reading, research, and composing activities along with assignments designed to help you become more effective consumers and producers of alphabetic, visual and multimodal texts.  Join us to become more effective writers... and better citizens.\\tRhetorical Composing is a course where writers exchange words, ideas,     talents, and support. You will be introduced to a variety of rhetorical     concepts—that is, ideas and techniques to inform and persuade audiences—that     will help you become a more effective consumer and producer of written,     visual, and multimodal texts. The class includes short videos, demonstrations,     and activities. We envision Rhetorical Composing as a learning community that includes both those enrolled in this course and the instructors. We bring our expertise in writing, rhetoric and course design, and we have designed the assignments and course infrastructure to help you share your experiences as writers, students, and professionals with each other and with us. These collaborations are facilitated through WEx, The Writers Exchange, a place where you will exchange your work and feedback',\n",
       " 'Genetics and Society: A Course for Educators\\tHow have advances in genetics affected society? What do we need to know to make ethical decisions about genetic technologies? This course includes the study of cloning, genetic enhancement, and ownership of genetic information. Course participants will acquire the tools to explore the ethics of modern genetics and learn how to integrate these issues into their classrooms.\\tThe AMNH course Genetics and Society: A Course for Educators explores the social, legal and ethical issues of modern-day genetics. Informed by the recently released Next Generation Science Standards, the course provides an overview of recent genetic discoveries and molecular lab techniques. Participants will acquire an understanding of the science and technology behind breakthroughs such as therapeutic cloning and the sequencing of the human genome. You will also have the opportunity to discuss and debate issues surrounding hot-button topics in genetics: If it is ethical to clone your dog, will humans be next? Should we care if our food is genetically modified? What are the pros and cons of gene therapy?&nbsp;Course participants will bring their understanding of modern genetics and associated ethical issues - along with content resources, discussion questions, and assignments - into their own teaching.&nbsp;']"
      ]
     },
     "execution_count": 3,
     "metadata": {},
     "output_type": "execute_result"
    }
   ],
   "source": [
    "file = open('F:/Data Analysis/github/Text-Data-Analysis/Recommender System/coursera_corpus', 'r', encoding = 'UTF-8')\n",
    "courses = [line.strip() for line in file]\n",
    "courses[:2]"
   ]
  },
  {
   "cell_type": "markdown",
   "metadata": {},
   "source": [
    "From the output, we see that the names of the courses are seperated by tab. Hence we use the following code to extract the courses' names."
   ]
  },
  {
   "cell_type": "code",
   "execution_count": 5,
   "metadata": {},
   "outputs": [
    {
     "data": {
      "text/plain": [
       "['Writing II: Rhetorical Composing',\n",
       " 'Genetics and Society: A Course for Educators',\n",
       " 'General Game Playing',\n",
       " 'Genes and the Human Condition (From Behavior to Biotechnology)',\n",
       " 'A Brief History of Humankind',\n",
       " 'New Models of Business in Society',\n",
       " 'Analyse Numérique pour Ingénieurs',\n",
       " 'Evolution: A Course for Educators',\n",
       " 'Coding the Matrix: Linear Algebra through Computer Science Applications',\n",
       " 'The Dynamic Earth: A Course for Educators']"
      ]
     },
     "execution_count": 5,
     "metadata": {},
     "output_type": "execute_result"
    }
   ],
   "source": [
    "courses_name = [course.split('\\t')[0] for course in courses]\n",
    "courses_name[:10]"
   ]
  },
  {
   "cell_type": "markdown",
   "metadata": {
    "collapsed": true
   },
   "source": [
    "## 2.2 Preprocess the data\n",
    "\n",
    "Generally, to improve the quality of our text data, we always consider the following steps:\n",
    "\n",
    "1. lowercase the words\n",
    "2. eliminate punctuations\n",
    "3. eliminate the stopwords\n",
    "3. stemming"
   ]
  },
  {
   "cell_type": "code",
   "execution_count": 6,
   "metadata": {},
   "outputs": [
    {
     "name": "stdout",
     "output_type": "stream",
     "text": [
      "['writing', 'ii:', 'rhetorical', 'composing', 'rhetorical', 'composing', 'engages', 'you', 'in', 'a', 'series', 'of', 'interactive', 'reading,', 'research,', 'and', 'composing', 'activities', 'along', 'with', 'assignments', 'designed', 'to', 'help', 'you', 'become', 'more', 'effective', 'consumers', 'and', 'producers', 'of', 'alphabetic,', 'visual', 'and', 'multimodal', 'texts.', 'join', 'us', 'to', 'become', 'more', 'effective', 'writers...', 'and', 'better', 'citizens.', 'rhetorical', 'composing', 'is', 'a', 'course', 'where', 'writers', 'exchange', 'words,', 'ideas,', 'talents,', 'and', 'support.', 'you', 'will', 'be', 'introduced', 'to', 'a', 'variety', 'of', 'rhetorical', 'concepts—that', 'is,', 'ideas', 'and', 'techniques', 'to', 'inform', 'and', 'persuade', 'audiences—that', 'will', 'help', 'you', 'become', 'a', 'more', 'effective', 'consumer', 'and', 'producer', 'of', 'written,', 'visual,', 'and', 'multimodal', 'texts.', 'the', 'class', 'includes', 'short', 'videos,', 'demonstrations,', 'and', 'activities.', 'we', 'envision', 'rhetorical', 'composing', 'as', 'a', 'learning', 'community', 'that', 'includes', 'both', 'those', 'enrolled', 'in', 'this', 'course', 'and', 'the', 'instructors.', 'we', 'bring', 'our', 'expertise', 'in', 'writing,', 'rhetoric', 'and', 'course', 'design,', 'and', 'we', 'have', 'designed', 'the', 'assignments', 'and', 'course', 'infrastructure', 'to', 'help', 'you', 'share', 'your', 'experiences', 'as', 'writers,', 'students,', 'and', 'professionals', 'with', 'each', 'other', 'and', 'with', 'us.', 'these', 'collaborations', 'are', 'facilitated', 'through', 'wex,', 'the', 'writers', 'exchange,', 'a', 'place', 'where', 'you', 'will', 'exchange', 'your', 'work', 'and', 'feedback']\t"
     ]
    }
   ],
   "source": [
    "text_lower = [[word for word in document.lower().split()] for document in courses]\n",
    "print(text_lower[0], end = '\\t')"
   ]
  },
  {
   "cell_type": "markdown",
   "metadata": {},
   "source": [
    "From the text above, we see some output such as 'texts.' does not split the word and the punctuation. Hence, it would be better if we could use the **word_tokenize** function in nltk and get a more meaningful result."
   ]
  },
  {
   "cell_type": "code",
   "execution_count": 7,
   "metadata": {},
   "outputs": [
    {
     "name": "stdout",
     "output_type": "stream",
     "text": [
      "['writing', 'ii', ':', 'rhetorical', 'composing', 'rhetorical', 'composing', 'engages', 'you', 'in', 'a', 'series', 'of', 'interactive', 'reading', ',', 'research', ',', 'and', 'composing', 'activities', 'along', 'with', 'assignments', 'designed', 'to', 'help', 'you', 'become', 'more', 'effective', 'consumers', 'and', 'producers', 'of', 'alphabetic', ',', 'visual', 'and', 'multimodal', 'texts', '.', 'join', 'us', 'to', 'become', 'more', 'effective', 'writers', '...', 'and', 'better', 'citizens', '.', 'rhetorical', 'composing', 'is', 'a', 'course', 'where', 'writers', 'exchange', 'words', ',', 'ideas', ',', 'talents', ',', 'and', 'support', '.', 'you', 'will', 'be', 'introduced', 'to', 'a', 'variety', 'of', 'rhetorical', 'concepts—that', 'is', ',', 'ideas', 'and', 'techniques', 'to', 'inform', 'and', 'persuade', 'audiences—that', 'will', 'help', 'you', 'become', 'a', 'more', 'effective', 'consumer', 'and', 'producer', 'of', 'written', ',', 'visual', ',', 'and', 'multimodal', 'texts', '.', 'the', 'class', 'includes', 'short', 'videos', ',', 'demonstrations', ',', 'and', 'activities', '.', 'we', 'envision', 'rhetorical', 'composing', 'as', 'a', 'learning', 'community', 'that', 'includes', 'both', 'those', 'enrolled', 'in', 'this', 'course', 'and', 'the', 'instructors', '.', 'we', 'bring', 'our', 'expertise', 'in', 'writing', ',', 'rhetoric', 'and', 'course', 'design', ',', 'and', 'we', 'have', 'designed', 'the', 'assignments', 'and', 'course', 'infrastructure', 'to', 'help', 'you', 'share', 'your', 'experiences', 'as', 'writers', ',', 'students', ',', 'and', 'professionals', 'with', 'each', 'other', 'and', 'with', 'us', '.', 'these', 'collaborations', 'are', 'facilitated', 'through', 'wex', ',', 'the', 'writers', 'exchange', ',', 'a', 'place', 'where', 'you', 'will', 'exchange', 'your', 'work', 'and', 'feedback']\t"
     ]
    }
   ],
   "source": [
    "text_lower = [[word.lower() for word in word_tokenize(document)] for document in courses]\n",
    "print(text_lower[0], end = '\\t')"
   ]
  },
  {
   "cell_type": "markdown",
   "metadata": {},
   "source": [
    "The words and the punctuations have been splitted. Then we need to do is eliminate the punctuatiaons."
   ]
  },
  {
   "cell_type": "code",
   "execution_count": 8,
   "metadata": {},
   "outputs": [
    {
     "name": "stdout",
     "output_type": "stream",
     "text": [
      "['writing', 'ii', 'rhetorical', 'composing', 'rhetorical', 'composing', 'engages', 'you', 'in', 'a', 'series', 'of', 'interactive', 'reading', 'research', 'and', 'composing', 'activities', 'along', 'with', 'assignments', 'designed', 'to', 'help', 'you', 'become', 'more', 'effective', 'consumers', 'and', 'producers', 'of', 'alphabetic', 'visual', 'and', 'multimodal', 'texts', 'join', 'us', 'to', 'become', 'more', 'effective', 'writers', 'and', 'better', 'citizens', 'rhetorical', 'composing', 'is', 'a', 'course', 'where', 'writers', 'exchange', 'words', 'ideas', 'talents', 'and', 'support', 'you', 'will', 'be', 'introduced', 'to', 'a', 'variety', 'of', 'rhetorical', 'concepts—that', 'is', 'ideas', 'and', 'techniques', 'to', 'inform', 'and', 'persuade', 'audiences—that', 'will', 'help', 'you', 'become', 'a', 'more', 'effective', 'consumer', 'and', 'producer', 'of', 'written', 'visual', 'and', 'multimodal', 'texts', 'the', 'class', 'includes', 'short', 'videos', 'demonstrations', 'and', 'activities', 'we', 'envision', 'rhetorical', 'composing', 'as', 'a', 'learning', 'community', 'that', 'includes', 'both', 'those', 'enrolled', 'in', 'this', 'course', 'and', 'the', 'instructors', 'we', 'bring', 'our', 'expertise', 'in', 'writing', 'rhetoric', 'and', 'course', 'design', 'and', 'we', 'have', 'designed', 'the', 'assignments', 'and', 'course', 'infrastructure', 'to', 'help', 'you', 'share', 'your', 'experiences', 'as', 'writers', 'students', 'and', 'professionals', 'with', 'each', 'other', 'and', 'with', 'us', 'these', 'collaborations', 'are', 'facilitated', 'through', 'wex', 'the', 'writers', 'exchange', 'a', 'place', 'where', 'you', 'will', 'exchange', 'your', 'work', 'and', 'feedback']\t"
     ]
    }
   ],
   "source": [
    "x = re.compile('[%s]' % re.escape(string.punctuation))\n",
    "text_lower_no_punctuation = []\n",
    "\n",
    "for text in text_lower:\n",
    "    new_text = []\n",
    "    for token in text:\n",
    "        new_token = x.sub(u'',token) \n",
    "        if not new_token == u'':\n",
    "            new_text.append(new_token)\n",
    "    text_lower_no_punctuation.append(new_text)\n",
    "    \n",
    "print(text_lower_no_punctuation[0], end = \"\\t\")"
   ]
  },
  {
   "cell_type": "markdown",
   "metadata": {},
   "source": [
    "The punctuations have been removed. After that, we need to remove the unmeaningful stopwords. Fortunately, nltk provides us with a list of stopwords which are helpful in this task."
   ]
  },
  {
   "cell_type": "code",
   "execution_count": 9,
   "metadata": {
    "collapsed": true
   },
   "outputs": [],
   "source": [
    "english_stopwords = stopwords.words('english')"
   ]
  },
  {
   "cell_type": "code",
   "execution_count": 10,
   "metadata": {},
   "outputs": [
    {
     "name": "stdout",
     "output_type": "stream",
     "text": [
      "[['writing', 'ii', 'rhetorical', 'composing', 'rhetorical', 'composing', 'engages', 'series', 'interactive', 'reading', 'research', 'composing', 'activities', 'along', 'assignments', 'designed', 'help', 'become', 'effective', 'consumers', 'producers', 'alphabetic', 'visual', 'multimodal', 'texts', 'join', 'us', 'become', 'effective', 'writers', 'better', 'citizens', 'rhetorical', 'composing', 'course', 'writers', 'exchange', 'words', 'ideas', 'talents', 'support', 'introduced', 'variety', 'rhetorical', 'concepts—that', 'ideas', 'techniques', 'inform', 'persuade', 'audiences—that', 'help', 'become', 'effective', 'consumer', 'producer', 'written', 'visual', 'multimodal', 'texts', 'class', 'includes', 'short', 'videos', 'demonstrations', 'activities', 'envision', 'rhetorical', 'composing', 'learning', 'community', 'includes', 'enrolled', 'course', 'instructors', 'bring', 'expertise', 'writing', 'rhetoric', 'course', 'design', 'designed', 'assignments', 'course', 'infrastructure', 'help', 'share', 'experiences', 'writers', 'students', 'professionals', 'us', 'collaborations', 'facilitated', 'wex', 'writers', 'exchange', 'place', 'exchange', 'work', 'feedback'], ['genetics', 'society', 'course', 'educators', 'advances', 'genetics', 'affected', 'society', 'need', 'know', 'make', 'ethical', 'decisions', 'genetic', 'technologies', 'course', 'includes', 'study', 'cloning', 'genetic', 'enhancement', 'ownership', 'genetic', 'information', 'course', 'participants', 'acquire', 'tools', 'explore', 'ethics', 'modern', 'genetics', 'learn', 'integrate', 'issues', 'classrooms', 'amnh', 'course', 'genetics', 'society', 'course', 'educators', 'explores', 'social', 'legal', 'ethical', 'issues', 'modernday', 'genetics', 'informed', 'recently', 'released', 'next', 'generation', 'science', 'standards', 'course', 'provides', 'overview', 'recent', 'genetic', 'discoveries', 'molecular', 'lab', 'techniques', 'participants', 'acquire', 'understanding', 'science', 'technology', 'behind', 'breakthroughs', 'therapeutic', 'cloning', 'sequencing', 'human', 'genome', 'also', 'opportunity', 'discuss', 'debate', 'issues', 'surrounding', 'hotbutton', 'topics', 'genetics', 'ethical', 'clone', 'dog', 'humans', 'next', 'care', 'food', 'genetically', 'modified', 'pros', 'cons', 'gene', 'therapy', 'nbsp', 'course', 'participants', 'bring', 'understanding', 'modern', 'genetics', 'associated', 'ethical', 'issues', 'along', 'content', 'resources', 'discussion', 'questions', 'assignments', 'teaching', 'nbsp']]\t"
     ]
    }
   ],
   "source": [
    "text_filtered = [[word for word in document if word not in english_stopwords ] for document in text_lower_no_punctuation]\n",
    "print(text_filtered[0:2], end = \"\\t\")"
   ]
  },
  {
   "cell_type": "markdown",
   "metadata": {},
   "source": [
    "At last, we do the stemming for this text. Stemming in NLP means that we treat each word's different variants as the same word. For instance for playing, played, play, we see them as a same word:play. nltk has many useful stemmers. The most well-know ones are Lancaster Stemmer and Porter Stemmer. Here we use Lancaster Stemmer to cope with this Coursera corpus."
   ]
  },
  {
   "cell_type": "code",
   "execution_count": 11,
   "metadata": {},
   "outputs": [
    {
     "name": "stdout",
     "output_type": "stream",
     "text": [
      "['writ', 'ii', 'rhet', 'compos', 'rhet', 'compos', 'eng', 'sery', 'interact', 'read', 'research', 'compos', 'act', 'along', 'assign', 'design', 'help', 'becom', 'effect', 'consum', 'produc', 'alphabet', 'vis', 'multimod', 'text', 'join', 'us', 'becom', 'effect', 'writ', 'bet', 'cit', 'rhet', 'compos', 'cours', 'writ', 'exchang', 'word', 'idea', 'tal', 'support', 'introduc', 'vary', 'rhet', 'concepts—that', 'idea', 'techn', 'inform', 'persuad', 'audiences—that', 'help', 'becom', 'effect', 'consum', 'produc', 'writ', 'vis', 'multimod', 'text', 'class', 'includ', 'short', 'video', 'demonst', 'act', 'envid', 'rhet', 'compos', 'learn', 'commun', 'includ', 'enrol', 'cours', 'instruct', 'bring', 'expert', 'writ', 'rhet', 'cours', 'design', 'design', 'assign', 'cours', 'infrastruct', 'help', 'shar', 'expery', 'writ', 'stud', 'profess', 'us', 'collab', 'facilit', 'wex', 'writ', 'exchang', 'plac', 'exchang', 'work', 'feedback']\t"
     ]
    }
   ],
   "source": [
    "st = LancasterStemmer()\n",
    "text_stemmed = [[st.stem(word) for word in docment] for docment in text_filtered]\n",
    "print(text_stemmed[0], end = \"\\t\")"
   ]
  },
  {
   "cell_type": "markdown",
   "metadata": {},
   "source": [
    "## 2.3 Text Data Analysis with Various Models\n",
    "\n",
    "We have finished the text data preprocessing. Next, we will fead the data to our NLP models. To calculate the similarity between two courses, one possible approach is to use topic models such as LDA and LSI to work out the inner relationship between these courses.\n",
    "\n",
    "Hence let's start with the LSI model."
   ]
  },
  {
   "cell_type": "markdown",
   "metadata": {},
   "source": [
    "### 2.3.1 LSI Model"
   ]
  },
  {
   "cell_type": "code",
   "execution_count": 12,
   "metadata": {
    "collapsed": true
   },
   "outputs": [],
   "source": [
    "dictionary = corpora.Dictionary(text_stemmed)"
   ]
  },
  {
   "cell_type": "markdown",
   "metadata": {},
   "source": [
    "Then we construct the bag-of-words model."
   ]
  },
  {
   "cell_type": "code",
   "execution_count": 13,
   "metadata": {},
   "outputs": [
    {
     "name": "stdout",
     "output_type": "stream",
     "text": [
      "Dictionary(5886 unique tokens: ['’', 'dieu', 'singl', 'spring', 'millenn']...)\n"
     ]
    }
   ],
   "source": [
    "print(dictionary)"
   ]
  },
  {
   "cell_type": "markdown",
   "metadata": {},
   "source": [
    "From the dictionary, we get the id of each unique word. Then we could calculate how many times a word appears in this Coursera corpus."
   ]
  },
  {
   "cell_type": "code",
   "execution_count": 14,
   "metadata": {
    "collapsed": true
   },
   "outputs": [],
   "source": [
    "'''\n",
    "doc2bow converts `document` (a list of words) into the bag-of-words format\n",
    "'''\n",
    "corpus = [dictionary.doc2bow(text) for text in text_stemmed] "
   ]
  },
  {
   "cell_type": "code",
   "execution_count": 15,
   "metadata": {},
   "outputs": [
    {
     "name": "stdout",
     "output_type": "stream",
     "text": [
      "[(0, 1), (1, 1), (2, 1), (3, 2), (4, 1), (5, 1), (6, 1), (7, 2), (8, 3), (9, 3), (10, 1), (11, 1), (12, 1), (13, 2), (14, 2), (15, 1), (16, 1), (17, 1), (18, 1), (19, 7), (20, 6), (21, 1), (22, 2), (23, 4), (24, 1), (25, 2), (26, 1), (27, 1), (28, 1), (29, 1), (30, 1), (31, 5), (32, 1), (33, 1), (34, 1), (35, 2), (36, 1), (37, 1), (38, 2), (39, 1), (40, 1), (41, 2), (42, 1), (43, 1), (44, 1), (45, 3), (46, 1), (47, 1), (48, 1), (49, 1), (50, 1), (51, 3), (52, 1), (53, 3), (54, 2), (55, 1), (56, 1), (57, 1), (58, 1), (59, 1), (60, 1), (61, 1)] "
     ]
    }
   ],
   "source": [
    "print(corpus[0], end = ' ')"
   ]
  },
  {
   "cell_type": "markdown",
   "metadata": {},
   "source": [
    "Then to figure out the importance of a word, intuitively, we consider using the TF-IDF value. The value of TF-IDF could be calculated as follows:\n",
    "\n",
    "\\begin{equation}\n",
    "TF-IDF(x) = TF(X) \\times IDF(X)\n",
    "\\end{equation}\n",
    "\n",
    "where $TF(x)$ means the word frequency of a word $x$. $IDF(x)$ represents the importance of a word $X$. We usually use the following formular to calcualte the $IDF(X)$:\n",
    "\n",
    "\\begin{equation}\n",
    "IDF(X) = log\\frac{N+1}{N(x)+1}\n",
    "\\end{equation}\n",
    "\n",
    "where $N$ means the number of documents and $N(x)$ means the number of documents with word $x$. Sometimes, we could not find the term $x$ in all of our documents. Hence, it would be better if we could just add 1 to both the numerator and the denominator.\n",
    "\n",
    "Hence, we could train a TF-IDF model based on our bag-of-words format."
   ]
  },
  {
   "cell_type": "code",
   "execution_count": 16,
   "metadata": {
    "collapsed": true
   },
   "outputs": [],
   "source": [
    "tfidf = models.TfidfModel(corpus)"
   ]
  },
  {
   "cell_type": "markdown",
   "metadata": {},
   "source": [
    "Then we could calculate the TF-IDF value for each word in this corpus."
   ]
  },
  {
   "cell_type": "code",
   "execution_count": 17,
   "metadata": {
    "collapsed": true
   },
   "outputs": [],
   "source": [
    "corpus_tfidf = tfidf[corpus]"
   ]
  },
  {
   "cell_type": "code",
   "execution_count": 18,
   "metadata": {},
   "outputs": [
    {
     "name": "stdout",
     "output_type": "stream",
     "text": [
      "[(0, 0.06942854357795676), (1, 0.04848606348417998), (2, 0.05549012404561855), (3, 0.08227414712216302), (4, 0.06494137473217033), (5, 0.06494137473217033), (6, 0.11939725492070859), (7, 0.07911819315429061), (8, 0.12990421983608894), (9, 0.22564053109367346), (10, 0.07758199632369395), (11, 0.11939725492070859), (12, 0.11939725492070859), (13, 0.23879450984141717), (14, 0.12037571819073922), (15, 0.033679499551263856), (16, 0.03640516876863603), (17, 0.11939725492070859), (18, 0.04848606348417998), (19, 0.3096581070133701), (20, 0.5838322958557992), (21, 0.01837260049835496), (22, 0.1093384781995657), (23, 0.009926203812253558), (24, 0.043763700276130434), (25, 0.13265748941711367), (26, 0.11939725492070859), (27, 0.046249439563031396), (28, 0.08336696311029498), (29, 0.011399692365667558), (30, 0.02451348611154219), (31, 0.38790998161846973), (32, 0.03484555886352626), (33, 0.04848606348417998), (34, 0.10545883538837036), (35, 0.1093384781995657), (36, 0.06942854357795676), (37, 0.04240753106432324), (38, 0.0610785615827926), (39, 0.049705157259017516), (40, 0.057239826144367865), (41, 0.022058022218786385), (42, 0.07758199632369395), (43, 0.01709134627606883), (44, 0.06942854357795676), (45, 0.0880889612390743), (46, 0.049705157259017516), (47, 0.031029765808407047), (48, 0.06942854357795676), (49, 0.0354549657646678), (50, 0.04033261073844281), (51, 0.1092155063059081), (52, 0.05100295519983211), (53, 0.08740729674093296), (54, 0.04241906866790852), (55, 0.03608341968474428), (56, 0.0730948274779075), (57, 0.05100295519983211), (58, 0.05549012404561855), (59, 0.030783027881683914), (60, 0.05817529196281967), (61, 0.06364357679135574)] "
     ]
    }
   ],
   "source": [
    "docs = [doc for doc in corpus_tfidf]\n",
    "print(docs[0], end =' ')"
   ]
  },
  {
   "cell_type": "markdown",
   "metadata": {},
   "source": [
    "Then we use **Latent Semantic Index(LSI)** or **Latent Semantic Analysis(LSA)** model to train our data. The LSI model assumes that **words that are close in meaning will occur in similar pieces**. The LSI model is based on singular value decomposition(SVD). If we use SVD and implement PCA with first $k$ features, for a $m \\times n$ matrix $A$, we could get：\n",
    "\n",
    "\\begin{equation}\n",
    "A_{m \\times n} \\approx U_{m \\times k} \\Sigma_{k \\times k} V_{k \\times n}\n",
    "\\end{equation}\n",
    "\n",
    "We always use $A_{m \\times n}$ to represent the feature value of mth word in the nth document. In this case, we use TF-IDF value to be this feature value. Then for the terms $ U_{m \\times k}, \\Sigma_{k \\times k}$ and $V_{k \\times n} $:\n",
    "\n",
    "1. $U_{m \\times k}$ represents the correlation between mth word and kth topic (an orthogonal matrix)\n",
    "2. $\\Sigma_{k \\times k}$ represents the correlatiion between the topics (a diagonal matrix)\n",
    "3. $V_{k \\times n} $ represents the correlation between the kth topic and the nth document (an orthogonal matrix)\n",
    "\n",
    "So now an important question is: how to choose an appropriate k? This number is a hyperparameter to be carefully selected. In general, we could work out an optimum k by selecting the N largest singular values of the TF-IDF corpus matrix. In gensim, we could use a function called **corpus2dense** to calculate the singular values."
   ]
  },
  {
   "cell_type": "code",
   "execution_count": 19,
   "metadata": {
    "collapsed": true
   },
   "outputs": [],
   "source": [
    "numpy_matrix = matutils.corpus2dense(corpus, num_terms = 31730) # num_terms means number of words in text_stemmed\n",
    "s = np.linalg.svd(numpy_matrix, full_matrices=False, compute_uv=False)"
   ]
  },
  {
   "cell_type": "code",
   "execution_count": 20,
   "metadata": {},
   "outputs": [
    {
     "data": {
      "image/png": "[encoded data removed]",
      "text/plain": [
       "<matplotlib.figure.Figure at 0x1a57e0b2780>"
      ]
     },
     "metadata": {},
     "output_type": "display_data"
    }
   ],
   "source": [
    "plt.figure(figsize=(10,5))\n",
    "plt.hist(s, bins=100)\n",
    "plt.xlabel('Singular values', fontsize=12)\n",
    "plt.show()"
   ]
  },
  {
   "cell_type": "markdown",
   "metadata": {
    "collapsed": true
   },
   "source": [
    "From the plot above, we see that most singular values are between 0 and 30. Then we could try to draw the following plot and see if we could work out the number of topics by seeing the proportion of sum of first k diagonal values of s over the sum of all the diagonal values of s."
   ]
  },
  {
   "cell_type": "code",
   "execution_count": 22,
   "metadata": {},
   "outputs": [
    {
     "data": {
      "image/png": "[encoded data removed]",
      "text/plain": [
       "<matplotlib.figure.Figure at 0x1a57e358ef0>"
      ]
     },
     "metadata": {},
     "output_type": "display_data"
    }
   ],
   "source": [
    "values = []\n",
    "\n",
    "for i in range(len(courses_name)+1):\n",
    "    values.append(sum(list(s)[:i])/sum(list(s)))\n",
    "values.pop(0)\n",
    "    \n",
    "plt.plot(list(range(len(courses_name))), values)\n",
    "plt.xlabel('Course Number')\n",
    "plt.ylabel('Proportion')\n",
    "plt.show()"
   ]
  },
  {
   "cell_type": "markdown",
   "metadata": {},
   "source": [
    "From the firgure above, we see the the proportion grows steadily and it seems hard to find a very appropriate number of topics. But let's try k = 10 first."
   ]
  },
  {
   "cell_type": "markdown",
   "metadata": {},
   "source": [
    "For the function models.LsiModel, we use the TF-IDF values as the inputs and we assume that there are 10 different topics for this Coursera dataset. Then we could construct the following LSI model:"
   ]
  },
  {
   "cell_type": "code",
   "execution_count": 23,
   "metadata": {
    "collapsed": true
   },
   "outputs": [],
   "source": [
    "lsi = models.LsiModel(corpus = corpus_tfidf, id2word=dictionary, num_topics=10)"
   ]
  },
  {
   "cell_type": "markdown",
   "metadata": {},
   "source": [
    "We could see each topic by using the print_topic function. From the results we could see some negative values, which is the main reason why the result given by LSA is hard to interprete."
   ]
  },
  {
   "cell_type": "code",
   "execution_count": 24,
   "metadata": {},
   "outputs": [
    {
     "data": {
      "text/plain": [
       "[(0,\n",
       "  '0.254*\"teach\" + 0.152*\"nbsp\" + 0.136*\"program\" + 0.121*\"learn\" + 0.118*\"mus\" + 0.105*\"heal\" + 0.101*\"comput\" + 0.099*\"stud\" + 0.096*\"network\" + 0.093*\"design\"'),\n",
       " (1,\n",
       "  '0.591*\"de\" + 0.381*\"la\" + 0.216*\"en\" + 0.174*\"à\" + 0.162*\"cour\" + 0.148*\"los\" + 0.144*\"que\" + 0.141*\"les\" + 0.136*\"un\" + 0.111*\"curso\"'),\n",
       " (2,\n",
       "  '0.628*\"teach\" + 0.200*\"portfolio\" + 0.186*\"assist\" + -0.162*\"mus\" + 0.128*\"improv\" + 0.122*\"profess\" + 0.116*\"learn\" + 0.114*\"undertak\" + 0.113*\"strongly\" + -0.111*\"network\"'),\n",
       " (3,\n",
       "  '0.806*\"mus\" + 0.171*\"sound\" + -0.168*\"heal\" + 0.095*\"audio\" + 0.093*\"art\" + 0.090*\"digit\" + -0.084*\"econom\" + -0.079*\"glob\" + 0.073*\"composit\" + 0.069*\"program\"'),\n",
       " (4,\n",
       "  '0.372*\"heal\" + -0.286*\"program\" + -0.213*\"comput\" + 0.213*\"mus\" + -0.184*\"dat\" + -0.183*\"langu\" + -0.180*\"algorithm\" + 0.166*\"glob\" + -0.142*\"network\" + 0.126*\"food\"'),\n",
       " (5,\n",
       "  '0.507*\"heal\" + 0.246*\"program\" + 0.163*\"nutrit\" + -0.155*\"busy\" + -0.148*\"gam\" + -0.137*\"network\" + 0.132*\"langu\" + 0.130*\"diseas\" + -0.125*\"econom\" + 0.118*\"diet\"'),\n",
       " (6,\n",
       "  '-0.499*\"chem\" + -0.313*\"org\" + -0.299*\"react\" + 0.192*\"heal\" + -0.162*\"compound\" + -0.140*\"biolog\" + -0.138*\"structure\" + 0.137*\"network\" + 0.128*\"gam\" + 0.120*\"program\"'),\n",
       " (7,\n",
       "  '0.569*\"gam\" + -0.367*\"network\" + 0.186*\"program\" + 0.169*\"busy\" + -0.110*\"evolv\" + -0.107*\"mus\" + -0.099*\"dat\" + 0.096*\"art\" + 0.094*\"chem\" + -0.093*\"internet\"'),\n",
       " (8,\n",
       "  '-0.265*\"network\" + 0.258*\"evolv\" + 0.180*\"ear\" + 0.175*\"hist\" + 0.174*\"genet\" + -0.170*\"busy\" + -0.143*\"fin\" + 0.141*\"genom\" + 0.139*\"gam\" + -0.137*\"econom\"'),\n",
       " (9,\n",
       "  '0.450*\"network\" + 0.448*\"gam\" + -0.178*\"dat\" + -0.169*\"fin\" + -0.144*\"stat\" + -0.140*\"busy\" + 0.140*\"heal\" + 0.114*\"soc\" + 0.110*\"internet\" + 0.110*\"chem\"')]"
      ]
     },
     "execution_count": 24,
     "metadata": {},
     "output_type": "execute_result"
    }
   ],
   "source": [
    "lsi.print_topics(-1)"
   ]
  },
  {
   "cell_type": "markdown",
   "metadata": {},
   "source": [
    "With this LSI model, we could project our corpus to a 10-dimensional space."
   ]
  },
  {
   "cell_type": "code",
   "execution_count": 25,
   "metadata": {
    "collapsed": true
   },
   "outputs": [],
   "source": [
    "corpus_lsi = lsi[corpus_tfidf]"
   ]
  },
  {
   "cell_type": "markdown",
   "metadata": {},
   "source": [
    "Then we could compute the similarity between different documents."
   ]
  },
  {
   "cell_type": "code",
   "execution_count": 26,
   "metadata": {
    "collapsed": true
   },
   "outputs": [],
   "source": [
    "index = similarities.MatrixSimilarity(lsi[corpus])"
   ]
  },
  {
   "cell_type": "markdown",
   "metadata": {},
   "source": [
    "For instance, if a user has finished Andrew Ng's course _Machine learning_, he wants to get a deeper insight into machine learning such as neural networks. Hence, firstly we construct the bag-of-words framework for this course."
   ]
  },
  {
   "cell_type": "code",
   "execution_count": 27,
   "metadata": {
    "collapsed": true
   },
   "outputs": [],
   "source": [
    "ml_course = text_stemmed[210]\n",
    "ml_bow = dictionary.doc2bow(ml_course)"
   ]
  },
  {
   "cell_type": "markdown",
   "metadata": {},
   "source": [
    "Then based on our previous LSI model, we could work out the representation of this course."
   ]
  },
  {
   "cell_type": "code",
   "execution_count": 28,
   "metadata": {},
   "outputs": [
    {
     "name": "stdout",
     "output_type": "stream",
     "text": [
      "[(0, 8.5473598416545293), (1, -0.65678271417205381), (2, 0.97280235465731391), (3, 0.14003119477396811), (4, -4.5406659363138191), (5, 0.78353223837662755), (6, 1.7710098487537833), (7, -1.6304250302501397), (8, -0.10531251667061418), (9, 0.80833432240431891)]\n"
     ]
    }
   ],
   "source": [
    "ml_lsi = lsi[ml_bow]\n",
    "print(ml_lsi)"
   ]
  },
  {
   "cell_type": "markdown",
   "metadata": {},
   "source": [
    "Then we use this to locate one row in the similarity matrix and work out the top 10 most similar courses to machine learning."
   ]
  },
  {
   "cell_type": "code",
   "execution_count": 29,
   "metadata": {
    "collapsed": true
   },
   "outputs": [],
   "source": [
    "sims = index[ml_lsi]"
   ]
  },
  {
   "cell_type": "code",
   "execution_count": 30,
   "metadata": {},
   "outputs": [
    {
     "name": "stdout",
     "output_type": "stream",
     "text": [
      "[(210, 1.0), (174, 0.97745174), (189, 0.95145911), (141, 0.94276065), (63, 0.94158185), (238, 0.94119596), (184, 0.9388023), (220, 0.93320107), (219, 0.92692423), (221, 0.9248457)]\n"
     ]
    }
   ],
   "source": [
    "sort_sims = sorted(enumerate(sims), key=lambda item: -item[1])\n",
    "print(sort_sims[:10])"
   ]
  },
  {
   "cell_type": "markdown",
   "metadata": {},
   "source": [
    "Hence we finally get the courses which are most close to Andrew's course 'machine learning' are:"
   ]
  },
  {
   "cell_type": "code",
   "execution_count": 31,
   "metadata": {},
   "outputs": [
    {
     "name": "stdout",
     "output_type": "stream",
     "text": [
      "['Machine Learning', 'Machine Learning', 'Computer Security', 'Computational Photography', 'Human-Computer Interaction', 'Probabilistic Graphical Models', 'Computer Science 101', 'Algorithms: Design and Analysis, Part 2', 'Cryptography II', 'Heterogeneous Parallel Programming']\n"
     ]
    }
   ],
   "source": [
    "course_id = [course[0] for course in sort_sims[:10]]\n",
    "top_10_courses = [courses_name[i] for i in course_id]\n",
    "print(top_10_courses)"
   ]
  },
  {
   "cell_type": "markdown",
   "metadata": {
    "collapsed": true
   },
   "source": [
    "The results look quite reasonable. But the LSI model does have the following **issues**:\n",
    "\n",
    "1. This model is computationally expensive, especially when we are analyzing the large corpus(The speed could be improved by implementing the NMF decomposition).\n",
    "2. It is hard to select the appropriate $k$.\n",
    "3. The result is hard to interpret.\n",
    "\n",
    "4. The LSI model does not take into account **the prior information**."
   ]
  },
  {
   "cell_type": "markdown",
   "metadata": {
    "collapsed": true
   },
   "source": [
    "### 2.3.2 LDA Model\n",
    "\n",
    "In this section, we use another topic model called **Latent Dirichlet allocation(LDA)** to do the recommendation.\n",
    "\n",
    "For this Coursera corpus, we could also run a LDA model using the following code:"
   ]
  },
  {
   "cell_type": "code",
   "execution_count": 32,
   "metadata": {
    "collapsed": true
   },
   "outputs": [],
   "source": [
    "lda = models.LdaModel(corpus_tfidf, id2word = dictionary, num_topics = 10)"
   ]
  },
  {
   "cell_type": "markdown",
   "metadata": {},
   "source": [
    "Unlike LSA, the topics coming from LDA are easier to interpret."
   ]
  },
  {
   "cell_type": "code",
   "execution_count": 33,
   "metadata": {},
   "outputs": [
    {
     "data": {
      "text/plain": [
       "[(0,\n",
       "  '0.002*\"teach\" + 0.002*\"learn\" + 0.001*\"nbsp\" + 0.001*\"design\" + 0.001*\"im\" + 0.001*\"pract\" + 0.001*\"heal\" + 0.001*\"comput\" + 0.001*\"educ\" + 0.001*\"techn\"'),\n",
       " (1,\n",
       "  '0.003*\"heal\" + 0.003*\"mus\" + 0.002*\"law\" + 0.002*\"teach\" + 0.001*\"publ\" + 0.001*\"nbsp\" + 0.001*\"design\" + 0.001*\"rel\" + 0.001*\"stud\" + 0.001*\"network\"'),\n",
       " (2,\n",
       "  '0.001*\"teach\" + 0.001*\"onlin\" + 0.001*\"langu\" + 0.001*\"vaccin\" + 0.001*\"sci\" + 0.001*\"program\" + 0.001*\"dat\" + 0.001*\"archaeolog\" + 0.001*\"tink\" + 0.001*\"philosoph\"'),\n",
       " (3,\n",
       "  '0.002*\"nbsp\" + 0.002*\"heal\" + 0.001*\"model\" + 0.001*\"teach\" + 0.001*\"design\" + 0.001*\"gam\" + 0.001*\"mus\" + 0.001*\"research\" + 0.001*\"process\" + 0.001*\"comput\"'),\n",
       " (4,\n",
       "  '0.002*\"gam\" + 0.002*\"de\" + 0.002*\"react\" + 0.001*\"program\" + 0.001*\"writ\" + 0.001*\"chem\" + 0.001*\"contraceiv\" + 0.001*\"epigenet\" + 0.001*\"org\" + 0.001*\"robot\"'),\n",
       " (5,\n",
       "  '0.001*\"engin\" + 0.001*\"busy\" + 0.001*\"teach\" + 0.001*\"heal\" + 0.001*\"analys\" + 0.001*\"aid\" + 0.001*\"learn\" + 0.001*\"innov\" + 0.001*\"econom\" + 0.001*\"car\"'),\n",
       " (6,\n",
       "  '0.002*\"food\" + 0.002*\"evolv\" + 0.002*\"genet\" + 0.002*\"dat\" + 0.002*\"system\" + 0.002*\"program\" + 0.001*\"planet\" + 0.001*\"univers\" + 0.001*\"nbsp\" + 0.001*\"im\"'),\n",
       " (7,\n",
       "  '0.001*\"de\" + 0.001*\"teach\" + 0.001*\"mus\" + 0.001*\"la\" + 0.001*\"vary\" + 0.001*\"feedback\" + 0.001*\"algebr\" + 0.001*\"network\" + 0.001*\"stud\" + 0.001*\"writ\"'),\n",
       " (8,\n",
       "  '0.002*\"program\" + 0.002*\"nbsp\" + 0.002*\"teach\" + 0.002*\"de\" + 0.002*\"grow\" + 0.002*\"langu\" + 0.001*\"busy\" + 0.001*\"hist\" + 0.001*\"mus\" + 0.001*\"sec\"'),\n",
       " (9,\n",
       "  '0.001*\"econom\" + 0.001*\"person\" + 0.001*\"risk\" + 0.001*\"network\" + 0.001*\"behavy\" + 0.001*\"cre\" + 0.001*\"de\" + 0.001*\"latin\" + 0.001*\"art\" + 0.001*\"optim\"')]"
      ]
     },
     "execution_count": 33,
     "metadata": {},
     "output_type": "execute_result"
    }
   ],
   "source": [
    "lda.print_topics(-1)"
   ]
  },
  {
   "cell_type": "markdown",
   "metadata": {},
   "source": [
    "As usual, a trained model could be used to transform documents into LDA topic distributions."
   ]
  },
  {
   "cell_type": "code",
   "execution_count": 34,
   "metadata": {
    "collapsed": true
   },
   "outputs": [],
   "source": [
    "corpus_lda = lda[corpus_tfidf]"
   ]
  },
  {
   "cell_type": "code",
   "execution_count": 35,
   "metadata": {
    "collapsed": true
   },
   "outputs": [],
   "source": [
    "index = similarities.MatrixSimilarity(lda[corpus])"
   ]
  },
  {
   "cell_type": "markdown",
   "metadata": {},
   "source": [
    "Then let's try the Andrew's machine learning course again and see the top 10 courses recommended by our LDA model."
   ]
  },
  {
   "cell_type": "code",
   "execution_count": 36,
   "metadata": {},
   "outputs": [
    {
     "name": "stdout",
     "output_type": "stream",
     "text": [
      "[(0, 0.88237036584137329), (8, 0.11305706453038829)]\n"
     ]
    }
   ],
   "source": [
    "ml_lda = lda[ml_bow]\n",
    "print(ml_lda)"
   ]
  },
  {
   "cell_type": "code",
   "execution_count": 37,
   "metadata": {
    "collapsed": true
   },
   "outputs": [],
   "source": [
    "sims = index[ml_lda]"
   ]
  },
  {
   "cell_type": "code",
   "execution_count": 38,
   "metadata": {},
   "outputs": [
    {
     "name": "stdout",
     "output_type": "stream",
     "text": [
      "[(210, 1.0), (269, 0.99999052), (220, 0.99994886), (15, 0.9996441), (130, 0.99921817), (183, 0.99903971), (268, 0.99870664), (89, 0.99843609), (287, 0.99835515), (299, 0.99800199)]\n"
     ]
    }
   ],
   "source": [
    "sort_sims = sorted(enumerate(sims), key=lambda item: -item[1])\n",
    "print(sort_sims[:10])"
   ]
  },
  {
   "cell_type": "code",
   "execution_count": 39,
   "metadata": {},
   "outputs": [
    {
     "name": "stdout",
     "output_type": "stream",
     "text": [
      "['Machine Learning', 'Foundations of Teaching for Learning 1: Introduction', 'Algorithms: Design and Analysis, Part 2', 'The Ancient Greeks', 'Growing Old Around the Globe', 'Model Thinking', 'Unpredictable? Randomness, Chance and Free Will', 'Introduction to Computational Finance and Financial Econometrics', 'Women and the Civil Rights Movement', 'Sports and Society']\n"
     ]
    }
   ],
   "source": [
    "course_id = [course[0] for course in sort_sims[:10]]\n",
    "top_10_courses = [courses_name[i] for i in course_id]\n",
    "print(top_10_courses)"
   ]
  },
  {
   "cell_type": "markdown",
   "metadata": {},
   "source": [
    "From the results, it seems that courses recommended by our LDA model is not reasonable. Courses such as 'The Ancient Greeks' seems to have little correlation with machine learning."
   ]
  },
  {
   "cell_type": "markdown",
   "metadata": {},
   "source": [
    "### 2.3.3 Word embeddings"
   ]
  },
  {
   "cell_type": "markdown",
   "metadata": {},
   "source": [
    "Word embedding is currently one of the most successful unsupervised learning methods. It is extremely user-friendly and it could work out the semantic correlation between words. For this Coursera case, we could also use the word representations to work out the similarity between different documents.\n",
    "\n",
    "Firstly, let's use models in gensim to work out the word vectors(here we use the **text_filtered** to train the word representations)"
   ]
  },
  {
   "cell_type": "code",
   "execution_count": 42,
   "metadata": {
    "collapsed": true
   },
   "outputs": [],
   "source": [
    "wv_model = models.Word2Vec(text_filtered, size = 100, window = 5, min_count = 0, workers = 4)"
   ]
  },
  {
   "cell_type": "markdown",
   "metadata": {},
   "source": [
    "Then we save the model and load it"
   ]
  },
  {
   "cell_type": "code",
   "execution_count": 45,
   "metadata": {
    "collapsed": true
   },
   "outputs": [],
   "source": [
    "wv_model.save('word2vec')\n",
    "wv_model = models.Word2Vec.load('word2vec')"
   ]
  },
  {
   "cell_type": "markdown",
   "metadata": {},
   "source": [
    "Then we could view the word vector of some words using the following code:"
   ]
  },
  {
   "cell_type": "code",
   "execution_count": 46,
   "metadata": {},
   "outputs": [
    {
     "data": {
      "text/plain": [
       "array([-0.13106894, -0.12167535,  0.24640566, -0.05197863,  0.2219456 ,\n",
       "       -0.00565952, -0.11794956,  0.21845642,  0.11507841, -0.01180338,\n",
       "        0.33872506,  0.31828687, -0.00413977,  0.1855204 , -0.24783   ,\n",
       "       -0.07101133, -0.412938  , -0.40357032, -0.17756958,  0.238086  ,\n",
       "       -0.0826776 , -0.24603625, -0.05968533, -0.13996242,  0.1237243 ,\n",
       "       -0.01276028, -0.16900101,  0.00170963, -0.16168624,  0.10071407,\n",
       "       -0.14015746, -0.14182845, -0.31377584,  0.11196701, -0.14182384,\n",
       "        0.14483951, -0.17727917,  0.09155634, -0.05148064,  0.06514022,\n",
       "       -0.10216264, -0.01642863, -0.31678283,  0.30057669,  0.2147166 ,\n",
       "       -0.38663855, -0.15629113,  0.19969514,  0.02738849,  0.04776668,\n",
       "        0.51250279, -0.06700592,  0.61544526, -0.02389247,  0.26460132,\n",
       "       -0.12843534,  0.28052175, -0.21679725, -0.44115797,  0.11255834,\n",
       "        0.25031665,  0.05851799,  0.0104895 ,  0.20953378, -0.01893906,\n",
       "       -0.06174672,  0.0590329 , -0.24707048,  0.08813428,  0.03866802,\n",
       "       -0.10730993,  0.13601343,  0.01799754, -0.02010497,  0.17643742,\n",
       "       -0.06887777, -0.25858289,  0.13521014,  0.23014919, -0.0359284 ,\n",
       "       -0.07900213, -0.18422693, -0.06963287,  0.1949762 ,  0.0712783 ,\n",
       "       -0.01837075, -0.23659594, -0.06051736, -0.0118034 ,  0.13400637,\n",
       "        0.24968405,  0.08946441, -0.39862445, -0.33008724,  0.18895291,\n",
       "       -0.10419115,  0.00409971,  0.13842732,  0.04755352, -0.5720228 ], dtype=float32)"
      ]
     },
     "execution_count": 46,
     "metadata": {},
     "output_type": "execute_result"
    }
   ],
   "source": [
    "wv_model.wv['computer']"
   ]
  },
  {
   "cell_type": "markdown",
   "metadata": {},
   "source": [
    "Until now, we have got the word vector of a word. So how to get the representation of a course? A common idea is that we could use the TF-IDF value of a word as weight. If we use $D_i$ to denote the representation of a document i and let n denote the number of words in this document, $T_{i,j}$ and $W_{i,j}$ represents the TF-IDF value and word vector of a word, then the representation of a document is:\n",
    "\n",
    "\\begin{equation}\n",
    "D_i = \\sum_{j=1}^{n} T_{i,j}W_{i,j}\n",
    "\\end{equation}\n",
    "\n",
    "Firstly, we calculate the TF-IDF value of these words."
   ]
  },
  {
   "cell_type": "code",
   "execution_count": 48,
   "metadata": {
    "collapsed": true
   },
   "outputs": [],
   "source": [
    "def tfidf_value(corpus, target_word):\n",
    "    count_tf = 0\n",
    "    count_idf = 0\n",
    "    tf = 0\n",
    "    idf = 0\n",
    "    tfidf = 0\n",
    "    for document in corpus:\n",
    "        count_tf += document.count(target_word)\n",
    "        if target_word in document:\n",
    "            count_idf += 1\n",
    "        else:\n",
    "            pass\n",
    "    tf = count_tf/50386 # 50386 means total number of words in text_filtered\n",
    "    idf = math.log((len(corpus)+1)/count_idf+1)\n",
    "    tfidf = idf * tf\n",
    "    return tfidf\n",
    "\n",
    "dict_with_tfidf = {}\n",
    "\n",
    "for document in text_filtered:\n",
    "    for word in document:\n",
    "        dict_with_tfidf[word] = tfidf_value(text_filtered, word)"
   ]
  },
  {
   "cell_type": "markdown",
   "metadata": {},
   "source": [
    "Based on these tfidf value, we could get the representation of the courses using the following codes:"
   ]
  },
  {
   "cell_type": "code",
   "execution_count": 79,
   "metadata": {
    "collapsed": true
   },
   "outputs": [],
   "source": [
    "def course_repre1(course):\n",
    "    new_word_vec = {}\n",
    "    for word in course:\n",
    "        new_word_vec[word] = dict_with_tfidf[word]*wv_model.wv[word]\n",
    "    return new_word_vec\n",
    "\n",
    "courses_repre1 = {}\n",
    "for i in range(len(text_filtered)):\n",
    "    courses_repre[i] = np.sum(list(course_repre1(text_filtered[i]).values()), axis = 0)"
   ]
  },
  {
   "cell_type": "code",
   "execution_count": 80,
   "metadata": {},
   "outputs": [
    {
     "data": {
      "text/plain": [
       "array([ -1.50578339e-02,  -1.43022658e-02,   2.85251737e-02,\n",
       "        -6.54643634e-03,   2.57800967e-02,  -7.11311644e-04,\n",
       "        -1.33334622e-02,   2.54102964e-02,   1.39591079e-02,\n",
       "        -1.53986120e-03,   3.98305207e-02,   3.69832963e-02,\n",
       "        -7.97165267e-04,   2.14678664e-02,  -2.83200126e-02,\n",
       "        -8.42952076e-03,  -4.85254675e-02,  -4.62653190e-02,\n",
       "        -2.06604041e-02,   2.77011674e-02,  -9.87535715e-03,\n",
       "        -2.86755301e-02,  -6.01390982e-03,  -1.57423485e-02,\n",
       "         1.42402900e-02,  -2.06015375e-03,  -1.98526140e-02,\n",
       "         7.22721597e-05,  -1.92574449e-02,   1.24048376e-02,\n",
       "        -1.66571513e-02,  -1.63762029e-02,  -3.72686870e-02,\n",
       "         1.38383210e-02,  -1.66696180e-02,   1.69029627e-02,\n",
       "        -2.06767023e-02,   1.03469025e-02,  -5.54148108e-03,\n",
       "         8.04628618e-03,  -1.18002025e-02,  -1.45534193e-03,\n",
       "        -3.65804769e-02,   3.51642668e-02,   2.53339242e-02,\n",
       "        -4.49205935e-02,  -1.87563449e-02,   2.32702717e-02,\n",
       "         3.49012599e-03,   4.85880859e-03,   5.96646778e-02,\n",
       "        -7.92025775e-03,   7.16611072e-02,  -2.06978107e-03,\n",
       "         3.08704115e-02,  -1.55451372e-02,   3.30173075e-02,\n",
       "        -2.49169152e-02,  -5.10270931e-02,   1.28599368e-02,\n",
       "         2.98911203e-02,   7.25502754e-03,   7.59670802e-04,\n",
       "         2.43689027e-02,  -2.28094636e-03,  -6.52613817e-03,\n",
       "         6.39998866e-03,  -2.87158098e-02,   1.00753121e-02,\n",
       "         4.04603127e-03,  -1.22056454e-02,   1.59829650e-02,\n",
       "         2.13854760e-03,  -1.72848720e-03,   2.11706031e-02,\n",
       "        -7.89888296e-03,  -3.02327778e-02,   1.52134066e-02,\n",
       "         2.62094643e-02,  -3.76407569e-03,  -9.59288795e-03,\n",
       "        -2.19487920e-02,  -7.48224370e-03,   2.21561715e-02,\n",
       "         7.89213553e-03,  -2.40420573e-03,  -2.67951451e-02,\n",
       "        -7.60746282e-03,  -1.39995408e-03,   1.61371175e-02,\n",
       "         2.92684324e-02,   1.05303237e-02,  -4.68408540e-02,\n",
       "        -3.88430953e-02,   2.22789999e-02,  -1.16230212e-02,\n",
       "         2.76234146e-04,   1.65655240e-02,   5.53623866e-03,\n",
       "        -6.61185533e-02], dtype=float32)"
      ]
     },
     "execution_count": 80,
     "metadata": {},
     "output_type": "execute_result"
    }
   ],
   "source": [
    "courses_repre1[0]"
   ]
  },
  {
   "cell_type": "markdown",
   "metadata": {},
   "source": [
    "However, it seems that word2vec method is not appropriate for this task. If we just use cosine similarity to measure the difference of two vectors, we could get the the following similarity matrix."
   ]
  },
  {
   "cell_type": "code",
   "execution_count": 81,
   "metadata": {},
   "outputs": [
    {
     "data": {
      "text/plain": [
       "array([[ 1.        ,  0.99999595],\n",
       "       [ 0.99999595,  1.00000012]], dtype=float32)"
      ]
     },
     "execution_count": 81,
     "metadata": {},
     "output_type": "execute_result"
    }
   ],
   "source": [
    "a = list(courses_repre1[0])\n",
    "b = list(courses_repre1[210]) \n",
    "matrix = np.array([a,b])\n",
    "\n",
    "cosine_similarity(matrix)"
   ]
  },
  {
   "cell_type": "code",
   "execution_count": 65,
   "metadata": {},
   "outputs": [
    {
     "data": {
      "text/plain": [
       "'Writing II: Rhetorical Composing'"
      ]
     },
     "execution_count": 65,
     "metadata": {},
     "output_type": "execute_result"
    }
   ],
   "source": [
    "courses_name[0]"
   ]
  },
  {
   "cell_type": "markdown",
   "metadata": {},
   "source": [
    "The first course 'Writing II: Rhetorical Composing' seems to have no relationship with machine learning but from the matrix it tells us that these two courses are very similar."
   ]
  },
  {
   "cell_type": "markdown",
   "metadata": {},
   "source": [
    "One possible reason for this phenomena is that the training data (this coursera corpus) is too small. Hence, it would be better if we could use the word vectors generated from large corpus. So here we introduce Stanford's Glove embedding, which is developed by Stanford researchers and trained on Wikipedia data. You could download:\n",
    "\n",
    "[Glove Embedding](http://nlp.stanford.edu/data/glove.6B.zip)\n",
    "\n",
    "Here we use the 100-dimensional version of the model. We could convert the file to word2vec format as follows:"
   ]
  },
  {
   "cell_type": "code",
   "execution_count": 82,
   "metadata": {},
   "outputs": [
    {
     "data": {
      "text/plain": [
       "(400000, 100)"
      ]
     },
     "execution_count": 82,
     "metadata": {},
     "output_type": "execute_result"
    }
   ],
   "source": [
    "glove_input_file = 'glove.6B.100d.txt'\n",
    "word2vec_output_file = 'glove.6B.100d.txt.word2vec'\n",
    "glove2word2vec(glove_input_file, word2vec_output_file)"
   ]
  },
  {
   "cell_type": "markdown",
   "metadata": {
    "collapsed": true
   },
   "source": [
    "Now we could load it in the following way:"
   ]
  },
  {
   "cell_type": "code",
   "execution_count": 83,
   "metadata": {
    "collapsed": true
   },
   "outputs": [],
   "source": [
    "filename = 'glove.6B.100d.txt.word2vec'\n",
    "model = models.KeyedVectors.load_word2vec_format(filename, binary=False)"
   ]
  },
  {
   "cell_type": "code",
   "execution_count": 84,
   "metadata": {},
   "outputs": [
    {
     "data": {
      "text/plain": [
       "array([ -1.62980005e-01,   3.01409990e-01,   5.79779983e-01,\n",
       "         6.65479973e-02,   4.58350003e-01,  -1.53290004e-01,\n",
       "         4.32579994e-01,  -8.92149985e-01,   5.77470005e-01,\n",
       "         3.63750011e-01,   5.65240026e-01,  -5.62810004e-01,\n",
       "         3.56590003e-01,  -3.60960007e-01,  -9.96619985e-02,\n",
       "         5.27530015e-01,   3.88390005e-01,   9.61849988e-01,\n",
       "         1.88409999e-01,   3.07410002e-01,  -8.78419995e-01,\n",
       "        -3.24420005e-01,   1.12020004e+00,   7.51259997e-02,\n",
       "         4.26609993e-01,  -6.06509984e-01,  -1.38929993e-01,\n",
       "         4.78620008e-02,  -4.51579988e-01,   9.37229991e-02,\n",
       "         1.74630001e-01,   1.09619999e+00,  -1.00440001e+00,\n",
       "         6.38889968e-02,   3.80019993e-01,   2.11089998e-01,\n",
       "        -6.62469983e-01,  -4.07359987e-01,   8.94420028e-01,\n",
       "        -6.09740019e-01,  -1.85770005e-01,  -1.99129999e-01,\n",
       "        -6.92260027e-01,  -3.18060011e-01,  -7.85650015e-01,\n",
       "         2.38309994e-01,   1.29920006e-01,   8.77209976e-02,\n",
       "         4.32049990e-01,  -2.26620004e-01,   3.15490007e-01,\n",
       "        -3.17479998e-01,  -2.46319990e-03,   1.66150004e-01,\n",
       "         4.23579991e-01,  -1.80869997e+00,  -3.66990000e-01,\n",
       "         2.39490002e-01,   2.54579997e+00,   3.61110002e-01,\n",
       "         3.94859985e-02,   4.86070007e-01,  -3.69740009e-01,\n",
       "         5.72820008e-02,  -4.93169993e-01,   2.27650002e-01,\n",
       "         7.99660027e-01,   2.14279994e-01,   6.98109984e-01,\n",
       "         1.12619996e+00,  -1.35260001e-01,   7.19720006e-01,\n",
       "        -9.96049959e-04,  -2.68420011e-01,  -8.30380023e-01,\n",
       "         2.17800006e-01,   3.43549997e-01,   3.77310008e-01,\n",
       "        -4.02509987e-01,   3.31239998e-01,   1.25759995e+00,\n",
       "        -2.71959990e-01,  -8.60930026e-01,   9.00529996e-02,\n",
       "        -2.48760009e+00,   4.51999992e-01,   6.69449985e-01,\n",
       "        -5.46480000e-01,  -1.03239998e-01,  -1.69790000e-01,\n",
       "         5.94370008e-01,   1.12800002e+00,   7.57550001e-01,\n",
       "        -5.91600016e-02,   1.51519999e-01,  -2.83879995e-01,\n",
       "         4.94520009e-01,  -9.17029977e-01,   9.12890017e-01,\n",
       "        -3.09269994e-01], dtype=float32)"
      ]
     },
     "execution_count": 84,
     "metadata": {},
     "output_type": "execute_result"
    }
   ],
   "source": [
    "model['computer']"
   ]
  },
  {
   "cell_type": "markdown",
   "metadata": {},
   "source": [
    "Since we use the pre-trained embedding from other corpus, one common issus is the **out of vocabulary(OOV)** issue, which means that the wikipedia text data set don't contain all the words in this coursera corpora.\n",
    "\n",
    "One solution to this problem is that we could use word embedding generated directly from this Coursera corpora instead."
   ]
  },
  {
   "cell_type": "code",
   "execution_count": 85,
   "metadata": {
    "collapsed": true
   },
   "outputs": [],
   "source": [
    "def course_repre2(course):\n",
    "    new_word_vec = {}\n",
    "    for word in course:\n",
    "        if word in glove_input_file:\n",
    "            new_word_vec[word] = dict_with_tfidf[word]*model.wv[word]\n",
    "        else:\n",
    "            new_word_vec[word] = dict_with_tfidf[word]*wv_model.wv[word]\n",
    "    return new_word_vec\n",
    "\n",
    "courses_repre2 = {}\n",
    "for i in range(len(text_filtered)):\n",
    "    courses_repre2[i] = np.sum(list(course_repre2(text_filtered[i]).values()), axis = 0)"
   ]
  },
  {
   "cell_type": "code",
   "execution_count": 86,
   "metadata": {},
   "outputs": [
    {
     "data": {
      "text/plain": [
       "array([[ 1.        ,  0.99999595],\n",
       "       [ 0.99999595,  1.00000012]], dtype=float32)"
      ]
     },
     "execution_count": 86,
     "metadata": {},
     "output_type": "execute_result"
    }
   ],
   "source": [
    "a = list(courses_repre2[0])\n",
    "b = list(courses_repre2[210]) \n",
    "matrix = np.array([a,b])\n",
    "\n",
    "cosine_similarity(matrix)"
   ]
  },
  {
   "cell_type": "markdown",
   "metadata": {
    "collapsed": true
   },
   "source": [
    "### 2.3.4 Doc2vec"
   ]
  },
  {
   "cell_type": "code",
   "execution_count": null,
   "metadata": {
    "collapsed": true
   },
   "outputs": [],
   "source": []
  }
 ],
 "metadata": {
  "kernelspec": {
   "display_name": "Python 3",
   "language": "python",
   "name": "python3"
  },
  "language_info": {
   "codemirror_mode": {
    "name": "ipython",
    "version": 3
   },
   "file_extension": ".py",
   "mimetype": "text/x-python",
   "name": "python",
   "nbconvert_exporter": "python",
   "pygments_lexer": "ipython3",
   "version": "3.5.2"
  }
 },
 "nbformat": 4,
 "nbformat_minor": 2
}
