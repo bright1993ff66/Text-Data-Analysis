{
 "cells": [
  {
   "cell_type": "markdown",
   "metadata": {},
   "source": [
    "# 1. Introduction\n",
    "\n",
    "In this post I am going to talk about how to apply the natural lanugage processing techniques to the recommender system. In many real cases, for instance, if we have finished a course in Coursera, we want to learn some related courses to get a deeper insight into one research field. Hence, it would be better if our online system could automatically recommend some relevant courses for a learner.\n",
    "\n",
    "If we talk more about this coursera case, some people might say we could use labels to tag all the courses previously and if one learner finished one course, based on the label the system would post some relevant courses. However, manually labelling huge number of courses is very time consuming. Moreover, some algorithms such as collaborative filtering and content-based filtering could also help this problem. But these approaches would not work if we had a new course on Coursera and we did not have much feedback(data) from users about this course. **A better approach** to this problem is that we utilize the title and the description of each course and use NLP techniques to work out for instance the similarity of two courses. Based on this similarity, our system could automatically recommende coursers to our users. The following sections will show the main techniques we use.\n",
    "\n",
    "So let's get started!"
   ]
  },
  {
   "cell_type": "markdown",
   "metadata": {},
   "source": [
    "# 2. Construct the NLP Models\n",
    "\n",
    "In this section we show how to create a recommendation system for our Coursera users. Let's first import modules for this task."
   ]
  },
  {
   "cell_type": "markdown",
   "metadata": {},
   "source": [
    "## 2.1 Load the dataset\n",
    "\n",
    "First we import all the modules we need in this case study."
   ]
  },
  {
   "cell_type": "code",
   "execution_count": 1,
   "metadata": {},
   "outputs": [
    {
     "name": "stderr",
     "output_type": "stream",
     "text": [
      "f:\\python\\lib\\site-packages\\gensim\\utils.py:865: UserWarning: detected Windows; aliasing chunkize to chunkize_serial\n",
      "  warnings.warn(\"detected Windows; aliasing chunkize to chunkize_serial\")\n",
      "Using TensorFlow backend.\n"
     ]
    }
   ],
   "source": [
    "import nltk\n",
    "import re\n",
    "import string\n",
    "import time\n",
    "import math\n",
    "import numpy as np\n",
    "\n",
    "from nltk.tokenize import word_tokenize\n",
    "from nltk.corpus import stopwords\n",
    "from nltk.stem.lancaster import LancasterStemmer\n",
    "\n",
    "from gensim import corpora, models, similarities, matutils\n",
    "\n",
    "from sklearn.feature_extraction.text import TfidfTransformer\n",
    "from sklearn.feature_extraction.text import CountVectorizer \n",
    "\n",
    "from matplotlib import pyplot as plt"
   ]
  },
  {
   "cell_type": "markdown",
   "metadata": {},
   "source": [
    "Then we load the data. The data can be found in here: [Coursera corpus](https://github.com/bright1993ff66/Text-Data-Analysis/blob/master/Recommender%20System/coursera_corpus)"
   ]
  },
  {
   "cell_type": "code",
   "execution_count": 2,
   "metadata": {},
   "outputs": [
    {
     "data": {
      "text/plain": [
       "['Writing II: Rhetorical Composing\\tRhetorical Composing engages you in a series of interactive reading, research, and composing activities along with assignments designed to help you become more effective consumers and producers of alphabetic, visual and multimodal texts.  Join us to become more effective writers... and better citizens.\\tRhetorical Composing is a course where writers exchange words, ideas,     talents, and support. You will be introduced to a variety of rhetorical     concepts—that is, ideas and techniques to inform and persuade audiences—that     will help you become a more effective consumer and producer of written,     visual, and multimodal texts. The class includes short videos, demonstrations,     and activities. We envision Rhetorical Composing as a learning community that includes both those enrolled in this course and the instructors. We bring our expertise in writing, rhetoric and course design, and we have designed the assignments and course infrastructure to help you share your experiences as writers, students, and professionals with each other and with us. These collaborations are facilitated through WEx, The Writers Exchange, a place where you will exchange your work and feedback',\n",
       " 'Genetics and Society: A Course for Educators\\tHow have advances in genetics affected society? What do we need to know to make ethical decisions about genetic technologies? This course includes the study of cloning, genetic enhancement, and ownership of genetic information. Course participants will acquire the tools to explore the ethics of modern genetics and learn how to integrate these issues into their classrooms.\\tThe AMNH course Genetics and Society: A Course for Educators explores the social, legal and ethical issues of modern-day genetics. Informed by the recently released Next Generation Science Standards, the course provides an overview of recent genetic discoveries and molecular lab techniques. Participants will acquire an understanding of the science and technology behind breakthroughs such as therapeutic cloning and the sequencing of the human genome. You will also have the opportunity to discuss and debate issues surrounding hot-button topics in genetics: If it is ethical to clone your dog, will humans be next? Should we care if our food is genetically modified? What are the pros and cons of gene therapy?&nbsp;Course participants will bring their understanding of modern genetics and associated ethical issues - along with content resources, discussion questions, and assignments - into their own teaching.&nbsp;']"
      ]
     },
     "execution_count": 2,
     "metadata": {},
     "output_type": "execute_result"
    }
   ],
   "source": [
    "file = open('F:/Data Analysis/github/Text-Data-Analysis/Recommender System/coursera_corpus', 'r', encoding = 'UTF-8')\n",
    "courses = [line.strip() for line in file]\n",
    "courses[:2]"
   ]
  },
  {
   "cell_type": "markdown",
   "metadata": {},
   "source": [
    "From the output, we see that the names of the courses are seperated by tab. Hence we use the following code to extract the courses' names."
   ]
  },
  {
   "cell_type": "code",
   "execution_count": 3,
   "metadata": {},
   "outputs": [
    {
     "data": {
      "text/plain": [
       "['Writing II: Rhetorical Composing',\n",
       " 'Genetics and Society: A Course for Educators',\n",
       " 'General Game Playing',\n",
       " 'Genes and the Human Condition (From Behavior to Biotechnology)',\n",
       " 'A Brief History of Humankind',\n",
       " 'New Models of Business in Society',\n",
       " 'Analyse Numérique pour Ingénieurs',\n",
       " 'Evolution: A Course for Educators',\n",
       " 'Coding the Matrix: Linear Algebra through Computer Science Applications',\n",
       " 'The Dynamic Earth: A Course for Educators']"
      ]
     },
     "execution_count": 3,
     "metadata": {},
     "output_type": "execute_result"
    }
   ],
   "source": [
    "courses_name = [course.split('\\t')[0] for course in courses]\n",
    "courses_name[:10]"
   ]
  },
  {
   "cell_type": "markdown",
   "metadata": {
    "collapsed": true
   },
   "source": [
    "## 2.2 Preprocess the data\n",
    "\n",
    "Generally, we need to do the following text pre-processing:\n",
    "\n",
    "1. lowercase the words\n",
    "2. eliminate punctuations\n",
    "3. eliminate the stopwords\n",
    "3. stemming"
   ]
  },
  {
   "cell_type": "code",
   "execution_count": 4,
   "metadata": {},
   "outputs": [
    {
     "name": "stdout",
     "output_type": "stream",
     "text": [
      "['writing', 'ii:', 'rhetorical', 'composing', 'rhetorical', 'composing', 'engages', 'you', 'in', 'a', 'series', 'of', 'interactive', 'reading,', 'research,', 'and', 'composing', 'activities', 'along', 'with', 'assignments', 'designed', 'to', 'help', 'you', 'become', 'more', 'effective', 'consumers', 'and', 'producers', 'of', 'alphabetic,', 'visual', 'and', 'multimodal', 'texts.', 'join', 'us', 'to', 'become', 'more', 'effective', 'writers...', 'and', 'better', 'citizens.', 'rhetorical', 'composing', 'is', 'a', 'course', 'where', 'writers', 'exchange', 'words,', 'ideas,', 'talents,', 'and', 'support.', 'you', 'will', 'be', 'introduced', 'to', 'a', 'variety', 'of', 'rhetorical', 'concepts—that', 'is,', 'ideas', 'and', 'techniques', 'to', 'inform', 'and', 'persuade', 'audiences—that', 'will', 'help', 'you', 'become', 'a', 'more', 'effective', 'consumer', 'and', 'producer', 'of', 'written,', 'visual,', 'and', 'multimodal', 'texts.', 'the', 'class', 'includes', 'short', 'videos,', 'demonstrations,', 'and', 'activities.', 'we', 'envision', 'rhetorical', 'composing', 'as', 'a', 'learning', 'community', 'that', 'includes', 'both', 'those', 'enrolled', 'in', 'this', 'course', 'and', 'the', 'instructors.', 'we', 'bring', 'our', 'expertise', 'in', 'writing,', 'rhetoric', 'and', 'course', 'design,', 'and', 'we', 'have', 'designed', 'the', 'assignments', 'and', 'course', 'infrastructure', 'to', 'help', 'you', 'share', 'your', 'experiences', 'as', 'writers,', 'students,', 'and', 'professionals', 'with', 'each', 'other', 'and', 'with', 'us.', 'these', 'collaborations', 'are', 'facilitated', 'through', 'wex,', 'the', 'writers', 'exchange,', 'a', 'place', 'where', 'you', 'will', 'exchange', 'your', 'work', 'and', 'feedback']\t"
     ]
    }
   ],
   "source": [
    "text_lower = [[word for word in document.lower().split()] for document in courses]\n",
    "print(text_lower[0], end = '\\t')"
   ]
  },
  {
   "cell_type": "markdown",
   "metadata": {},
   "source": [
    "From the text above, we see some output such as 'texts.' does not split the word and the punctuation. Hence, it would be better if we could use the **word_tokenize** function in nltk and get a more meaningful result."
   ]
  },
  {
   "cell_type": "code",
   "execution_count": 5,
   "metadata": {},
   "outputs": [
    {
     "name": "stdout",
     "output_type": "stream",
     "text": [
      "['writing', 'ii', ':', 'rhetorical', 'composing', 'rhetorical', 'composing', 'engages', 'you', 'in', 'a', 'series', 'of', 'interactive', 'reading', ',', 'research', ',', 'and', 'composing', 'activities', 'along', 'with', 'assignments', 'designed', 'to', 'help', 'you', 'become', 'more', 'effective', 'consumers', 'and', 'producers', 'of', 'alphabetic', ',', 'visual', 'and', 'multimodal', 'texts', '.', 'join', 'us', 'to', 'become', 'more', 'effective', 'writers', '...', 'and', 'better', 'citizens', '.', 'rhetorical', 'composing', 'is', 'a', 'course', 'where', 'writers', 'exchange', 'words', ',', 'ideas', ',', 'talents', ',', 'and', 'support', '.', 'you', 'will', 'be', 'introduced', 'to', 'a', 'variety', 'of', 'rhetorical', 'concepts—that', 'is', ',', 'ideas', 'and', 'techniques', 'to', 'inform', 'and', 'persuade', 'audiences—that', 'will', 'help', 'you', 'become', 'a', 'more', 'effective', 'consumer', 'and', 'producer', 'of', 'written', ',', 'visual', ',', 'and', 'multimodal', 'texts', '.', 'the', 'class', 'includes', 'short', 'videos', ',', 'demonstrations', ',', 'and', 'activities', '.', 'we', 'envision', 'rhetorical', 'composing', 'as', 'a', 'learning', 'community', 'that', 'includes', 'both', 'those', 'enrolled', 'in', 'this', 'course', 'and', 'the', 'instructors', '.', 'we', 'bring', 'our', 'expertise', 'in', 'writing', ',', 'rhetoric', 'and', 'course', 'design', ',', 'and', 'we', 'have', 'designed', 'the', 'assignments', 'and', 'course', 'infrastructure', 'to', 'help', 'you', 'share', 'your', 'experiences', 'as', 'writers', ',', 'students', ',', 'and', 'professionals', 'with', 'each', 'other', 'and', 'with', 'us', '.', 'these', 'collaborations', 'are', 'facilitated', 'through', 'wex', ',', 'the', 'writers', 'exchange', ',', 'a', 'place', 'where', 'you', 'will', 'exchange', 'your', 'work', 'and', 'feedback']\t"
     ]
    }
   ],
   "source": [
    "text_lower = [[word.lower() for word in word_tokenize(document)] for document in courses]\n",
    "print(text_lower[0], end = '\\t')"
   ]
  },
  {
   "cell_type": "markdown",
   "metadata": {},
   "source": [
    "The words and the punctuations have been splitted. Then we need to do is eliminate the punctuatiaons."
   ]
  },
  {
   "cell_type": "code",
   "execution_count": 6,
   "metadata": {},
   "outputs": [
    {
     "name": "stdout",
     "output_type": "stream",
     "text": [
      "['writing', 'ii', 'rhetorical', 'composing', 'rhetorical', 'composing', 'engages', 'you', 'in', 'a', 'series', 'of', 'interactive', 'reading', 'research', 'and', 'composing', 'activities', 'along', 'with', 'assignments', 'designed', 'to', 'help', 'you', 'become', 'more', 'effective', 'consumers', 'and', 'producers', 'of', 'alphabetic', 'visual', 'and', 'multimodal', 'texts', 'join', 'us', 'to', 'become', 'more', 'effective', 'writers', 'and', 'better', 'citizens', 'rhetorical', 'composing', 'is', 'a', 'course', 'where', 'writers', 'exchange', 'words', 'ideas', 'talents', 'and', 'support', 'you', 'will', 'be', 'introduced', 'to', 'a', 'variety', 'of', 'rhetorical', 'concepts—that', 'is', 'ideas', 'and', 'techniques', 'to', 'inform', 'and', 'persuade', 'audiences—that', 'will', 'help', 'you', 'become', 'a', 'more', 'effective', 'consumer', 'and', 'producer', 'of', 'written', 'visual', 'and', 'multimodal', 'texts', 'the', 'class', 'includes', 'short', 'videos', 'demonstrations', 'and', 'activities', 'we', 'envision', 'rhetorical', 'composing', 'as', 'a', 'learning', 'community', 'that', 'includes', 'both', 'those', 'enrolled', 'in', 'this', 'course', 'and', 'the', 'instructors', 'we', 'bring', 'our', 'expertise', 'in', 'writing', 'rhetoric', 'and', 'course', 'design', 'and', 'we', 'have', 'designed', 'the', 'assignments', 'and', 'course', 'infrastructure', 'to', 'help', 'you', 'share', 'your', 'experiences', 'as', 'writers', 'students', 'and', 'professionals', 'with', 'each', 'other', 'and', 'with', 'us', 'these', 'collaborations', 'are', 'facilitated', 'through', 'wex', 'the', 'writers', 'exchange', 'a', 'place', 'where', 'you', 'will', 'exchange', 'your', 'work', 'and', 'feedback']\t"
     ]
    }
   ],
   "source": [
    "x = re.compile('[%s]' % re.escape(string.punctuation))\n",
    "text_lower_no_punctuation = []\n",
    "\n",
    "for text in text_lower:\n",
    "    new_text = []\n",
    "    for token in text:\n",
    "        new_token = x.sub(u'',token) \n",
    "        if not new_token == u'':\n",
    "            new_text.append(new_token)\n",
    "    text_lower_no_punctuation.append(new_text)\n",
    "    \n",
    "print(text_lower_no_punctuation[0], end = \"\\t\")"
   ]
  },
  {
   "cell_type": "markdown",
   "metadata": {},
   "source": [
    "The punctuations have been removed. After that, we need to remove the unmeaningful stopwords. Fortunately, nltk provides us with a list of stopwords which are helpful in this task."
   ]
  },
  {
   "cell_type": "code",
   "execution_count": 7,
   "metadata": {
    "collapsed": true
   },
   "outputs": [],
   "source": [
    "english_stopwords = stopwords.words('english')"
   ]
  },
  {
   "cell_type": "code",
   "execution_count": 8,
   "metadata": {},
   "outputs": [
    {
     "name": "stdout",
     "output_type": "stream",
     "text": [
      "['writing', 'ii', 'rhetorical', 'composing', 'rhetorical', 'composing', 'engages', 'series', 'interactive', 'reading', 'research', 'composing', 'activities', 'along', 'assignments', 'designed', 'help', 'become', 'effective', 'consumers', 'producers', 'alphabetic', 'visual', 'multimodal', 'texts', 'join', 'us', 'become', 'effective', 'writers', 'better', 'citizens', 'rhetorical', 'composing', 'course', 'writers', 'exchange', 'words', 'ideas', 'talents', 'support', 'introduced', 'variety', 'rhetorical', 'concepts—that', 'ideas', 'techniques', 'inform', 'persuade', 'audiences—that', 'help', 'become', 'effective', 'consumer', 'producer', 'written', 'visual', 'multimodal', 'texts', 'class', 'includes', 'short', 'videos', 'demonstrations', 'activities', 'envision', 'rhetorical', 'composing', 'learning', 'community', 'includes', 'enrolled', 'course', 'instructors', 'bring', 'expertise', 'writing', 'rhetoric', 'course', 'design', 'designed', 'assignments', 'course', 'infrastructure', 'help', 'share', 'experiences', 'writers', 'students', 'professionals', 'us', 'collaborations', 'facilitated', 'wex', 'writers', 'exchange', 'place', 'exchange', 'work', 'feedback']\t"
     ]
    }
   ],
   "source": [
    "text_filtered = [[word for word in document if word not in english_stopwords ] for document in text_lower_no_punctuation]\n",
    "print(text_filtered[0], end = \"\\t\")"
   ]
  },
  {
   "cell_type": "markdown",
   "metadata": {},
   "source": [
    "At last, we do the stemming for this text. Stemming in NLP means that we treat each word's different variants as the same word. For instance for playing, played, play, we see them as a same word:play. nltk has many useful stemmers. The most well-know ones are Lancaster Stemmer and Porter Stemmer. Here we use Lancaster Stemmer to cope with this Coursera corpus."
   ]
  },
  {
   "cell_type": "code",
   "execution_count": 9,
   "metadata": {},
   "outputs": [
    {
     "name": "stdout",
     "output_type": "stream",
     "text": [
      "['writ', 'ii', 'rhet', 'compos', 'rhet', 'compos', 'eng', 'sery', 'interact', 'read', 'research', 'compos', 'act', 'along', 'assign', 'design', 'help', 'becom', 'effect', 'consum', 'produc', 'alphabet', 'vis', 'multimod', 'text', 'join', 'us', 'becom', 'effect', 'writ', 'bet', 'cit', 'rhet', 'compos', 'cours', 'writ', 'exchang', 'word', 'idea', 'tal', 'support', 'introduc', 'vary', 'rhet', 'concepts—that', 'idea', 'techn', 'inform', 'persuad', 'audiences—that', 'help', 'becom', 'effect', 'consum', 'produc', 'writ', 'vis', 'multimod', 'text', 'class', 'includ', 'short', 'video', 'demonst', 'act', 'envid', 'rhet', 'compos', 'learn', 'commun', 'includ', 'enrol', 'cours', 'instruct', 'bring', 'expert', 'writ', 'rhet', 'cours', 'design', 'design', 'assign', 'cours', 'infrastruct', 'help', 'shar', 'expery', 'writ', 'stud', 'profess', 'us', 'collab', 'facilit', 'wex', 'writ', 'exchang', 'plac', 'exchang', 'work', 'feedback']\t"
     ]
    }
   ],
   "source": [
    "st = LancasterStemmer()\n",
    "text_stemmed = [[st.stem(word) for word in docment] for docment in text_filtered]\n",
    "print(text_stemmed[0], end = \"\\t\")"
   ]
  },
  {
   "cell_type": "markdown",
   "metadata": {},
   "source": [
    "## 2.3 Train the data\n",
    "\n",
    "We have finished the text data preprocessing. Next, we will fead the data to our NLP models. First, let's construct a bag-of-words model."
   ]
  },
  {
   "cell_type": "markdown",
   "metadata": {},
   "source": [
    "### 2.3.1 LSI Model"
   ]
  },
  {
   "cell_type": "code",
   "execution_count": 10,
   "metadata": {
    "collapsed": true
   },
   "outputs": [],
   "source": [
    "dictionary = corpora.Dictionary(text_stemmed)"
   ]
  },
  {
   "cell_type": "markdown",
   "metadata": {},
   "source": [
    "Then we construct the bag-of-words model."
   ]
  },
  {
   "cell_type": "code",
   "execution_count": 11,
   "metadata": {},
   "outputs": [
    {
     "name": "stdout",
     "output_type": "stream",
     "text": [
      "Dictionary(5886 unique tokens: ['predisposit', 'approv', 'repertoir', 'cosm', 'eschew']...)\n"
     ]
    }
   ],
   "source": [
    "print(dictionary)"
   ]
  },
  {
   "cell_type": "markdown",
   "metadata": {},
   "source": [
    "From the dictionary, we get the id of each unique word. Then we could calculate how many times a word appears in this Coursera corpus."
   ]
  },
  {
   "cell_type": "code",
   "execution_count": 12,
   "metadata": {
    "collapsed": true
   },
   "outputs": [],
   "source": [
    "'''\n",
    "doc2bow converts `document` (a list of words) into the bag-of-words format\n",
    "'''\n",
    "corpus = [dictionary.doc2bow(text) for text in text_stemmed] "
   ]
  },
  {
   "cell_type": "code",
   "execution_count": 13,
   "metadata": {},
   "outputs": [
    {
     "name": "stdout",
     "output_type": "stream",
     "text": [
      "[(0, 2), (1, 1), (2, 1), (3, 4), (4, 2), (5, 1), (6, 1), (7, 2), (8, 1), (9, 2), (10, 1), (11, 1), (12, 1), (13, 1), (14, 1), (15, 1), (16, 1), (17, 2), (18, 2), (19, 1), (20, 1), (21, 1), (22, 1), (23, 1), (24, 1), (25, 2), (26, 7), (27, 1), (28, 3), (29, 1), (30, 1), (31, 1), (32, 3), (33, 3), (34, 1), (35, 5), (36, 3), (37, 1), (38, 2), (39, 1), (40, 1), (41, 1), (42, 1), (43, 1), (44, 1), (45, 3), (46, 1), (47, 1), (48, 1), (49, 1), (50, 1), (51, 1), (52, 1), (53, 1), (54, 6), (55, 1), (56, 2), (57, 2), (58, 1), (59, 1), (60, 1), (61, 1)] "
     ]
    }
   ],
   "source": [
    "print(corpus[0], end = ' ')"
   ]
  },
  {
   "cell_type": "markdown",
   "metadata": {},
   "source": [
    "Then we could construct the TF-IDF model. The value of TF-IDF could be calculated as follows:\n",
    "\n",
    "\\begin{equation}\n",
    "TF-IDF(x) = TF(X) \\times IDF(X)\n",
    "\\end{equation}\n",
    "\n",
    "where $TF(x)$ means the word frequency of a word $x$. $IDF(x)$ represents the importance of a word $X$. We usually use the following formular to calcualte the $IDF(X)$:\n",
    "\n",
    "\\begin{equation}\n",
    "IDF(X) = log\\frac{N+1}{N(x)+1} + 1\n",
    "\\end{equation}\n",
    "\n",
    "where $N$ means the number of documents and $N(x)$ means the number of documents with word $x$. Sometimes, we could not find the term $x$ in all of our documents. Hence, it would be better if we could just add 1 to both of numerator and the denominator.\n",
    "\n",
    "Hence, we could train a TF-IDF model based on our bag-of-words format."
   ]
  },
  {
   "cell_type": "code",
   "execution_count": 14,
   "metadata": {
    "collapsed": true
   },
   "outputs": [],
   "source": [
    "tfidf = models.TfidfModel(corpus)"
   ]
  },
  {
   "cell_type": "markdown",
   "metadata": {},
   "source": [
    "Then we could calculate the TF-IDF value for each word in this corpus."
   ]
  },
  {
   "cell_type": "code",
   "execution_count": 15,
   "metadata": {
    "collapsed": true
   },
   "outputs": [],
   "source": [
    "corpus_tfidf = tfidf[corpus]"
   ]
  },
  {
   "cell_type": "code",
   "execution_count": 16,
   "metadata": {},
   "outputs": [
    {
     "name": "stdout",
     "output_type": "stream",
     "text": [
      "[(0, 0.08227414712216305), (1, 0.03608341968474429), (2, 0.11939725492070861), (3, 0.00992620381225356), (4, 0.10933847819956571), (5, 0.011399692365667562), (6, 0.07758199632369396), (7, 0.061078561582792616), (8, 0.042407531064323246), (9, 0.10933847819956571), (10, 0.03640516876863604), (11, 0.06494137473217035), (12, 0.03078302788168392), (13, 0.04970515725901752), (14, 0.035454965764667806), (15, 0.051002955199832126), (16, 0.04970515725901752), (17, 0.12037571819073924), (18, 0.1326574894171137), (19, 0.051002955199832126), (20, 0.06942854357795678), (21, 0.024513486111542197), (22, 0.018372600498354964), (23, 0.07758199632369396), (24, 0.11939725492070861), (25, 0.042419068667908524), (26, 0.30965810701337015), (27, 0.040332610738442826), (28, 0.22564053109367352), (29, 0.11939725492070861), (30, 0.10545883538837039), (31, 0.06494137473217035), (32, 0.12990421983608896), (33, 0.10921550630590812), (34, 0.05723982614436788), (35, 0.38790998161846985), (36, 0.08740729674093299), (37, 0.07309482747790752), (38, 0.23879450984141723), (39, 0.04848606348417999), (40, 0.11939725492070861), (41, 0.06942854357795678), (42, 0.04848606348417999), (43, 0.03367949955126386), (44, 0.017091346276068835), (45, 0.08808896123907432), (46, 0.06942854357795678), (47, 0.11939725492070861), (48, 0.03484555886352627), (49, 0.058175291962819675), (50, 0.0462494395630314), (51, 0.03102976580840705), (52, 0.055490124045618566), (53, 0.04376370027613044), (54, 0.5838322958557993), (55, 0.083366963110295), (56, 0.07911819315429063), (57, 0.02205802221878639), (58, 0.06942854357795678), (59, 0.04848606348417999), (60, 0.055490124045618566), (61, 0.06364357679135575)] "
     ]
    }
   ],
   "source": [
    "docs = [doc for doc in corpus_tfidf]\n",
    "print(docs[0], end =' ')"
   ]
  },
  {
   "cell_type": "markdown",
   "metadata": {},
   "source": [
    "Then we use **Latent Semantic Index(LSI)** or **Latent Semantic Analysis(LSA)** model to train our data. The KSI model assumes that **words that are close in meaning will occur in similar pieces**. The LSI model is based on singular value decomposition(SVD). If we use SVD and implement PCA with first $k$ features, for a $m \\times n$ matrix $A$, we could get：\n",
    "\n",
    "\\begin{equation}\n",
    "A_{m \\times n} \\approx U_{m \\times k} \\Sigma_{k \\times k} V_{k \\times n}\n",
    "\\end{equation}\n",
    "\n",
    "We always use $A_{m \\times n}$ to represent the feature value of mth word in the nth document. In this case, we use TF-IDF value to be this feature value. Then for the terms $ U_{m \\times k}, \\Sigma_{k \\times k}$ and $V_{k \\times n} $:\n",
    "\n",
    "1. $U_{m \\times k}$ represents the correlation between mth word and kth topic\n",
    "2. $\\Sigma_{k \\times k}$ represents the correlatiion between the topics\n",
    "3. $V_{k \\times n} $ represents the correlation between the kth topic and the nth document.\n",
    "\n",
    "So now an important question is: how to choose an appropriate k? This number is a hyperparameter to be carefully selected. In general, we could work out an optimum k by selecting the N largest singular values of the TF-IDF corpus matrix. In gensim, we could use a function called **corpus2dense** to calculate the singular values."
   ]
  },
  {
   "cell_type": "code",
   "execution_count": 17,
   "metadata": {
    "collapsed": true
   },
   "outputs": [],
   "source": [
    "numpy_matrix = matutils.corpus2dense(corpus, num_terms = 31730) # num_terms means number of words in text_stemmed\n",
    "s = np.linalg.svd(numpy_matrix, full_matrices=False, compute_uv=False)"
   ]
  },
  {
   "cell_type": "code",
   "execution_count": 18,
   "metadata": {},
   "outputs": [
    {
     "data": {
      "image/png": "[encoded data removed]",
      "text/plain": [
       "<matplotlib.figure.Figure at 0x2244faa50b8>"
      ]
     },
     "metadata": {},
     "output_type": "display_data"
    }
   ],
   "source": [
    "plt.figure(figsize=(10,5))\n",
    "plt.hist(s, bins=100)\n",
    "plt.xlabel('Singular values', fontsize=12)\n",
    "plt.show()"
   ]
  },
  {
   "cell_type": "markdown",
   "metadata": {
    "collapsed": true
   },
   "source": [
    "From the plot above, we see that most singular values are between 0 and 30. Then we could try to draw the following plot and see if we could work out the number of topics by seeing the proportion of sum of first k diagonal values of s over the sum of all the diagonal values of s."
   ]
  },
  {
   "cell_type": "code",
   "execution_count": 68,
   "metadata": {},
   "outputs": [
    {
     "data": {
      "image/png": "[encoded data removed]",
      "text/plain": [
       "<matplotlib.figure.Figure at 0x2245264dfd0>"
      ]
     },
     "metadata": {},
     "output_type": "display_data"
    }
   ],
   "source": [
    "values = []\n",
    "\n",
    "for i in range(len(courses_name)+1):\n",
    "    values.append(sum(list(s)[:i])/sum(list(s)))\n",
    "values.pop(0)\n",
    "    \n",
    "plt.plot(list(range(len(courses_name))), values)\n",
    "plt.xlabel('Course Number')\n",
    "plt.ylabel('Proportion')\n",
    "plt.show()"
   ]
  },
  {
   "cell_type": "markdown",
   "metadata": {},
   "source": [
    "From the firgure above, we see the the proportion grows steadily and it seems hard to find a very appropriate number of topics. But let's try k = 10 first."
   ]
  },
  {
   "cell_type": "markdown",
   "metadata": {},
   "source": [
    "For the function models.LsiModel, we use the TF-IDF values as the inputs and we assume that there are 10 different topics for this Coursera dataset. Then we could construct the following LSI model:"
   ]
  },
  {
   "cell_type": "code",
   "execution_count": 19,
   "metadata": {
    "collapsed": true
   },
   "outputs": [],
   "source": [
    "lsi = models.LsiModel(corpus = corpus_tfidf, id2word=dictionary, num_topics=40)"
   ]
  },
  {
   "cell_type": "markdown",
   "metadata": {},
   "source": [
    "We could see each topic by using the print_topic function. From the results we could see some negative values, which is the main reason why the result given by LSA is hard to interprete."
   ]
  },
  {
   "cell_type": "code",
   "execution_count": 20,
   "metadata": {},
   "outputs": [
    {
     "data": {
      "text/plain": [
       "[(0,\n",
       "  '0.254*\"teach\" + 0.151*\"nbsp\" + 0.136*\"program\" + 0.121*\"learn\" + 0.118*\"mus\" + 0.105*\"heal\" + 0.101*\"comput\" + 0.099*\"stud\" + 0.096*\"network\" + 0.093*\"design\"'),\n",
       " (1,\n",
       "  '-0.591*\"de\" + -0.381*\"la\" + -0.215*\"en\" + -0.174*\"à\" + -0.162*\"cour\" + -0.148*\"los\" + -0.145*\"que\" + -0.141*\"les\" + -0.136*\"un\" + -0.111*\"curso\"'),\n",
       " (2,\n",
       "  '0.628*\"teach\" + 0.200*\"portfolio\" + 0.186*\"assist\" + -0.161*\"mus\" + 0.128*\"improv\" + 0.121*\"profess\" + 0.116*\"learn\" + 0.114*\"undertak\" + 0.113*\"strongly\" + -0.112*\"network\"'),\n",
       " (3,\n",
       "  '-0.807*\"mus\" + -0.170*\"sound\" + 0.170*\"heal\" + -0.095*\"art\" + -0.094*\"audio\" + -0.090*\"digit\" + 0.084*\"econom\" + 0.078*\"glob\" + -0.072*\"composit\" + -0.068*\"program\"'),\n",
       " (4,\n",
       "  '0.371*\"heal\" + -0.289*\"program\" + -0.214*\"comput\" + 0.213*\"mus\" + -0.183*\"langu\" + -0.182*\"dat\" + -0.180*\"algorithm\" + 0.165*\"glob\" + -0.142*\"network\" + 0.125*\"food\"'),\n",
       " (5,\n",
       "  '0.500*\"heal\" + 0.242*\"program\" + 0.168*\"nutrit\" + -0.162*\"busy\" + -0.147*\"gam\" + -0.144*\"network\" + -0.133*\"econom\" + 0.129*\"diseas\" + 0.126*\"langu\" + 0.118*\"food\"'),\n",
       " (6,\n",
       "  '0.495*\"chem\" + 0.312*\"org\" + 0.297*\"react\" + -0.212*\"heal\" + 0.162*\"compound\" + 0.141*\"biolog\" + 0.138*\"structure\" + -0.131*\"network\" + -0.130*\"program\" + -0.125*\"gam\"'),\n",
       " (7,\n",
       "  '-0.565*\"gam\" + 0.373*\"network\" + -0.181*\"program\" + -0.174*\"busy\" + 0.113*\"evolv\" + 0.108*\"mus\" + -0.095*\"art\" + -0.095*\"org\" + 0.094*\"dat\" + -0.092*\"chem\"'),\n",
       " (8,\n",
       "  '-0.265*\"evolv\" + 0.254*\"network\" + -0.178*\"ear\" + -0.174*\"genet\" + 0.173*\"busy\" + -0.171*\"hist\" + -0.154*\"gam\" + 0.146*\"fin\" + 0.141*\"econom\" + -0.140*\"genom\"'),\n",
       " (9,\n",
       "  '0.460*\"network\" + 0.455*\"gam\" + -0.171*\"dat\" + -0.169*\"fin\" + -0.145*\"stat\" + 0.140*\"heal\" + -0.130*\"busy\" + -0.119*\"r\" + 0.111*\"soc\" + 0.111*\"internet\"'),\n",
       " (10,\n",
       "  '0.318*\"program\" + -0.198*\"dat\" + 0.171*\"technolog\" + 0.169*\"network\" + -0.151*\"gam\" + 0.146*\"c\" + 0.145*\"chin\" + -0.143*\"los\" + 0.131*\"cour\" + -0.126*\"de\"'),\n",
       " (11,\n",
       "  '-0.283*\"econom\" + -0.203*\"gam\" + 0.185*\"innov\" + 0.156*\"technolog\" + -0.155*\"market\" + 0.143*\"healthc\" + -0.143*\"food\" + -0.137*\"energy\" + 0.136*\"writ\" + -0.122*\"fin\"'),\n",
       " (12,\n",
       "  '0.256*\"chin\" + 0.227*\"technolog\" + 0.208*\"dat\" + 0.206*\"chines\" + 0.205*\"algorithm\" + 0.173*\"gam\" + -0.154*\"psycholog\" + -0.153*\"writ\" + 0.150*\"innov\" + 0.117*\"part\"'),\n",
       " (13,\n",
       "  '0.183*\"energy\" + -0.164*\"busy\" + 0.160*\"chin\" + 0.153*\"technolog\" + -0.142*\"genet\" + -0.141*\"genom\" + -0.141*\"grow\" + 0.138*\"los\" + -0.134*\"drug\" + -0.131*\"cour\"'),\n",
       " (14,\n",
       "  '-0.329*\"dat\" + 0.213*\"genet\" + 0.170*\"genom\" + -0.164*\"stat\" + 0.146*\"fin\" + 0.135*\"evolv\" + -0.126*\"philosoph\" + 0.118*\"funct\" + 0.118*\"comput\" + -0.111*\"research\"'),\n",
       " (15,\n",
       "  '0.178*\"ear\" + 0.176*\"network\" + -0.176*\"im\" + 0.174*\"busy\" + 0.157*\"langu\" + 0.156*\"evolv\" + 0.136*\"model\" + 0.134*\"energy\" + -0.129*\"chin\" + -0.124*\"psycholog\"'),\n",
       " (16,\n",
       "  '0.340*\"im\" + -0.214*\"langu\" + -0.160*\"program\" + 0.154*\"video\" + -0.150*\"psycholog\" + -0.136*\"funct\" + -0.136*\"chin\" + -0.127*\"r\" + -0.113*\"stat\" + -0.110*\"chines\"'),\n",
       " (17,\n",
       "  '0.413*\"energy\" + -0.175*\"philosoph\" + -0.164*\"im\" + 0.142*\"gam\" + 0.127*\"nuclear\" + 0.119*\"food\" + -0.118*\"fin\" + -0.110*\"hist\" + -0.110*\"heal\" + 0.106*\"engin\"'),\n",
       " (18,\n",
       "  '0.259*\"food\" + 0.220*\"nutrit\" + 0.212*\"algorithm\" + 0.178*\"diet\" + -0.150*\"energy\" + -0.144*\"sec\" + -0.142*\"engin\" + 0.128*\"grow\" + -0.120*\"clin\" + -0.114*\"healthc\"'),\n",
       " (19,\n",
       "  '0.231*\"model\" + -0.182*\"econom\" + 0.159*\"chin\" + 0.158*\"technolog\" + 0.153*\"nutrit\" + -0.151*\"algorithm\" + -0.147*\"writ\" + 0.135*\"chines\" + 0.121*\"brain\" + -0.117*\"genom\"'),\n",
       " (20,\n",
       "  '0.278*\"algorithm\" + -0.188*\"art\" + -0.176*\"r\" + -0.166*\"stat\" + -0.162*\"genet\" + 0.137*\"machin\" + 0.122*\"calcul\" + -0.118*\"food\" + 0.116*\"linear\" + -0.115*\"dat\"'),\n",
       " (21,\n",
       "  '-0.207*\"im\" + -0.190*\"funct\" + 0.164*\"fin\" + 0.150*\"algorithm\" + 0.133*\"plan\" + -0.129*\"busy\" + -0.128*\"drug\" + 0.125*\"classroom\" + -0.121*\"energy\" + -0.119*\"linear\"'),\n",
       " (22,\n",
       "  '0.216*\"model\" + 0.194*\"clim\" + -0.160*\"plan\" + -0.159*\"nutrit\" + -0.158*\"sec\" + 0.140*\"genom\" + -0.133*\"optim\" + -0.131*\"man\" + 0.130*\"biolog\" + -0.127*\"univers\"'),\n",
       " (23,\n",
       "  '-0.210*\"calcul\" + -0.203*\"linear\" + -0.173*\"algebr\" + 0.159*\"psycholog\" + 0.158*\"energy\" + -0.152*\"funct\" + 0.151*\"algorithm\" + -0.142*\"classroom\" + -0.132*\"optim\" + -0.129*\"stud\"'),\n",
       " (24,\n",
       "  '-0.280*\"drug\" + 0.238*\"sec\" + 0.220*\"philosoph\" + 0.171*\"cryptograph\" + 0.151*\"genet\" + -0.146*\"im\" + 0.139*\"genom\" + -0.137*\"market\" + 0.128*\"grow\" + 0.115*\"inform\"'),\n",
       " (25,\n",
       "  '0.232*\"writ\" + 0.181*\"drug\" + -0.159*\"funct\" + -0.153*\"clim\" + -0.140*\"glob\" + -0.132*\"im\" + 0.131*\"nutrit\" + -0.130*\"art\" + 0.127*\"food\" + 0.125*\"phys\"'),\n",
       " (26,\n",
       "  '-0.261*\"clim\" + -0.208*\"chang\" + -0.185*\"optim\" + -0.167*\"psycholog\" + -0.163*\"engin\" + 0.160*\"machin\" + -0.159*\"program\" + 0.153*\"energy\" + -0.142*\"linear\" + -0.133*\"solv\"'),\n",
       " (27,\n",
       "  '0.241*\"writ\" + -0.224*\"philosoph\" + 0.187*\"psycholog\" + -0.153*\"model\" + -0.153*\"drug\" + -0.151*\"mathem\" + 0.124*\"sec\" + -0.123*\"langu\" + 0.113*\"behavy\" + -0.107*\"optim\"'),\n",
       " (28,\n",
       "  '-0.257*\"grow\" + 0.202*\"healthc\" + 0.191*\"innov\" + 0.183*\"philosoph\" + -0.167*\"comput\" + 0.158*\"energy\" + -0.145*\"cryptograph\" + 0.130*\"chang\" + -0.129*\"im\" + 0.128*\"clim\"'),\n",
       " (29,\n",
       "  '-0.333*\"drug\" + 0.201*\"phys\" + -0.194*\"optim\" + 0.180*\"healthc\" + 0.162*\"clin\" + -0.139*\"clim\" + -0.133*\"linear\" + 0.122*\"innov\" + -0.119*\"energy\" + -0.111*\"fin\"'),\n",
       " (30,\n",
       "  '-0.248*\"energy\" + -0.224*\"psycholog\" + 0.217*\"art\" + 0.172*\"architect\" + -0.161*\"im\" + -0.159*\"genet\" + 0.150*\"food\" + -0.138*\"optim\" + 0.132*\"clim\" + 0.128*\"hist\"'),\n",
       " (31,\n",
       "  '-0.273*\"clim\" + -0.202*\"model\" + 0.191*\"architect\" + -0.148*\"machin\" + 0.138*\"engin\" + -0.130*\"food\" + 0.128*\"philosoph\" + 0.127*\"heal\" + -0.120*\"writ\" + -0.119*\"langu\"'),\n",
       " (32,\n",
       "  '-0.289*\"philosoph\" + -0.180*\"clim\" + -0.170*\"digit\" + -0.162*\"inform\" + 0.138*\"hist\" + 0.130*\"machin\" + -0.119*\"onlin\" + 0.118*\"clin\" + -0.110*\"brain\" + 0.109*\"art\"'),\n",
       " (33,\n",
       "  '-0.230*\"glob\" + 0.229*\"philosoph\" + -0.194*\"sport\" + -0.173*\"phys\" + 0.139*\"healthc\" + 0.120*\"innov\" + 0.120*\"econom\" + -0.117*\"engin\" + 0.109*\"art\" + 0.105*\"system\"'),\n",
       " (34,\n",
       "  '0.165*\"plan\" + -0.144*\"brain\" + -0.143*\"clim\" + -0.138*\"comput\" + 0.137*\"robot\" + 0.133*\"univers\" + 0.126*\"onlin\" + 0.120*\"system\" + -0.116*\"hist\" + -0.115*\"fin\"'),\n",
       " (35,\n",
       "  '0.302*\"architect\" + -0.268*\"art\" + 0.173*\"comput\" + -0.146*\"law\" + 0.127*\"rom\" + -0.120*\"program\" + -0.120*\"log\" + -0.107*\"algorithm\" + 0.102*\"clim\" + 0.099*\"org\"'),\n",
       " (36,\n",
       "  '0.174*\"cryptograph\" + 0.155*\"reason\" + -0.145*\"philosoph\" + -0.137*\"org\" + 0.132*\"sign\" + -0.127*\"writ\" + 0.126*\"onlin\" + 0.121*\"digit\" + -0.120*\"plan\" + -0.119*\"intern\"'),\n",
       " (37,\n",
       "  '0.209*\"sport\" + -0.172*\"law\" + 0.165*\"food\" + 0.153*\"nbsp\" + -0.149*\"clim\" + 0.149*\"model\" + 0.148*\"biolog\" + 0.135*\"healthc\" + 0.124*\"cel\" + -0.118*\"nutrit\"'),\n",
       " (38,\n",
       "  '-0.173*\"architect\" + 0.155*\"cryptograph\" + 0.152*\"im\" + 0.136*\"phys\" + -0.128*\"design\" + -0.121*\"educ\" + -0.114*\"optim\" + -0.112*\"sound\" + 0.111*\"object\" + -0.107*\"linear\"'),\n",
       " (39,\n",
       "  '-0.189*\"reason\" + -0.183*\"think\" + -0.150*\"argu\" + 0.144*\"grow\" + 0.139*\"writ\" + 0.137*\"engin\" + 0.136*\"drug\" + 0.127*\"calcul\" + -0.114*\"design\" + 0.107*\"phys\"')]"
      ]
     },
     "execution_count": 20,
     "metadata": {},
     "output_type": "execute_result"
    }
   ],
   "source": [
    "lsi.print_topics(-1)"
   ]
  },
  {
   "cell_type": "markdown",
   "metadata": {},
   "source": [
    "With this LSI model, we could project our corpus to a 10-dimensional space."
   ]
  },
  {
   "cell_type": "code",
   "execution_count": 21,
   "metadata": {
    "collapsed": true
   },
   "outputs": [],
   "source": [
    "corpus_lsi = lsi[corpus_tfidf]"
   ]
  },
  {
   "cell_type": "markdown",
   "metadata": {},
   "source": [
    "Then we could compute the similarity between different documents."
   ]
  },
  {
   "cell_type": "code",
   "execution_count": 22,
   "metadata": {
    "collapsed": true
   },
   "outputs": [],
   "source": [
    "index = similarities.MatrixSimilarity(lsi[corpus])"
   ]
  },
  {
   "cell_type": "markdown",
   "metadata": {},
   "source": [
    "For instance, if a user has finished Andrew Ng's course Machine learning, he wants to study other courses which also contains machine learning. Hence, firstly we construct the bag-of-words framework for this course."
   ]
  },
  {
   "cell_type": "code",
   "execution_count": 23,
   "metadata": {
    "collapsed": true
   },
   "outputs": [],
   "source": [
    "ml_course = text_stemmed[210]\n",
    "ml_bow = dictionary.doc2bow(ml_course)"
   ]
  },
  {
   "cell_type": "code",
   "execution_count": 24,
   "metadata": {},
   "outputs": [
    {
     "name": "stdout",
     "output_type": "stream",
     "text": [
      "[(0, 8.5487825045057306), (1, 0.66842575737207721), (2, 0.97614562908334757), (3, -0.12653022965584629), (4, -4.4993125657566182), (5, 0.71011537796637647), (6, -1.8727259389453759), (7, 1.6641502199383325), (8, 0.25067431690203185), (9, 0.76271166177796268), (10, -0.37332300001862406), (11, 2.3088390530522451), (12, 1.2450808577000676), (13, 0.54481218835306788), (14, 1.5323951019688782), (15, -1.2109314454769842), (16, 2.178858696665753), (17, -0.85429114627277591), (18, 1.4445838323533444), (19, 1.2163856849480925), (20, 4.0229866914533066), (21, 3.1067348067085288), (22, -0.52964254833006597), (23, 2.9428347840549582), (24, -1.6353212080531965), (25, -1.6897689148185984), (26, 4.2201363014640281), (27, -1.3838670929056764), (28, 3.0200269131176021), (29, -1.4753767357722745), (30, -0.66874465064369404), (31, -3.7216586934352454), (32, 2.7351670621654063), (33, 2.5122801992175057), (34, 1.9413767659021537), (35, -0.52802875756089318), (36, -1.7106540938939416), (37, -0.34912766792503397), (38, 1.2292657432064074), (39, 1.9890079530627509)]\n"
     ]
    }
   ],
   "source": [
    "ml_lsi = lsi[ml_bow]\n",
    "print(ml_lsi)"
   ]
  },
  {
   "cell_type": "code",
   "execution_count": 25,
   "metadata": {
    "collapsed": true
   },
   "outputs": [],
   "source": [
    "sims = index[ml_lsi]"
   ]
  },
  {
   "cell_type": "code",
   "execution_count": 26,
   "metadata": {},
   "outputs": [
    {
     "name": "stdout",
     "output_type": "stream",
     "text": [
      "[(210, 1.0), (174, 0.94505674), (203, 0.81600106), (238, 0.76140654), (185, 0.63197786), (142, 0.60964197), (262, 0.59473741), (208, 0.58943695), (144, 0.57245564), (70, 0.56967247)]\n"
     ]
    }
   ],
   "source": [
    "sort_sims = sorted(enumerate(sims), key=lambda item: -item[1])\n",
    "print(sort_sims[:10])"
   ]
  },
  {
   "cell_type": "markdown",
   "metadata": {},
   "source": [
    "Hence we finally get the courses which are most close to Andrew's course 'machine learning' are:"
   ]
  },
  {
   "cell_type": "code",
   "execution_count": 27,
   "metadata": {},
   "outputs": [
    {
     "name": "stdout",
     "output_type": "stream",
     "text": [
      "['Machine Learning', 'Machine Learning', 'Neural Networks for Machine Learning', 'Probabilistic Graphical Models', 'Introduction to Databases', 'Control of Mobile Robots', 'The Future of Humankind', 'Engaging Students through Cooperative Learning', 'Natural Language Processing', 'Artificial Intelligence Planning']\n"
     ]
    }
   ],
   "source": [
    "course_id = [course[0] for course in sort_sims[:10]]\n",
    "top_10_courses = [courses_name[i] for i in course_id]\n",
    "print(top_10_courses)"
   ]
  },
  {
   "cell_type": "markdown",
   "metadata": {
    "collapsed": true
   },
   "source": [
    "The results look quite reasonable. But the LSI model does have the following **issues**:\n",
    "\n",
    "1. This model is computationally expensive, especially when we are analyzing the large corpus(The speed could be improved by implementing the NMF decomposition).\n",
    "2. It is hard to select the appropriate $k$.\n",
    "3. The result is hard to interpret.\n",
    "\n",
    "4. The LSI model does not take into account **the prior information**."
   ]
  },
  {
   "cell_type": "markdown",
   "metadata": {
    "collapsed": true
   },
   "source": [
    "### 2.3.2 LDA Model\n",
    "\n",
    "In this section, we choose another model called **Latent Dirichlet allocation(LDA)** to do the recommendation.\n",
    "\n",
    "For this Coursera corpus, we could also run a LDA model using the following code:"
   ]
  },
  {
   "cell_type": "code",
   "execution_count": 28,
   "metadata": {
    "collapsed": true
   },
   "outputs": [],
   "source": [
    "lda = models.LdaModel(corpus_tfidf, id2word = dictionary, num_topics = 10)"
   ]
  },
  {
   "cell_type": "markdown",
   "metadata": {},
   "source": [
    "Unlike LSA, the topics coming from LDA are easier to interpret."
   ]
  },
  {
   "cell_type": "code",
   "execution_count": 29,
   "metadata": {},
   "outputs": [
    {
     "data": {
      "text/plain": [
       "[(0,\n",
       "  '0.002*\"teach\" + 0.002*\"network\" + 0.002*\"technolog\" + 0.002*\"gam\" + 0.002*\"sci\" + 0.002*\"learn\" + 0.001*\"heal\" + 0.001*\"glob\" + 0.001*\"problem\" + 0.001*\"’\"'),\n",
       " (1,\n",
       "  '0.003*\"langu\" + 0.003*\"mus\" + 0.002*\"program\" + 0.002*\"model\" + 0.001*\"healthc\" + 0.001*\"coop\" + 0.001*\"epigenet\" + 0.001*\"eu\" + 0.001*\"nbsp\" + 0.001*\"week\"'),\n",
       " (2,\n",
       "  '0.004*\"mus\" + 0.002*\"nbsp\" + 0.002*\"teach\" + 0.002*\"sound\" + 0.001*\"mathem\" + 0.001*\"grow\" + 0.001*\"philosoph\" + 0.001*\"org\" + 0.001*\"react\" + 0.001*\"stud\"'),\n",
       " (3,\n",
       "  '0.001*\"inform\" + 0.001*\"teach\" + 0.001*\"tink\" + 0.001*\"brain\" + 0.001*\"log\" + 0.001*\"program\" + 0.001*\"innov\" + 0.001*\"nbsp\" + 0.001*\"neuron\" + 0.001*\"databas\"'),\n",
       " (4,\n",
       "  '0.002*\"program\" + 0.001*\"c\" + 0.001*\"design\" + 0.001*\"de\" + 0.001*\"evolv\" + 0.001*\"dat\" + 0.001*\"algorithm\" + 0.001*\"contraceiv\" + 0.001*\"teach\" + 0.001*\"nbsp\"'),\n",
       " (5,\n",
       "  '0.002*\"org\" + 0.002*\"algorithm\" + 0.002*\"chem\" + 0.001*\"comput\" + 0.001*\"calcul\" + 0.001*\"nbsp\" + 0.001*\"ter\" + 0.001*\"part\" + 0.001*\"drug\" + 0.001*\"program\"'),\n",
       " (6,\n",
       "  '0.002*\"de\" + 0.002*\"teach\" + 0.001*\"writ\" + 0.001*\"la\" + 0.001*\"drug\" + 0.001*\"vot\" + 0.001*\"r\" + 0.001*\"onlin\" + 0.001*\"phys\" + 0.001*\"busy\"'),\n",
       " (7,\n",
       "  '0.002*\"heal\" + 0.002*\"program\" + 0.001*\"optim\" + 0.001*\"nbsp\" + 0.001*\"valu\" + 0.001*\"market\" + 0.001*\"behavy\" + 0.001*\"person\" + 0.001*\"discret\" + 0.001*\"apply\"'),\n",
       " (8,\n",
       "  '0.002*\"de\" + 0.002*\"heal\" + 0.002*\"vaccin\" + 0.002*\"hist\" + 0.002*\"genet\" + 0.001*\"nbsp\" + 0.001*\"diabet\" + 0.001*\"la\" + 0.001*\"film\" + 0.001*\"nuclear\"'),\n",
       " (9,\n",
       "  '0.002*\"teach\" + 0.002*\"writ\" + 0.002*\"nbsp\" + 0.001*\"plan\" + 0.001*\"econom\" + 0.001*\"onlin\" + 0.001*\"stud\" + 0.001*\"im\" + 0.001*\"model\" + 0.001*\"learn\"')]"
      ]
     },
     "execution_count": 29,
     "metadata": {},
     "output_type": "execute_result"
    }
   ],
   "source": [
    "lda.print_topics(-1)"
   ]
  },
  {
   "cell_type": "markdown",
   "metadata": {},
   "source": [
    "As usual, a trained model could be used to transform documents into LDA topic distributions."
   ]
  },
  {
   "cell_type": "code",
   "execution_count": 30,
   "metadata": {
    "collapsed": true
   },
   "outputs": [],
   "source": [
    "corpus_lda = lda[corpus_tfidf]"
   ]
  },
  {
   "cell_type": "code",
   "execution_count": 31,
   "metadata": {
    "collapsed": true
   },
   "outputs": [],
   "source": [
    "index = similarities.MatrixSimilarity(lda[corpus])"
   ]
  },
  {
   "cell_type": "markdown",
   "metadata": {},
   "source": [
    "Then let's try the Andrew's machine learning course again and see the top 10 courses recommended by our LDA model."
   ]
  },
  {
   "cell_type": "code",
   "execution_count": 32,
   "metadata": {},
   "outputs": [
    {
     "name": "stdout",
     "output_type": "stream",
     "text": [
      "[(0, 0.32348104891930146), (2, 0.0692203614904318), (5, 0.60329762215499427)]\n"
     ]
    }
   ],
   "source": [
    "ml_lda = lda[ml_bow]\n",
    "print(ml_lda)"
   ]
  },
  {
   "cell_type": "code",
   "execution_count": 33,
   "metadata": {
    "collapsed": true
   },
   "outputs": [],
   "source": [
    "sims = index[ml_lda]"
   ]
  },
  {
   "cell_type": "code",
   "execution_count": 34,
   "metadata": {},
   "outputs": [
    {
     "name": "stdout",
     "output_type": "stream",
     "text": [
      "[(210, 1.0), (11, 0.99405813), (257, 0.98600644), (96, 0.98490548), (355, 0.98387724), (323, 0.98124057), (40, 0.97308475), (306, 0.97186875), (42, 0.95882559), (81, 0.94963306)]\n"
     ]
    }
   ],
   "source": [
    "sort_sims = sorted(enumerate(sims), key=lambda item: -item[1])\n",
    "print(sort_sims[:10])"
   ]
  },
  {
   "cell_type": "code",
   "execution_count": 35,
   "metadata": {},
   "outputs": [
    {
     "name": "stdout",
     "output_type": "stream",
     "text": [
      "['Machine Learning', 'Science, Technology, and Society in China II: History of S&T in Chinese Society', 'Mathematical Biostatistics Boot Camp', 'Surviving Your Rookie Year of Teaching: 3 Key Ideas & High Leverage Techniques', 'Networks: Friends, Money, and Bytes', 'Critical Thinking in Global Challenges', 'Gamification', 'Calculus One', 'Calculus: Single Variable', 'Organizational Analysis']\n"
     ]
    }
   ],
   "source": [
    "course_id = [course[0] for course in sort_sims[:10]]\n",
    "top_10_courses = [courses_name[i] for i in course_id]\n",
    "print(top_10_courses)"
   ]
  },
  {
   "cell_type": "markdown",
   "metadata": {},
   "source": [
    "From the results, it seems that courses recommended by our LDA model is not reasonable. Courses such as 'Fundamentals of Pharmacology' seems to have little correlation with machine learning."
   ]
  },
  {
   "cell_type": "markdown",
   "metadata": {},
   "source": [
    "### 2.3.3 Word embeddings"
   ]
  },
  {
   "cell_type": "markdown",
   "metadata": {},
   "source": [
    "Word embedding is currently one of the most successful unsupervised learning methods. It is extremely user-friendly and it could work out the semantic correlation between words. For this Coursera case, we could also use the word representations to work out the similarity between different documents.\n",
    "\n",
    "Firstly, let's use models in gensim to work out the word vectors(here we use the **text_filtered** to train the word representations)"
   ]
  },
  {
   "cell_type": "code",
   "execution_count": 36,
   "metadata": {},
   "outputs": [
    {
     "name": "stdout",
     "output_type": "stream",
     "text": [
      "Wall time: 0 ns\n"
     ]
    }
   ],
   "source": [
    "%time\n",
    "\n",
    "wv_model = models.Word2Vec(text_filtered, size = 100, window = 5, min_count = 0, workers = 4)"
   ]
  },
  {
   "cell_type": "markdown",
   "metadata": {},
   "source": [
    "Then we save the model and load it"
   ]
  },
  {
   "cell_type": "code",
   "execution_count": 37,
   "metadata": {},
   "outputs": [
    {
     "name": "stdout",
     "output_type": "stream",
     "text": [
      "Wall time: 0 ns\n"
     ]
    }
   ],
   "source": [
    "%time\n",
    "\n",
    "wv_model.save('word2vec')\n",
    "wv_model = models.Word2Vec.load('word2vec')"
   ]
  },
  {
   "cell_type": "markdown",
   "metadata": {},
   "source": [
    "Then we could view the word vector of some words using the following code:"
   ]
  },
  {
   "cell_type": "code",
   "execution_count": 38,
   "metadata": {},
   "outputs": [
    {
     "data": {
      "text/plain": [
       "array([ -1.00507632e-01,  -4.50621657e-02,   4.59749438e-02,\n",
       "        -3.04124415e-01,  -1.20504774e-01,  -3.12454272e-02,\n",
       "         2.73350984e-01,  -6.22652695e-02,   1.44311935e-01,\n",
       "        -1.59428939e-01,   1.54154852e-01,   3.99320833e-02,\n",
       "         3.47020745e-01,   1.02046870e-01,   4.93304618e-02,\n",
       "         1.99700013e-01,  -1.02729395e-01,   1.53500557e-01,\n",
       "         3.09760049e-02,  -9.63660479e-02,  -1.29093081e-01,\n",
       "         1.54914603e-01,   1.34497911e-01,   5.40971244e-03,\n",
       "         2.09345549e-01,   7.63690472e-02,   8.88017863e-02,\n",
       "        -1.27083823e-01,  -2.89367527e-01,  -1.36449754e-01,\n",
       "         1.94786862e-02,  -8.44007358e-02,  -1.72765311e-02,\n",
       "         2.06075475e-01,  -3.64517421e-01,   2.15136841e-01,\n",
       "         4.80467491e-02,   1.45492747e-01,   1.49866119e-01,\n",
       "         2.98153490e-01,  -1.25912786e-01,  -9.15608853e-02,\n",
       "        -1.15452036e-01,  -1.15409710e-01,  -1.97567597e-01,\n",
       "         8.86341557e-02,   8.90661106e-02,  -3.95595729e-01,\n",
       "         2.97453851e-01,   3.86830300e-01,  -2.25252971e-01,\n",
       "         3.87941040e-02,   1.27643377e-01,   1.07437827e-01,\n",
       "        -4.73082736e-02,   8.61185708e-06,   5.10033965e-02,\n",
       "         1.99483670e-02,  -8.49625934e-03,  -1.14691474e-01,\n",
       "         5.67303970e-02,   1.28563181e-01,   2.14253962e-02,\n",
       "         2.26809055e-01,  -8.45752954e-02,   9.98821184e-02,\n",
       "        -5.22608042e-01,  -3.32921326e-01,   1.50689602e-01,\n",
       "        -2.87166595e-01,   2.41557851e-01,  -1.26925558e-01,\n",
       "        -2.41099466e-02,   2.44886935e-01,  -2.86963224e-01,\n",
       "        -2.52348427e-02,   1.44438237e-01,   3.19031038e-04,\n",
       "         8.91772732e-02,  -1.31436018e-02,   1.23252131e-01,\n",
       "        -3.25896889e-01,   4.84657228e-01,   5.44293761e-01,\n",
       "        -9.98097882e-02,  -1.02193162e-01,   1.02890432e-01,\n",
       "         2.41571620e-01,   8.13135207e-02,  -7.81081840e-02,\n",
       "         1.28653347e-01,   4.01853435e-02,   1.39936686e-01,\n",
       "        -5.56741953e-01,  -2.70031273e-01,   2.17814848e-01,\n",
       "         1.13867164e-01,  -4.22960408e-02,   1.82815894e-01,\n",
       "         4.48200405e-02], dtype=float32)"
      ]
     },
     "execution_count": 38,
     "metadata": {},
     "output_type": "execute_result"
    }
   ],
   "source": [
    "wv_model.wv['computer']"
   ]
  },
  {
   "cell_type": "markdown",
   "metadata": {},
   "source": [
    "Until now, we have got the word vector of a word. So how to get the representation of a course? A common idea is that we could use the TF-IDF value of a word as weight. If we use $D_i$ to denote the representation of a document i and let n denote the number of words in this document, $T_{i,j}$ and $W_{i,j}$ represents the TF-IDF value and word vector of a word, then the representation of a document is:\n",
    "\n",
    "\\begin{equation}\n",
    "D_i = \\sum_{j=1}^{n} T_{i,j}W_{i,j}\n",
    "\\end{equation}\n",
    "\n",
    "Firstly, we calculate the TF-IDF value of these words."
   ]
  },
  {
   "cell_type": "code",
   "execution_count": 39,
   "metadata": {},
   "outputs": [
    {
     "data": {
      "text/plain": [
       "50386"
      ]
     },
     "execution_count": 39,
     "metadata": {},
     "output_type": "execute_result"
    }
   ],
   "source": [
    "sum([len(document) for document in text_filtered])"
   ]
  },
  {
   "cell_type": "code",
   "execution_count": 40,
   "metadata": {
    "collapsed": true
   },
   "outputs": [],
   "source": [
    "def tfidf_value(corpus, target_word):\n",
    "    count = 0\n",
    "    idf = 0\n",
    "    tfidf = 0\n",
    "    for document in corpus:\n",
    "        count += document.count(target_word)\n",
    "    idf = math.log(len(corpus)/(count+1))\n",
    "    tfidf = idf * count/50386\n",
    "    return tfidf\n",
    "\n",
    "tfidf_values = [[tfidf_value(text_filtered, word) for word in document] for document in text_filtered]"
   ]
  },
  {
   "cell_type": "code",
   "execution_count": null,
   "metadata": {
    "collapsed": true
   },
   "outputs": [],
   "source": []
  }
 ],
 "metadata": {
  "kernelspec": {
   "display_name": "Python 3",
   "language": "python",
   "name": "python3"
  },
  "language_info": {
   "codemirror_mode": {
    "name": "ipython",
    "version": 3
   },
   "file_extension": ".py",
   "mimetype": "text/x-python",
   "name": "python",
   "nbconvert_exporter": "python",
   "pygments_lexer": "ipython3",
   "version": "3.5.2"
  }
 },
 "nbformat": 4,
 "nbformat_minor": 2
}
