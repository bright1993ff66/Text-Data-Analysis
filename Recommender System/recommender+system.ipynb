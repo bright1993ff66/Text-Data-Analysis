{
 "cells": [
  {
   "cell_type": "markdown",
   "metadata": {},
   "source": [
    "# 1. Introduction\n",
    "\n",
    "In this post I am going to talk about how to apply the natural lanugage processing techniques to the recommender system. In many real cases, for instance, if we have finished a course in Coursera, we want to learn some related courses to get a deeper insight into one research field. Hence, it would be better if our online system could automatically recommend some relevant courses for a learner.\n",
    "\n",
    "If we talk more about this coursera case, some people might say we could use labels to tag all the courses previously and if one learner finished one course, based on the label the system would post some relevant courses. However, manually labelling huge number of courses is very time consuming. Moreover, some algorithms such as collaborative filtering and content-based filtering could also help this problem. But these approaches would not work if we had a new course on Coursera and we did not have much feedback(data) from users about this course. **A better approach** to this problem is that we utilize the title and the description of each course and use NLP techniques to work out for instance the similarity of two courses. Based on this similarity, our system could automatically recommende coursers to our users. The following sections will show the main techniques we use.\n",
    "\n",
    "So let's get started!"
   ]
  },
  {
   "cell_type": "markdown",
   "metadata": {},
   "source": [
    "# 2. Construct the NLP Models\n",
    "\n",
    "In this section we show how to create a recommendation system for our Coursera users. Let's first import modules for this task."
   ]
  },
  {
   "cell_type": "markdown",
   "metadata": {},
   "source": [
    "## 2.1 Load the dataset\n",
    "\n",
    "First we import all the modules we need in this case study."
   ]
  },
  {
   "cell_type": "code",
   "execution_count": 96,
   "metadata": {},
   "outputs": [],
   "source": [
    "import nltk\n",
    "import re\n",
    "import string\n",
    "import time\n",
    "import math\n",
    "import numpy as np\n",
    "\n",
    "from nltk.tokenize import word_tokenize\n",
    "from nltk.corpus import stopwords\n",
    "from nltk.stem.lancaster import LancasterStemmer\n",
    "\n",
    "from gensim import corpora, models, similarities, matutils\n",
    "\n",
    "from sklearn.feature_extraction.text import TfidfTransformer\n",
    "from sklearn.feature_extraction.text import CountVectorizer \n",
    "from sklearn.metrics.pairwise import cosine_similarity\n",
    "\n",
    "from matplotlib import pyplot as plt"
   ]
  },
  {
   "cell_type": "markdown",
   "metadata": {},
   "source": [
    "Then we load the data. The data can be found in here: [Coursera corpus](https://github.com/bright1993ff66/Text-Data-Analysis/blob/master/Recommender%20System/coursera_corpus)"
   ]
  },
  {
   "cell_type": "code",
   "execution_count": 2,
   "metadata": {},
   "outputs": [
    {
     "data": {
      "text/plain": [
       "['Writing II: Rhetorical Composing\\tRhetorical Composing engages you in a series of interactive reading, research, and composing activities along with assignments designed to help you become more effective consumers and producers of alphabetic, visual and multimodal texts.  Join us to become more effective writers... and better citizens.\\tRhetorical Composing is a course where writers exchange words, ideas,     talents, and support. You will be introduced to a variety of rhetorical     concepts—that is, ideas and techniques to inform and persuade audiences—that     will help you become a more effective consumer and producer of written,     visual, and multimodal texts. The class includes short videos, demonstrations,     and activities. We envision Rhetorical Composing as a learning community that includes both those enrolled in this course and the instructors. We bring our expertise in writing, rhetoric and course design, and we have designed the assignments and course infrastructure to help you share your experiences as writers, students, and professionals with each other and with us. These collaborations are facilitated through WEx, The Writers Exchange, a place where you will exchange your work and feedback',\n",
       " 'Genetics and Society: A Course for Educators\\tHow have advances in genetics affected society? What do we need to know to make ethical decisions about genetic technologies? This course includes the study of cloning, genetic enhancement, and ownership of genetic information. Course participants will acquire the tools to explore the ethics of modern genetics and learn how to integrate these issues into their classrooms.\\tThe AMNH course Genetics and Society: A Course for Educators explores the social, legal and ethical issues of modern-day genetics. Informed by the recently released Next Generation Science Standards, the course provides an overview of recent genetic discoveries and molecular lab techniques. Participants will acquire an understanding of the science and technology behind breakthroughs such as therapeutic cloning and the sequencing of the human genome. You will also have the opportunity to discuss and debate issues surrounding hot-button topics in genetics: If it is ethical to clone your dog, will humans be next? Should we care if our food is genetically modified? What are the pros and cons of gene therapy?&nbsp;Course participants will bring their understanding of modern genetics and associated ethical issues - along with content resources, discussion questions, and assignments - into their own teaching.&nbsp;']"
      ]
     },
     "execution_count": 2,
     "metadata": {},
     "output_type": "execute_result"
    }
   ],
   "source": [
    "file = open('F:/Data Analysis/github/Text-Data-Analysis/Recommender System/coursera_corpus', 'r', encoding = 'UTF-8')\n",
    "courses = [line.strip() for line in file]\n",
    "courses[:2]"
   ]
  },
  {
   "cell_type": "markdown",
   "metadata": {},
   "source": [
    "From the output, we see that the names of the courses are seperated by tab. Hence we use the following code to extract the courses' names."
   ]
  },
  {
   "cell_type": "code",
   "execution_count": 3,
   "metadata": {},
   "outputs": [
    {
     "data": {
      "text/plain": [
       "['Writing II: Rhetorical Composing',\n",
       " 'Genetics and Society: A Course for Educators',\n",
       " 'General Game Playing',\n",
       " 'Genes and the Human Condition (From Behavior to Biotechnology)',\n",
       " 'A Brief History of Humankind',\n",
       " 'New Models of Business in Society',\n",
       " 'Analyse Numérique pour Ingénieurs',\n",
       " 'Evolution: A Course for Educators',\n",
       " 'Coding the Matrix: Linear Algebra through Computer Science Applications',\n",
       " 'The Dynamic Earth: A Course for Educators']"
      ]
     },
     "execution_count": 3,
     "metadata": {},
     "output_type": "execute_result"
    }
   ],
   "source": [
    "courses_name = [course.split('\\t')[0] for course in courses]\n",
    "courses_name[:10]"
   ]
  },
  {
   "cell_type": "markdown",
   "metadata": {
    "collapsed": true
   },
   "source": [
    "## 2.2 Preprocess the data\n",
    "\n",
    "Generally, we need to do the following text pre-processing:\n",
    "\n",
    "1. lowercase the words\n",
    "2. eliminate punctuations\n",
    "3. eliminate the stopwords\n",
    "3. stemming"
   ]
  },
  {
   "cell_type": "code",
   "execution_count": 4,
   "metadata": {},
   "outputs": [
    {
     "name": "stdout",
     "output_type": "stream",
     "text": [
      "['writing', 'ii:', 'rhetorical', 'composing', 'rhetorical', 'composing', 'engages', 'you', 'in', 'a', 'series', 'of', 'interactive', 'reading,', 'research,', 'and', 'composing', 'activities', 'along', 'with', 'assignments', 'designed', 'to', 'help', 'you', 'become', 'more', 'effective', 'consumers', 'and', 'producers', 'of', 'alphabetic,', 'visual', 'and', 'multimodal', 'texts.', 'join', 'us', 'to', 'become', 'more', 'effective', 'writers...', 'and', 'better', 'citizens.', 'rhetorical', 'composing', 'is', 'a', 'course', 'where', 'writers', 'exchange', 'words,', 'ideas,', 'talents,', 'and', 'support.', 'you', 'will', 'be', 'introduced', 'to', 'a', 'variety', 'of', 'rhetorical', 'concepts—that', 'is,', 'ideas', 'and', 'techniques', 'to', 'inform', 'and', 'persuade', 'audiences—that', 'will', 'help', 'you', 'become', 'a', 'more', 'effective', 'consumer', 'and', 'producer', 'of', 'written,', 'visual,', 'and', 'multimodal', 'texts.', 'the', 'class', 'includes', 'short', 'videos,', 'demonstrations,', 'and', 'activities.', 'we', 'envision', 'rhetorical', 'composing', 'as', 'a', 'learning', 'community', 'that', 'includes', 'both', 'those', 'enrolled', 'in', 'this', 'course', 'and', 'the', 'instructors.', 'we', 'bring', 'our', 'expertise', 'in', 'writing,', 'rhetoric', 'and', 'course', 'design,', 'and', 'we', 'have', 'designed', 'the', 'assignments', 'and', 'course', 'infrastructure', 'to', 'help', 'you', 'share', 'your', 'experiences', 'as', 'writers,', 'students,', 'and', 'professionals', 'with', 'each', 'other', 'and', 'with', 'us.', 'these', 'collaborations', 'are', 'facilitated', 'through', 'wex,', 'the', 'writers', 'exchange,', 'a', 'place', 'where', 'you', 'will', 'exchange', 'your', 'work', 'and', 'feedback']\t"
     ]
    }
   ],
   "source": [
    "text_lower = [[word for word in document.lower().split()] for document in courses]\n",
    "print(text_lower[0], end = '\\t')"
   ]
  },
  {
   "cell_type": "markdown",
   "metadata": {},
   "source": [
    "From the text above, we see some output such as 'texts.' does not split the word and the punctuation. Hence, it would be better if we could use the **word_tokenize** function in nltk and get a more meaningful result."
   ]
  },
  {
   "cell_type": "code",
   "execution_count": 5,
   "metadata": {},
   "outputs": [
    {
     "name": "stdout",
     "output_type": "stream",
     "text": [
      "['writing', 'ii', ':', 'rhetorical', 'composing', 'rhetorical', 'composing', 'engages', 'you', 'in', 'a', 'series', 'of', 'interactive', 'reading', ',', 'research', ',', 'and', 'composing', 'activities', 'along', 'with', 'assignments', 'designed', 'to', 'help', 'you', 'become', 'more', 'effective', 'consumers', 'and', 'producers', 'of', 'alphabetic', ',', 'visual', 'and', 'multimodal', 'texts', '.', 'join', 'us', 'to', 'become', 'more', 'effective', 'writers', '...', 'and', 'better', 'citizens', '.', 'rhetorical', 'composing', 'is', 'a', 'course', 'where', 'writers', 'exchange', 'words', ',', 'ideas', ',', 'talents', ',', 'and', 'support', '.', 'you', 'will', 'be', 'introduced', 'to', 'a', 'variety', 'of', 'rhetorical', 'concepts—that', 'is', ',', 'ideas', 'and', 'techniques', 'to', 'inform', 'and', 'persuade', 'audiences—that', 'will', 'help', 'you', 'become', 'a', 'more', 'effective', 'consumer', 'and', 'producer', 'of', 'written', ',', 'visual', ',', 'and', 'multimodal', 'texts', '.', 'the', 'class', 'includes', 'short', 'videos', ',', 'demonstrations', ',', 'and', 'activities', '.', 'we', 'envision', 'rhetorical', 'composing', 'as', 'a', 'learning', 'community', 'that', 'includes', 'both', 'those', 'enrolled', 'in', 'this', 'course', 'and', 'the', 'instructors', '.', 'we', 'bring', 'our', 'expertise', 'in', 'writing', ',', 'rhetoric', 'and', 'course', 'design', ',', 'and', 'we', 'have', 'designed', 'the', 'assignments', 'and', 'course', 'infrastructure', 'to', 'help', 'you', 'share', 'your', 'experiences', 'as', 'writers', ',', 'students', ',', 'and', 'professionals', 'with', 'each', 'other', 'and', 'with', 'us', '.', 'these', 'collaborations', 'are', 'facilitated', 'through', 'wex', ',', 'the', 'writers', 'exchange', ',', 'a', 'place', 'where', 'you', 'will', 'exchange', 'your', 'work', 'and', 'feedback']\t"
     ]
    }
   ],
   "source": [
    "text_lower = [[word.lower() for word in word_tokenize(document)] for document in courses]\n",
    "print(text_lower[0], end = '\\t')"
   ]
  },
  {
   "cell_type": "markdown",
   "metadata": {},
   "source": [
    "The words and the punctuations have been splitted. Then we need to do is eliminate the punctuatiaons."
   ]
  },
  {
   "cell_type": "code",
   "execution_count": 6,
   "metadata": {},
   "outputs": [
    {
     "name": "stdout",
     "output_type": "stream",
     "text": [
      "['writing', 'ii', 'rhetorical', 'composing', 'rhetorical', 'composing', 'engages', 'you', 'in', 'a', 'series', 'of', 'interactive', 'reading', 'research', 'and', 'composing', 'activities', 'along', 'with', 'assignments', 'designed', 'to', 'help', 'you', 'become', 'more', 'effective', 'consumers', 'and', 'producers', 'of', 'alphabetic', 'visual', 'and', 'multimodal', 'texts', 'join', 'us', 'to', 'become', 'more', 'effective', 'writers', 'and', 'better', 'citizens', 'rhetorical', 'composing', 'is', 'a', 'course', 'where', 'writers', 'exchange', 'words', 'ideas', 'talents', 'and', 'support', 'you', 'will', 'be', 'introduced', 'to', 'a', 'variety', 'of', 'rhetorical', 'concepts—that', 'is', 'ideas', 'and', 'techniques', 'to', 'inform', 'and', 'persuade', 'audiences—that', 'will', 'help', 'you', 'become', 'a', 'more', 'effective', 'consumer', 'and', 'producer', 'of', 'written', 'visual', 'and', 'multimodal', 'texts', 'the', 'class', 'includes', 'short', 'videos', 'demonstrations', 'and', 'activities', 'we', 'envision', 'rhetorical', 'composing', 'as', 'a', 'learning', 'community', 'that', 'includes', 'both', 'those', 'enrolled', 'in', 'this', 'course', 'and', 'the', 'instructors', 'we', 'bring', 'our', 'expertise', 'in', 'writing', 'rhetoric', 'and', 'course', 'design', 'and', 'we', 'have', 'designed', 'the', 'assignments', 'and', 'course', 'infrastructure', 'to', 'help', 'you', 'share', 'your', 'experiences', 'as', 'writers', 'students', 'and', 'professionals', 'with', 'each', 'other', 'and', 'with', 'us', 'these', 'collaborations', 'are', 'facilitated', 'through', 'wex', 'the', 'writers', 'exchange', 'a', 'place', 'where', 'you', 'will', 'exchange', 'your', 'work', 'and', 'feedback']\t"
     ]
    }
   ],
   "source": [
    "x = re.compile('[%s]' % re.escape(string.punctuation))\n",
    "text_lower_no_punctuation = []\n",
    "\n",
    "for text in text_lower:\n",
    "    new_text = []\n",
    "    for token in text:\n",
    "        new_token = x.sub(u'',token) \n",
    "        if not new_token == u'':\n",
    "            new_text.append(new_token)\n",
    "    text_lower_no_punctuation.append(new_text)\n",
    "    \n",
    "print(text_lower_no_punctuation[0], end = \"\\t\")"
   ]
  },
  {
   "cell_type": "markdown",
   "metadata": {},
   "source": [
    "The punctuations have been removed. After that, we need to remove the unmeaningful stopwords. Fortunately, nltk provides us with a list of stopwords which are helpful in this task."
   ]
  },
  {
   "cell_type": "code",
   "execution_count": 7,
   "metadata": {
    "collapsed": true
   },
   "outputs": [],
   "source": [
    "english_stopwords = stopwords.words('english')"
   ]
  },
  {
   "cell_type": "code",
   "execution_count": 143,
   "metadata": {},
   "outputs": [
    {
     "name": "stdout",
     "output_type": "stream",
     "text": [
      "[['writing', 'ii', 'rhetorical', 'composing', 'rhetorical', 'composing', 'engages', 'series', 'interactive', 'reading', 'research', 'composing', 'activities', 'along', 'assignments', 'designed', 'help', 'become', 'effective', 'consumers', 'producers', 'alphabetic', 'visual', 'multimodal', 'texts', 'join', 'us', 'become', 'effective', 'writers', 'better', 'citizens', 'rhetorical', 'composing', 'course', 'writers', 'exchange', 'words', 'ideas', 'talents', 'support', 'introduced', 'variety', 'rhetorical', 'concepts—that', 'ideas', 'techniques', 'inform', 'persuade', 'audiences—that', 'help', 'become', 'effective', 'consumer', 'producer', 'written', 'visual', 'multimodal', 'texts', 'class', 'includes', 'short', 'videos', 'demonstrations', 'activities', 'envision', 'rhetorical', 'composing', 'learning', 'community', 'includes', 'enrolled', 'course', 'instructors', 'bring', 'expertise', 'writing', 'rhetoric', 'course', 'design', 'designed', 'assignments', 'course', 'infrastructure', 'help', 'share', 'experiences', 'writers', 'students', 'professionals', 'us', 'collaborations', 'facilitated', 'wex', 'writers', 'exchange', 'place', 'exchange', 'work', 'feedback'], ['genetics', 'society', 'course', 'educators', 'advances', 'genetics', 'affected', 'society', 'need', 'know', 'make', 'ethical', 'decisions', 'genetic', 'technologies', 'course', 'includes', 'study', 'cloning', 'genetic', 'enhancement', 'ownership', 'genetic', 'information', 'course', 'participants', 'acquire', 'tools', 'explore', 'ethics', 'modern', 'genetics', 'learn', 'integrate', 'issues', 'classrooms', 'amnh', 'course', 'genetics', 'society', 'course', 'educators', 'explores', 'social', 'legal', 'ethical', 'issues', 'modernday', 'genetics', 'informed', 'recently', 'released', 'next', 'generation', 'science', 'standards', 'course', 'provides', 'overview', 'recent', 'genetic', 'discoveries', 'molecular', 'lab', 'techniques', 'participants', 'acquire', 'understanding', 'science', 'technology', 'behind', 'breakthroughs', 'therapeutic', 'cloning', 'sequencing', 'human', 'genome', 'also', 'opportunity', 'discuss', 'debate', 'issues', 'surrounding', 'hotbutton', 'topics', 'genetics', 'ethical', 'clone', 'dog', 'humans', 'next', 'care', 'food', 'genetically', 'modified', 'pros', 'cons', 'gene', 'therapy', 'nbsp', 'course', 'participants', 'bring', 'understanding', 'modern', 'genetics', 'associated', 'ethical', 'issues', 'along', 'content', 'resources', 'discussion', 'questions', 'assignments', 'teaching', 'nbsp']]\t"
     ]
    }
   ],
   "source": [
    "text_filtered = [[word for word in document if word not in english_stopwords ] for document in text_lower_no_punctuation]\n",
    "print(text_filtered[0:2], end = \"\\t\")"
   ]
  },
  {
   "cell_type": "markdown",
   "metadata": {},
   "source": [
    "At last, we do the stemming for this text. Stemming in NLP means that we treat each word's different variants as the same word. For instance for playing, played, play, we see them as a same word:play. nltk has many useful stemmers. The most well-know ones are Lancaster Stemmer and Porter Stemmer. Here we use Lancaster Stemmer to cope with this Coursera corpus."
   ]
  },
  {
   "cell_type": "code",
   "execution_count": 9,
   "metadata": {},
   "outputs": [
    {
     "name": "stdout",
     "output_type": "stream",
     "text": [
      "['writ', 'ii', 'rhet', 'compos', 'rhet', 'compos', 'eng', 'sery', 'interact', 'read', 'research', 'compos', 'act', 'along', 'assign', 'design', 'help', 'becom', 'effect', 'consum', 'produc', 'alphabet', 'vis', 'multimod', 'text', 'join', 'us', 'becom', 'effect', 'writ', 'bet', 'cit', 'rhet', 'compos', 'cours', 'writ', 'exchang', 'word', 'idea', 'tal', 'support', 'introduc', 'vary', 'rhet', 'concepts—that', 'idea', 'techn', 'inform', 'persuad', 'audiences—that', 'help', 'becom', 'effect', 'consum', 'produc', 'writ', 'vis', 'multimod', 'text', 'class', 'includ', 'short', 'video', 'demonst', 'act', 'envid', 'rhet', 'compos', 'learn', 'commun', 'includ', 'enrol', 'cours', 'instruct', 'bring', 'expert', 'writ', 'rhet', 'cours', 'design', 'design', 'assign', 'cours', 'infrastruct', 'help', 'shar', 'expery', 'writ', 'stud', 'profess', 'us', 'collab', 'facilit', 'wex', 'writ', 'exchang', 'plac', 'exchang', 'work', 'feedback']\t"
     ]
    }
   ],
   "source": [
    "st = LancasterStemmer()\n",
    "text_stemmed = [[st.stem(word) for word in docment] for docment in text_filtered]\n",
    "print(text_stemmed[0], end = \"\\t\")"
   ]
  },
  {
   "cell_type": "markdown",
   "metadata": {},
   "source": [
    "## 2.3 Train the data\n",
    "\n",
    "We have finished the text data preprocessing. Next, we will fead the data to our NLP models. First, let's construct a bag-of-words model."
   ]
  },
  {
   "cell_type": "markdown",
   "metadata": {},
   "source": [
    "### 2.3.1 LSI Model"
   ]
  },
  {
   "cell_type": "code",
   "execution_count": 10,
   "metadata": {
    "collapsed": true
   },
   "outputs": [],
   "source": [
    "dictionary = corpora.Dictionary(text_stemmed)"
   ]
  },
  {
   "cell_type": "markdown",
   "metadata": {},
   "source": [
    "Then we construct the bag-of-words model."
   ]
  },
  {
   "cell_type": "code",
   "execution_count": 11,
   "metadata": {},
   "outputs": [
    {
     "name": "stdout",
     "output_type": "stream",
     "text": [
      "Dictionary(5886 unique tokens: ['netflix', 'selen', '16th', 'pur', 'multipl']...)\n"
     ]
    }
   ],
   "source": [
    "print(dictionary)"
   ]
  },
  {
   "cell_type": "markdown",
   "metadata": {},
   "source": [
    "From the dictionary, we get the id of each unique word. Then we could calculate how many times a word appears in this Coursera corpus."
   ]
  },
  {
   "cell_type": "code",
   "execution_count": 12,
   "metadata": {
    "collapsed": true
   },
   "outputs": [],
   "source": [
    "'''\n",
    "doc2bow converts `document` (a list of words) into the bag-of-words format\n",
    "'''\n",
    "corpus = [dictionary.doc2bow(text) for text in text_stemmed] "
   ]
  },
  {
   "cell_type": "code",
   "execution_count": 13,
   "metadata": {},
   "outputs": [
    {
     "name": "stdout",
     "output_type": "stream",
     "text": [
      "[(0, 1), (1, 3), (2, 1), (3, 2), (4, 1), (5, 1), (6, 2), (7, 3), (8, 1), (9, 6), (10, 1), (11, 1), (12, 1), (13, 1), (14, 1), (15, 1), (16, 2), (17, 7), (18, 1), (19, 3), (20, 1), (21, 1), (22, 2), (23, 4), (24, 1), (25, 1), (26, 1), (27, 2), (28, 2), (29, 1), (30, 2), (31, 1), (32, 1), (33, 1), (34, 1), (35, 1), (36, 1), (37, 1), (38, 1), (39, 2), (40, 5), (41, 1), (42, 2), (43, 1), (44, 1), (45, 1), (46, 1), (47, 1), (48, 1), (49, 1), (50, 1), (51, 1), (52, 1), (53, 1), (54, 2), (55, 1), (56, 1), (57, 1), (58, 3), (59, 1), (60, 1), (61, 3)] "
     ]
    }
   ],
   "source": [
    "print(corpus[0], end = ' ')"
   ]
  },
  {
   "cell_type": "markdown",
   "metadata": {},
   "source": [
    "Then we could construct the TF-IDF model. The value of TF-IDF could be calculated as follows:\n",
    "\n",
    "\\begin{equation}\n",
    "TF-IDF(x) = TF(X) \\times IDF(X)\n",
    "\\end{equation}\n",
    "\n",
    "where $TF(x)$ means the word frequency of a word $x$. $IDF(x)$ represents the importance of a word $X$. We usually use the following formular to calcualte the $IDF(X)$:\n",
    "\n",
    "\\begin{equation}\n",
    "IDF(X) = log\\frac{N+1}{N(x)+1} + 1\n",
    "\\end{equation}\n",
    "\n",
    "where $N$ means the number of documents and $N(x)$ means the number of documents with word $x$. Sometimes, we could not find the term $x$ in all of our documents. Hence, it would be better if we could just add 1 to both of numerator and the denominator.\n",
    "\n",
    "Hence, we could train a TF-IDF model based on our bag-of-words format."
   ]
  },
  {
   "cell_type": "code",
   "execution_count": 14,
   "metadata": {
    "collapsed": true
   },
   "outputs": [],
   "source": [
    "tfidf = models.TfidfModel(corpus)"
   ]
  },
  {
   "cell_type": "markdown",
   "metadata": {},
   "source": [
    "Then we could calculate the TF-IDF value for each word in this corpus."
   ]
  },
  {
   "cell_type": "code",
   "execution_count": 15,
   "metadata": {
    "collapsed": true
   },
   "outputs": [],
   "source": [
    "corpus_tfidf = tfidf[corpus]"
   ]
  },
  {
   "cell_type": "code",
   "execution_count": 16,
   "metadata": {},
   "outputs": [
    {
     "name": "stdout",
     "output_type": "stream",
     "text": [
      "[(0, 0.06942854357795676), (1, 0.1092155063059081), (2, 0.03640516876863603), (3, 0.12037571819073922), (4, 0.06942854357795676), (5, 0.07758199632369395), (6, 0.0610785615827926), (7, 0.0880889612390743), (8, 0.046249439563031396), (9, 0.5838322958557992), (10, 0.02451348611154219), (11, 0.05549012404561855), (12, 0.11939725492070859), (13, 0.0354549657646678), (14, 0.04848606348417998), (15, 0.11939725492070859), (16, 0.07911819315429061), (17, 0.3096581070133701), (18, 0.04848606348417998), (19, 0.08740729674093296), (20, 0.030783027881683914), (21, 0.05100295519983211), (22, 0.04241906866790852), (23, 0.009926203812253558), (24, 0.049705157259017516), (25, 0.08336696311029498), (26, 0.07758199632369395), (27, 0.022058022218786385), (28, 0.1093384781995657), (29, 0.03608341968474428), (30, 0.13265748941711367), (31, 0.11939725492070859), (32, 0.03484555886352626), (33, 0.11939725492070859), (34, 0.057239826144367865), (35, 0.06942854357795676), (36, 0.05817529196281967), (37, 0.06494137473217033), (38, 0.043763700276130434), (39, 0.1093384781995657), (40, 0.38790998161846973), (41, 0.11939725492070859), (42, 0.08227414712216302), (43, 0.06364357679135574), (44, 0.10545883538837036), (45, 0.04240753106432324), (46, 0.05549012404561855), (47, 0.011399692365667558), (48, 0.01709134627606883), (49, 0.01837260049835496), (50, 0.0730948274779075), (51, 0.049705157259017516), (52, 0.05100295519983211), (53, 0.04848606348417998), (54, 0.23879450984141717), (55, 0.033679499551263856), (56, 0.031029765808407047), (57, 0.06942854357795676), (58, 0.22564053109367346), (59, 0.04033261073844281), (60, 0.06494137473217033), (61, 0.12990421983608894)] "
     ]
    }
   ],
   "source": [
    "docs = [doc for doc in corpus_tfidf]\n",
    "print(docs[0], end =' ')"
   ]
  },
  {
   "cell_type": "markdown",
   "metadata": {},
   "source": [
    "Then we use **Latent Semantic Index(LSI)** or **Latent Semantic Analysis(LSA)** model to train our data. The KSI model assumes that **words that are close in meaning will occur in similar pieces**. The LSI model is based on singular value decomposition(SVD). If we use SVD and implement PCA with first $k$ features, for a $m \\times n$ matrix $A$, we could get：\n",
    "\n",
    "\\begin{equation}\n",
    "A_{m \\times n} \\approx U_{m \\times k} \\Sigma_{k \\times k} V_{k \\times n}\n",
    "\\end{equation}\n",
    "\n",
    "We always use $A_{m \\times n}$ to represent the feature value of mth word in the nth document. In this case, we use TF-IDF value to be this feature value. Then for the terms $ U_{m \\times k}, \\Sigma_{k \\times k}$ and $V_{k \\times n} $:\n",
    "\n",
    "1. $U_{m \\times k}$ represents the correlation between mth word and kth topic\n",
    "2. $\\Sigma_{k \\times k}$ represents the correlatiion between the topics\n",
    "3. $V_{k \\times n} $ represents the correlation between the kth topic and the nth document.\n",
    "\n",
    "So now an important question is: how to choose an appropriate k? This number is a hyperparameter to be carefully selected. In general, we could work out an optimum k by selecting the N largest singular values of the TF-IDF corpus matrix. In gensim, we could use a function called **corpus2dense** to calculate the singular values."
   ]
  },
  {
   "cell_type": "code",
   "execution_count": 17,
   "metadata": {
    "collapsed": true
   },
   "outputs": [],
   "source": [
    "numpy_matrix = matutils.corpus2dense(corpus, num_terms = 31730) # num_terms means number of words in text_stemmed\n",
    "s = np.linalg.svd(numpy_matrix, full_matrices=False, compute_uv=False)"
   ]
  },
  {
   "cell_type": "code",
   "execution_count": 18,
   "metadata": {},
   "outputs": [
    {
     "data": {
      "image/png": "[encoded data removed]",
      "text/plain": [
       "<matplotlib.figure.Figure at 0x159e6d2f160>"
      ]
     },
     "metadata": {},
     "output_type": "display_data"
    }
   ],
   "source": [
    "plt.figure(figsize=(10,5))\n",
    "plt.hist(s, bins=100)\n",
    "plt.xlabel('Singular values', fontsize=12)\n",
    "plt.show()"
   ]
  },
  {
   "cell_type": "markdown",
   "metadata": {
    "collapsed": true
   },
   "source": [
    "From the plot above, we see that most singular values are between 0 and 30. Then we could try to draw the following plot and see if we could work out the number of topics by seeing the proportion of sum of first k diagonal values of s over the sum of all the diagonal values of s."
   ]
  },
  {
   "cell_type": "code",
   "execution_count": 19,
   "metadata": {},
   "outputs": [
    {
     "data": {
      "image/png": "[encoded data removed]",
      "text/plain": [
       "<matplotlib.figure.Figure at 0x159e4f0aeb8>"
      ]
     },
     "metadata": {},
     "output_type": "display_data"
    }
   ],
   "source": [
    "values = []\n",
    "\n",
    "for i in range(len(courses_name)+1):\n",
    "    values.append(sum(list(s)[:i])/sum(list(s)))\n",
    "values.pop(0)\n",
    "    \n",
    "plt.plot(list(range(len(courses_name))), values)\n",
    "plt.xlabel('Course Number')\n",
    "plt.ylabel('Proportion')\n",
    "plt.show()"
   ]
  },
  {
   "cell_type": "markdown",
   "metadata": {},
   "source": [
    "From the firgure above, we see the the proportion grows steadily and it seems hard to find a very appropriate number of topics. But let's try k = 10 first."
   ]
  },
  {
   "cell_type": "markdown",
   "metadata": {},
   "source": [
    "For the function models.LsiModel, we use the TF-IDF values as the inputs and we assume that there are 10 different topics for this Coursera dataset. Then we could construct the following LSI model:"
   ]
  },
  {
   "cell_type": "code",
   "execution_count": 20,
   "metadata": {
    "collapsed": true
   },
   "outputs": [],
   "source": [
    "lsi = models.LsiModel(corpus = corpus_tfidf, id2word=dictionary, num_topics=40)"
   ]
  },
  {
   "cell_type": "markdown",
   "metadata": {},
   "source": [
    "We could see each topic by using the print_topic function. From the results we could see some negative values, which is the main reason why the result given by LSA is hard to interprete."
   ]
  },
  {
   "cell_type": "code",
   "execution_count": 21,
   "metadata": {},
   "outputs": [
    {
     "data": {
      "text/plain": [
       "[(0,\n",
       "  '0.254*\"teach\" + 0.151*\"nbsp\" + 0.136*\"program\" + 0.121*\"learn\" + 0.118*\"mus\" + 0.105*\"heal\" + 0.101*\"comput\" + 0.099*\"stud\" + 0.096*\"network\" + 0.093*\"design\"'),\n",
       " (1,\n",
       "  '0.592*\"de\" + 0.381*\"la\" + 0.215*\"en\" + 0.174*\"à\" + 0.162*\"cour\" + 0.148*\"los\" + 0.144*\"que\" + 0.141*\"les\" + 0.136*\"un\" + 0.111*\"curso\"'),\n",
       " (2,\n",
       "  '0.627*\"teach\" + 0.200*\"portfolio\" + 0.185*\"assist\" + -0.161*\"mus\" + 0.128*\"improv\" + 0.122*\"profess\" + 0.115*\"learn\" + 0.114*\"undertak\" + 0.113*\"strongly\" + -0.112*\"network\"'),\n",
       " (3,\n",
       "  '0.807*\"mus\" + 0.170*\"sound\" + -0.169*\"heal\" + 0.095*\"art\" + 0.094*\"audio\" + 0.090*\"digit\" + -0.083*\"econom\" + -0.079*\"glob\" + 0.073*\"composit\" + 0.069*\"program\"'),\n",
       " (4,\n",
       "  '-0.371*\"heal\" + 0.288*\"program\" + 0.214*\"comput\" + -0.212*\"mus\" + 0.183*\"dat\" + 0.183*\"langu\" + 0.180*\"algorithm\" + -0.167*\"glob\" + 0.142*\"network\" + -0.124*\"food\"'),\n",
       " (5,\n",
       "  '-0.498*\"heal\" + -0.243*\"program\" + -0.172*\"nutrit\" + 0.161*\"busy\" + 0.149*\"network\" + 0.146*\"gam\" + 0.131*\"econom\" + -0.128*\"diseas\" + -0.125*\"langu\" + -0.117*\"chem\"'),\n",
       " (6,\n",
       "  '-0.495*\"chem\" + -0.312*\"org\" + -0.295*\"react\" + 0.212*\"heal\" + -0.161*\"compound\" + -0.139*\"biolog\" + -0.136*\"structure\" + 0.131*\"network\" + 0.131*\"program\" + 0.123*\"gam\"'),\n",
       " (7,\n",
       "  '0.569*\"gam\" + -0.370*\"network\" + 0.179*\"program\" + 0.173*\"busy\" + -0.118*\"evolv\" + -0.107*\"mus\" + 0.099*\"art\" + 0.094*\"chem\" + 0.094*\"org\" + -0.092*\"dat\"'),\n",
       " (8,\n",
       "  '0.265*\"network\" + -0.256*\"evolv\" + 0.176*\"busy\" + -0.172*\"ear\" + -0.172*\"genet\" + -0.172*\"hist\" + -0.155*\"gam\" + 0.142*\"fin\" + 0.141*\"econom\" + -0.139*\"genom\"'),\n",
       " (9,\n",
       "  '-0.456*\"network\" + -0.452*\"gam\" + 0.175*\"dat\" + 0.170*\"fin\" + 0.145*\"stat\" + -0.139*\"heal\" + 0.137*\"busy\" + -0.113*\"internet\" + -0.113*\"chem\" + -0.113*\"soc\"'),\n",
       " (10,\n",
       "  '0.323*\"program\" + -0.199*\"dat\" + 0.167*\"technolog\" + 0.164*\"network\" + -0.156*\"gam\" + 0.144*\"chin\" + -0.142*\"los\" + 0.134*\"c\" + 0.130*\"langu\" + 0.130*\"cour\"'),\n",
       " (11,\n",
       "  '0.287*\"econom\" + 0.201*\"gam\" + -0.185*\"innov\" + 0.154*\"market\" + -0.152*\"technolog\" + 0.141*\"food\" + -0.138*\"writ\" + -0.135*\"healthc\" + 0.131*\"energy\" + 0.117*\"fin\"'),\n",
       " (12,\n",
       "  '-0.251*\"chin\" + -0.228*\"technolog\" + -0.213*\"algorithm\" + -0.206*\"dat\" + -0.205*\"chines\" + -0.165*\"gam\" + 0.156*\"writ\" + -0.151*\"innov\" + 0.131*\"psycholog\" + -0.118*\"part\"'),\n",
       " (13,\n",
       "  '0.185*\"energy\" + 0.179*\"chin\" + 0.162*\"technolog\" + -0.161*\"busy\" + -0.147*\"grow\" + -0.141*\"genet\" + 0.138*\"chines\" + -0.137*\"brain\" + 0.136*\"los\" + -0.135*\"drug\"'),\n",
       " (14,\n",
       "  '0.325*\"dat\" + -0.206*\"genet\" + -0.170*\"genom\" + 0.167*\"stat\" + -0.136*\"fin\" + -0.124*\"comput\" + -0.123*\"funct\" + -0.115*\"evolv\" + 0.115*\"philosoph\" + 0.108*\"soc\"'),\n",
       " (15,\n",
       "  '0.181*\"busy\" + 0.180*\"ear\" + 0.176*\"evolv\" + 0.168*\"network\" + -0.163*\"im\" + 0.154*\"langu\" + 0.140*\"model\" + -0.132*\"chin\" + -0.126*\"psycholog\" + 0.126*\"planet\"'),\n",
       " (16,\n",
       "  '0.335*\"im\" + -0.207*\"langu\" + -0.161*\"program\" + -0.151*\"psycholog\" + 0.148*\"video\" + -0.135*\"r\" + -0.128*\"chin\" + -0.126*\"funct\" + -0.118*\"stat\" + 0.116*\"food\"'),\n",
       " (17,\n",
       "  '0.372*\"energy\" + -0.179*\"philosoph\" + -0.177*\"im\" + 0.167*\"food\" + 0.135*\"gam\" + 0.126*\"nutrit\" + -0.123*\"hist\" + -0.121*\"heal\" + -0.118*\"fin\" + 0.116*\"diet\"'),\n",
       " (18,\n",
       "  '-0.224*\"algorithm\" + -0.215*\"food\" + 0.200*\"energy\" + -0.183*\"nutrit\" + 0.158*\"clin\" + -0.152*\"diet\" + 0.151*\"engin\" + 0.149*\"sec\" + 0.141*\"healthc\" + 0.128*\"phys\"'),\n",
       " (19,\n",
       "  '-0.269*\"model\" + 0.150*\"writ\" + -0.145*\"chin\" + -0.145*\"technolog\" + -0.144*\"fin\" + -0.135*\"nutrit\" + 0.135*\"funct\" + 0.125*\"econom\" + 0.124*\"algorithm\" + -0.124*\"psycholog\"'),\n",
       " (20,\n",
       "  '-0.200*\"algorithm\" + 0.179*\"genet\" + 0.162*\"art\" + 0.160*\"r\" + 0.136*\"dat\" + 0.135*\"stat\" + 0.133*\"evolv\" + -0.126*\"busy\" + -0.121*\"linear\" + 0.120*\"fin\"'),\n",
       " (21,\n",
       "  '-0.251*\"algorithm\" + 0.239*\"im\" + 0.147*\"funct\" + 0.139*\"energy\" + 0.129*\"busy\" + 0.114*\"stat\" + -0.108*\"plan\" + 0.107*\"r\" + 0.104*\"art\" + -0.103*\"machin\"'),\n",
       " (22,\n",
       "  '-0.216*\"model\" + -0.216*\"clim\" + 0.180*\"nutrit\" + -0.155*\"genom\" + 0.137*\"sec\" + 0.135*\"univers\" + -0.130*\"chang\" + 0.129*\"optim\" + 0.129*\"linear\" + -0.129*\"biolog\"'),\n",
       " (23,\n",
       "  '0.215*\"calcul\" + 0.192*\"linear\" + 0.168*\"algebr\" + 0.150*\"funct\" + -0.149*\"psycholog\" + -0.148*\"algorithm\" + 0.138*\"classroom\" + -0.134*\"energy\" + -0.126*\"clim\" + 0.125*\"stud\"'),\n",
       " (24,\n",
       "  '0.276*\"drug\" + -0.227*\"philosoph\" + -0.214*\"sec\" + -0.171*\"cryptograph\" + -0.150*\"genet\" + -0.146*\"genom\" + 0.145*\"im\" + 0.135*\"market\" + 0.128*\"machin\" + 0.126*\"langu\"'),\n",
       " (25,\n",
       "  '0.266*\"writ\" + -0.167*\"clim\" + 0.164*\"drug\" + -0.160*\"linear\" + -0.146*\"art\" + -0.144*\"funct\" + -0.133*\"glob\" + 0.132*\"nutrit\" + -0.116*\"plan\" + 0.115*\"philosoph\"'),\n",
       " (26,\n",
       "  '-0.232*\"optim\" + -0.218*\"clim\" + -0.189*\"engin\" + -0.179*\"drug\" + -0.178*\"chang\" + -0.156*\"linear\" + -0.148*\"program\" + 0.148*\"energy\" + 0.143*\"machin\" + -0.141*\"problem\"'),\n",
       " (27,\n",
       "  '-0.249*\"philosoph\" + 0.222*\"psycholog\" + 0.217*\"writ\" + -0.148*\"mathem\" + -0.148*\"model\" + -0.128*\"langu\" + 0.127*\"behavy\" + -0.118*\"drug\" + -0.110*\"machin\" + 0.104*\"ear\"'),\n",
       " (28,\n",
       "  '0.232*\"healthc\" + -0.228*\"drug\" + 0.203*\"innov\" + -0.192*\"grow\" + 0.181*\"psycholog\" + 0.147*\"clin\" + -0.144*\"glob\" + 0.142*\"genet\" + 0.132*\"energy\" + -0.127*\"cryptograph\"'),\n",
       " (29,\n",
       "  '0.254*\"im\" + -0.201*\"art\" + 0.190*\"psycholog\" + 0.180*\"grow\" + -0.161*\"plan\" + -0.130*\"fin\" + 0.123*\"video\" + -0.118*\"architect\" + -0.113*\"funct\" + -0.111*\"chang\"'),\n",
       " (30,\n",
       "  '-0.287*\"energy\" + -0.200*\"drug\" + -0.195*\"optim\" + 0.178*\"food\" + 0.164*\"architect\" + 0.151*\"phys\" + 0.126*\"clin\" + -0.124*\"linear\" + 0.123*\"healthc\" + -0.117*\"nuclear\"'),\n",
       " (31,\n",
       "  '0.313*\"clim\" + -0.183*\"architect\" + 0.163*\"model\" + 0.156*\"writ\" + 0.152*\"machin\" + 0.149*\"chang\" + 0.141*\"cryptograph\" + -0.140*\"heal\" + 0.137*\"sec\" + -0.129*\"engin\"'),\n",
       " (32,\n",
       "  '0.182*\"philosoph\" + 0.176*\"clim\" + 0.159*\"inform\" + -0.156*\"machin\" + 0.154*\"glob\" + 0.152*\"digit\" + -0.144*\"art\" + -0.133*\"hist\" + -0.121*\"psycholog\" + 0.118*\"onlin\"'),\n",
       " (33,\n",
       "  '-0.249*\"philosoph\" + 0.207*\"phys\" + 0.190*\"glob\" + -0.168*\"healthc\" + -0.134*\"comput\" + 0.125*\"engin\" + -0.124*\"clim\" + 0.123*\"sport\" + 0.123*\"clin\" + -0.120*\"architect\"'),\n",
       " (34,\n",
       "  '0.165*\"comput\" + 0.150*\"brain\" + -0.147*\"digit\" + -0.142*\"cryptograph\" + -0.130*\"genom\" + -0.127*\"onlin\" + 0.124*\"fin\" + -0.121*\"system\" + -0.115*\"plan\" + 0.114*\"energy\"'),\n",
       " (35,\n",
       "  '-0.287*\"architect\" + 0.260*\"art\" + 0.169*\"philosoph\" + -0.157*\"rom\" + 0.147*\"law\" + -0.142*\"comput\" + 0.117*\"log\" + 0.117*\"algorithm\" + -0.102*\"ant\" + -0.092*\"ita\"'),\n",
       " (36,\n",
       "  '0.183*\"cryptograph\" + -0.149*\"plan\" + -0.148*\"research\" + 0.143*\"reason\" + -0.130*\"philosoph\" + 0.122*\"algorithm\" + 0.120*\"sport\" + -0.120*\"intern\" + 0.114*\"digit\" + 0.107*\"sign\"'),\n",
       " (37,\n",
       "  '-0.185*\"clim\" + -0.162*\"im\" + -0.140*\"law\" + 0.139*\"model\" + -0.134*\"r\" + 0.130*\"biolog\" + 0.128*\"sport\" + -0.126*\"phys\" + 0.125*\"onlin\" + -0.116*\"log\"'),\n",
       " (38,\n",
       "  '0.234*\"architect\" + 0.204*\"law\" + -0.164*\"cryptograph\" + 0.154*\"design\" + 0.142*\"optim\" + -0.139*\"healthc\" + -0.129*\"philosoph\" + 0.121*\"onlin\" + 0.115*\"virt\" + 0.106*\"nutrit\"'),\n",
       " (39,\n",
       "  '-0.195*\"sport\" + 0.157*\"reason\" + 0.154*\"clin\" + 0.153*\"ear\" + 0.145*\"architect\" + 0.136*\"argu\" + 0.135*\"art\" + -0.134*\"hist\" + -0.129*\"nbsp\" + -0.118*\"drug\"')]"
      ]
     },
     "execution_count": 21,
     "metadata": {},
     "output_type": "execute_result"
    }
   ],
   "source": [
    "lsi.print_topics(-1)"
   ]
  },
  {
   "cell_type": "markdown",
   "metadata": {},
   "source": [
    "With this LSI model, we could project our corpus to a 10-dimensional space."
   ]
  },
  {
   "cell_type": "code",
   "execution_count": 22,
   "metadata": {
    "collapsed": true
   },
   "outputs": [],
   "source": [
    "corpus_lsi = lsi[corpus_tfidf]"
   ]
  },
  {
   "cell_type": "markdown",
   "metadata": {},
   "source": [
    "Then we could compute the similarity between different documents."
   ]
  },
  {
   "cell_type": "code",
   "execution_count": 23,
   "metadata": {
    "collapsed": true
   },
   "outputs": [],
   "source": [
    "index = similarities.MatrixSimilarity(lsi[corpus])"
   ]
  },
  {
   "cell_type": "markdown",
   "metadata": {},
   "source": [
    "For instance, if a user has finished Andrew Ng's course Machine learning, he wants to study other courses which also contains machine learning. Hence, firstly we construct the bag-of-words framework for this course."
   ]
  },
  {
   "cell_type": "code",
   "execution_count": 24,
   "metadata": {
    "collapsed": true
   },
   "outputs": [],
   "source": [
    "ml_course = text_stemmed[210]\n",
    "ml_bow = dictionary.doc2bow(ml_course)"
   ]
  },
  {
   "cell_type": "code",
   "execution_count": 25,
   "metadata": {},
   "outputs": [
    {
     "name": "stdout",
     "output_type": "stream",
     "text": [
      "[(0, 8.5485580922000093), (1, -0.66901400411591572), (2, 0.96939856954657111), (3, 0.14419137883740374), (4, 4.4842786142391384), (5, -0.63871710787005653), (6, 1.8544108702343389), (7, -1.5578539808775924), (8, 0.21876436909257765), (9, -0.83653882629640308), (10, -0.59051008891912238), (11, -2.2101254542907682), (12, -1.1131798763460929), (13, 0.68349555633275483), (14, -1.7199638263129413), (15, -1.2323066680492241), (16, 2.5801510876941269), (17, -0.43949019249001986), (18, -1.7205669086406716), (19, -2.3502772972295025), (20, -3.3982464203883564), (21, -3.5127768293370822), (22, 0.33597584172806921), (23, -2.2875130290533563), (24, 3.0535972663112352), (25, 0.0046456355149368384), (26, 3.9759257135703154), (27, -2.2890324097131587), (28, 1.8169077159331271), (29, -1.3698405721758762), (30, -1.7738199171459679), (31, 4.160351854562081), (32, -3.8451242302972464), (33, -1.3207466153036231), (34, -0.44917017085171418), (35, 0.20336013741910067), (36, -1.3854738279576713), (37, -1.3363741936779465), (38, -1.5870738284661692), (39, 0.40721536067650038)]\n"
     ]
    }
   ],
   "source": [
    "ml_lsi = lsi[ml_bow]\n",
    "print(ml_lsi)"
   ]
  },
  {
   "cell_type": "code",
   "execution_count": 26,
   "metadata": {
    "collapsed": true
   },
   "outputs": [],
   "source": [
    "sims = index[ml_lsi]"
   ]
  },
  {
   "cell_type": "code",
   "execution_count": 27,
   "metadata": {},
   "outputs": [
    {
     "name": "stdout",
     "output_type": "stream",
     "text": [
      "[(210, 1.0), (174, 0.94567072), (203, 0.83867598), (238, 0.77372283), (208, 0.64551115), (142, 0.59658444), (144, 0.58162582), (262, 0.5783186), (70, 0.57714248), (185, 0.57570082)]\n"
     ]
    }
   ],
   "source": [
    "sort_sims = sorted(enumerate(sims), key=lambda item: -item[1])\n",
    "print(sort_sims[:10])"
   ]
  },
  {
   "cell_type": "markdown",
   "metadata": {},
   "source": [
    "Hence we finally get the courses which are most close to Andrew's course 'machine learning' are:"
   ]
  },
  {
   "cell_type": "code",
   "execution_count": 28,
   "metadata": {},
   "outputs": [
    {
     "name": "stdout",
     "output_type": "stream",
     "text": [
      "['Machine Learning', 'Machine Learning', 'Neural Networks for Machine Learning', 'Probabilistic Graphical Models', 'Engaging Students through Cooperative Learning', 'Control of Mobile Robots', 'Natural Language Processing', 'The Future of Humankind', 'Artificial Intelligence Planning', 'Introduction to Databases']\n"
     ]
    }
   ],
   "source": [
    "course_id = [course[0] for course in sort_sims[:10]]\n",
    "top_10_courses = [courses_name[i] for i in course_id]\n",
    "print(top_10_courses)"
   ]
  },
  {
   "cell_type": "markdown",
   "metadata": {
    "collapsed": true
   },
   "source": [
    "The results look quite reasonable. But the LSI model does have the following **issues**:\n",
    "\n",
    "1. This model is computationally expensive, especially when we are analyzing the large corpus(The speed could be improved by implementing the NMF decomposition).\n",
    "2. It is hard to select the appropriate $k$.\n",
    "3. The result is hard to interpret.\n",
    "\n",
    "4. The LSI model does not take into account **the prior information**."
   ]
  },
  {
   "cell_type": "markdown",
   "metadata": {
    "collapsed": true
   },
   "source": [
    "### 2.3.2 LDA Model\n",
    "\n",
    "In this section, we choose another model called **Latent Dirichlet allocation(LDA)** to do the recommendation.\n",
    "\n",
    "For this Coursera corpus, we could also run a LDA model using the following code:"
   ]
  },
  {
   "cell_type": "code",
   "execution_count": 29,
   "metadata": {
    "collapsed": true
   },
   "outputs": [],
   "source": [
    "lda = models.LdaModel(corpus_tfidf, id2word = dictionary, num_topics = 10)"
   ]
  },
  {
   "cell_type": "markdown",
   "metadata": {},
   "source": [
    "Unlike LSA, the topics coming from LDA are easier to interpret."
   ]
  },
  {
   "cell_type": "code",
   "execution_count": 30,
   "metadata": {},
   "outputs": [
    {
     "data": {
      "text/plain": [
       "[(0,\n",
       "  '0.002*\"teach\" + 0.001*\"crit\" + 0.001*\"epigenet\" + 0.001*\"glob\" + 0.001*\"writ\" + 0.001*\"erupt\" + 0.001*\"myst\" + 0.001*\"rel\" + 0.001*\"latin\" + 0.001*\"think\"'),\n",
       " (1,\n",
       "  '0.001*\"design\" + 0.001*\"langu\" + 0.001*\"mus\" + 0.001*\"stat\" + 0.001*\"model\" + 0.001*\"mathem\" + 0.001*\"nbsp\" + 0.001*\"diabet\" + 0.001*\"rock\" + 0.001*\"analys\"'),\n",
       " (2,\n",
       "  '0.002*\"de\" + 0.002*\"teach\" + 0.002*\"clin\" + 0.001*\"innov\" + 0.001*\"los\" + 0.001*\"plan\" + 0.001*\"la\" + 0.001*\"org\" + 0.001*\"program\" + 0.001*\"gam\"'),\n",
       " (3,\n",
       "  '0.003*\"mus\" + 0.002*\"teach\" + 0.002*\"network\" + 0.002*\"’\" + 0.001*\"cre\" + 0.001*\"comput\" + 0.001*\"nbsp\" + 0.001*\"onlin\" + 0.001*\"architect\" + 0.001*\"algorithm\"'),\n",
       " (4,\n",
       "  '0.002*\"nbsp\" + 0.002*\"de\" + 0.002*\"engin\" + 0.001*\"glob\" + 0.001*\"mus\" + 0.001*\"inform\" + 0.001*\"optim\" + 0.001*\"technolog\" + 0.001*\"hist\" + 0.001*\"econom\"'),\n",
       " (5,\n",
       "  '0.003*\"heal\" + 0.002*\"food\" + 0.002*\"dat\" + 0.002*\"nbsp\" + 0.002*\"econom\" + 0.002*\"mus\" + 0.002*\"system\" + 0.002*\"car\" + 0.001*\"im\" + 0.001*\"glob\"'),\n",
       " (6,\n",
       "  '0.002*\"teach\" + 0.002*\"sport\" + 0.002*\"network\" + 0.002*\"nbsp\" + 0.001*\"entrepr\" + 0.001*\"learn\" + 0.001*\"model\" + 0.001*\"innov\" + 0.001*\"comput\" + 0.001*\"coop\"'),\n",
       " (7,\n",
       "  '0.002*\"heal\" + 0.002*\"program\" + 0.002*\"law\" + 0.001*\"chem\" + 0.001*\"langu\" + 0.001*\"fin\" + 0.001*\"teach\" + 0.001*\"design\" + 0.001*\"ment\" + 0.001*\"stat\"'),\n",
       " (8,\n",
       "  '0.002*\"mus\" + 0.002*\"comput\" + 0.001*\"evolv\" + 0.001*\"sound\" + 0.001*\"chines\" + 0.001*\"nbsp\" + 0.001*\"nuclear\" + 0.001*\"grow\" + 0.001*\"tink\" + 0.001*\"technolog\"'),\n",
       " (9,\n",
       "  '0.002*\"chem\" + 0.002*\"phys\" + 0.002*\"funct\" + 0.002*\"react\" + 0.002*\"network\" + 0.001*\"teach\" + 0.001*\"org\" + 0.001*\"de\" + 0.001*\"internet\" + 0.001*\"commun\"')]"
      ]
     },
     "execution_count": 30,
     "metadata": {},
     "output_type": "execute_result"
    }
   ],
   "source": [
    "lda.print_topics(-1)"
   ]
  },
  {
   "cell_type": "markdown",
   "metadata": {},
   "source": [
    "As usual, a trained model could be used to transform documents into LDA topic distributions."
   ]
  },
  {
   "cell_type": "code",
   "execution_count": 31,
   "metadata": {
    "collapsed": true
   },
   "outputs": [],
   "source": [
    "corpus_lda = lda[corpus_tfidf]"
   ]
  },
  {
   "cell_type": "code",
   "execution_count": 32,
   "metadata": {
    "collapsed": true
   },
   "outputs": [],
   "source": [
    "index = similarities.MatrixSimilarity(lda[corpus])"
   ]
  },
  {
   "cell_type": "markdown",
   "metadata": {},
   "source": [
    "Then let's try the Andrew's machine learning course again and see the top 10 courses recommended by our LDA model."
   ]
  },
  {
   "cell_type": "code",
   "execution_count": 33,
   "metadata": {},
   "outputs": [
    {
     "name": "stdout",
     "output_type": "stream",
     "text": [
      "[(3, 0.091668793038032242), (5, 0.74729241311968397), (6, 0.11930352206613851), (8, 0.038305853780477524)]\n"
     ]
    }
   ],
   "source": [
    "ml_lda = lda[ml_bow]\n",
    "print(ml_lda)"
   ]
  },
  {
   "cell_type": "code",
   "execution_count": 34,
   "metadata": {
    "collapsed": true
   },
   "outputs": [],
   "source": [
    "sims = index[ml_lda]"
   ]
  },
  {
   "cell_type": "code",
   "execution_count": 35,
   "metadata": {},
   "outputs": [
    {
     "name": "stdout",
     "output_type": "stream",
     "text": [
      "[(210, 1.0), (2, 0.98687202), (223, 0.98411947), (182, 0.98392034), (39, 0.98149019), (350, 0.97991532), (35, 0.97909325), (61, 0.97909325), (77, 0.97909325), (114, 0.97909325)]\n"
     ]
    }
   ],
   "source": [
    "sort_sims = sorted(enumerate(sims), key=lambda item: -item[1])\n",
    "print(sort_sims[:10])"
   ]
  },
  {
   "cell_type": "code",
   "execution_count": 36,
   "metadata": {},
   "outputs": [
    {
     "name": "stdout",
     "output_type": "stream",
     "text": [
      "['Machine Learning', 'General Game Playing', 'Introduction to Art: Concepts & Techniques', 'Introduction to Pharmacy', 'Health Policy and the Affordable Care Act', 'Grow to Greatness: Smart Growth for Private Businesses, Part II', 'Introduction to Data Science', 'Corporate Finance', 'Global Sustainable Energy: Past, Present and Future', 'Algorithms, Part II']\n"
     ]
    }
   ],
   "source": [
    "course_id = [course[0] for course in sort_sims[:10]]\n",
    "top_10_courses = [courses_name[i] for i in course_id]\n",
    "print(top_10_courses)"
   ]
  },
  {
   "cell_type": "markdown",
   "metadata": {},
   "source": [
    "From the results, it seems that courses recommended by our LDA model is not reasonable. Courses such as 'Fundamentals of Pharmacology' seems to have little correlation with machine learning."
   ]
  },
  {
   "cell_type": "markdown",
   "metadata": {},
   "source": [
    "### 2.3.3 Word embeddings"
   ]
  },
  {
   "cell_type": "markdown",
   "metadata": {},
   "source": [
    "Word embedding is currently one of the most successful unsupervised learning methods. It is extremely user-friendly and it could work out the semantic correlation between words. For this Coursera case, we could also use the word representations to work out the similarity between different documents.\n",
    "\n",
    "Firstly, let's use models in gensim to work out the word vectors(here we use the **text_filtered** to train the word representations)"
   ]
  },
  {
   "cell_type": "code",
   "execution_count": 157,
   "metadata": {},
   "outputs": [],
   "source": [
    "wv_model = models.Word2Vec(text_filtered, size = 200, window = 5, min_count = 0, workers = 4)"
   ]
  },
  {
   "cell_type": "code",
   "execution_count": 162,
   "metadata": {},
   "outputs": [
    {
     "data": {
      "text/plain": [
       "0.98171254159770216"
      ]
     },
     "execution_count": 162,
     "metadata": {},
     "output_type": "execute_result"
    }
   ],
   "source": [
    "wv_model.similarity('computer','bad')"
   ]
  },
  {
   "cell_type": "markdown",
   "metadata": {},
   "source": [
    "Then we save the model and load it"
   ]
  },
  {
   "cell_type": "code",
   "execution_count": 38,
   "metadata": {},
   "outputs": [
    {
     "name": "stdout",
     "output_type": "stream",
     "text": [
      "Wall time: 0 ns\n"
     ]
    }
   ],
   "source": [
    "%time\n",
    "\n",
    "wv_model.save('word2vec')\n",
    "wv_model = models.Word2Vec.load('word2vec')"
   ]
  },
  {
   "cell_type": "markdown",
   "metadata": {},
   "source": [
    "Then we could view the word vector of some words using the following code:"
   ]
  },
  {
   "cell_type": "code",
   "execution_count": 142,
   "metadata": {},
   "outputs": [
    {
     "data": {
      "text/plain": [
       "array([ 0.24639525,  0.11655792, -0.27122951, -0.19605167,  0.21520194,\n",
       "       -0.22923346,  0.37800202,  0.01353453, -0.27455196, -0.21519674,\n",
       "        0.03776409, -0.12592548,  0.09522996, -0.29824027,  0.05373111,\n",
       "        0.29489404,  0.16451515, -0.23683299,  0.0855662 ,  0.01766715,\n",
       "        0.17847231, -0.39047569, -0.10451546, -0.21391773, -0.19697911,\n",
       "       -0.24453199,  0.02158133,  0.17371058, -0.42769858, -0.15482022,\n",
       "        0.033733  ,  0.09722292,  0.0699039 , -0.1140397 , -0.18423349,\n",
       "        0.13122234,  0.03839058, -0.02559785, -0.05420973, -0.00815417,\n",
       "       -0.02106031,  0.13738137, -0.53220558, -0.37813947,  0.18274286,\n",
       "       -0.03851686,  0.11553536,  0.11505314,  0.05292136,  0.32064611,\n",
       "       -0.0248908 ,  0.49275985, -0.17821866, -0.00203701, -0.11363039,\n",
       "       -0.21345028,  0.09823497, -0.07199311,  0.02566207, -0.01285133,\n",
       "       -0.06261303, -0.19467245,  0.14417915, -0.04727802, -0.17136635,\n",
       "        0.12225059, -0.02955891,  0.26160771, -0.19932991,  0.07266127,\n",
       "       -0.00148596, -0.20265947,  0.14863633,  0.51884276,  0.02625565,\n",
       "        0.04550651,  0.15480395,  0.05008733,  0.08312353,  0.1198042 ,\n",
       "       -0.08444311, -0.28310245, -0.0214566 , -0.12210955, -0.34837639,\n",
       "       -0.15666884,  0.04626342,  0.13448068, -0.15535894,  0.00144226,\n",
       "        0.06072306, -0.11125124,  0.23611644, -0.00471336, -0.053632  ,\n",
       "       -0.09038822, -0.22229047,  0.01551915, -0.1222402 ,  0.42057523], dtype=float32)"
      ]
     },
     "execution_count": 142,
     "metadata": {},
     "output_type": "execute_result"
    }
   ],
   "source": [
    "wv_model.wv['computer']"
   ]
  },
  {
   "cell_type": "markdown",
   "metadata": {},
   "source": [
    "Until now, we have got the word vector of a word. So how to get the representation of a course? A common idea is that we could use the TF-IDF value of a word as weight. If we use $D_i$ to denote the representation of a document i and let n denote the number of words in this document, $T_{i,j}$ and $W_{i,j}$ represents the TF-IDF value and word vector of a word, then the representation of a document is:\n",
    "\n",
    "\\begin{equation}\n",
    "D_i = \\sum_{j=1}^{n} T_{i,j}W_{i,j}\n",
    "\\end{equation}\n",
    "\n",
    "Firstly, we calculate the TF-IDF value of these words."
   ]
  },
  {
   "cell_type": "code",
   "execution_count": 129,
   "metadata": {},
   "outputs": [
    {
     "name": "stdout",
     "output_type": "stream",
     "text": [
      "Wall time: 0 ns\n"
     ]
    }
   ],
   "source": [
    "def tfidf_value(corpus, target_word):\n",
    "    count_tf = 0\n",
    "    count_idf = 0\n",
    "    tf = 0\n",
    "    idf = 0\n",
    "    tfidf = 0\n",
    "    for document in corpus:\n",
    "        count_tf += document.count(target_word)\n",
    "        if target_word in document:\n",
    "            count_idf += 1\n",
    "        else:\n",
    "            pass\n",
    "    tf = count_tf/50386 # 50386 means total number of words in text_filtered\n",
    "    idf = math.log((len(corpus)+1)/count_idf+1)\n",
    "    tfidf = idf * tf\n",
    "    return tfidf\n",
    "\n",
    "dict_with_tfidf = {}\n",
    "\n",
    "for document in text_filtered:\n",
    "    for word in document:\n",
    "        dict_with_tfidf[word] = tfidf_value(text_filtered, word)"
   ]
  },
  {
   "cell_type": "markdown",
   "metadata": {},
   "source": [
    "Based on these tfidf value, we could get the representation of the first course using the following codes:"
   ]
  },
  {
   "cell_type": "code",
   "execution_count": 130,
   "metadata": {},
   "outputs": [],
   "source": [
    "def course_repre(course):\n",
    "    new_word_vec = {}\n",
    "    for word in course:\n",
    "        new_word_vec[word] = dict_with_tfidf[word]*wv_model.wv[word]\n",
    "    return new_word_vec\n",
    "\n",
    "courses_repre = {}\n",
    "for i in range(len(text_filtered)):\n",
    "    courses_repre[i] = np.sum(list(course_repre(text_filtered[i]).values()), axis = 0)"
   ]
  },
  {
   "cell_type": "code",
   "execution_count": 132,
   "metadata": {},
   "outputs": [
    {
     "data": {
      "text/plain": [
       "array([ 0.04427937,  0.0130554 , -0.05602559, -0.03357764,  0.03808948,\n",
       "       -0.03837284,  0.0523916 ,  0.01495533, -0.05259966, -0.05051561,\n",
       "        0.01245939, -0.01766909,  0.00670741, -0.03801419,  0.01271602,\n",
       "        0.05752096,  0.02570274, -0.05964681,  0.00629226,  0.02107507,\n",
       "        0.04033204, -0.06100152, -0.0110378 , -0.04774882, -0.04237799,\n",
       "       -0.04861467,  0.00045835,  0.04228117, -0.09911218, -0.03623043,\n",
       "        0.01560822,  0.00501446,  0.01501018, -0.01702392, -0.03155623,\n",
       "        0.03642877,  0.01132398, -0.01263214, -0.00709316,  0.00400204,\n",
       "        0.00846095,  0.02001114, -0.09377978, -0.07756289,  0.04162082,\n",
       "        0.0001427 ,  0.02772661,  0.02417291,  0.00191568,  0.05920431,\n",
       "       -0.00757979,  0.08949264, -0.0384629 , -0.00868316, -0.01747917,\n",
       "       -0.02799903,  0.02166285, -0.01112453,  0.00645698, -0.02078258,\n",
       "       -0.01413415, -0.0278128 ,  0.02406976,  0.00617541, -0.0136947 ,\n",
       "        0.01184485, -0.00845916,  0.05052168, -0.03640736,  0.00769226,\n",
       "       -0.01393657, -0.03072819,  0.02730619,  0.08143151,  0.0190099 ,\n",
       "        0.01462538,  0.02306465,  0.00585081,  0.02077259,  0.02232398,\n",
       "       -0.01599532, -0.04207254, -0.01160206, -0.03417428, -0.07107288,\n",
       "       -0.03412054, -0.00213593,  0.03115728, -0.02860259, -0.00753486,\n",
       "        0.02047188, -0.02691585,  0.04750577, -0.00693125,  0.00238025,\n",
       "       -0.02464384, -0.0299214 ,  0.00071685, -0.00986234,  0.07029788], dtype=float32)"
      ]
     },
     "execution_count": 132,
     "metadata": {},
     "output_type": "execute_result"
    }
   ],
   "source": [
    "list(courses_repre.values())[1]"
   ]
  },
  {
   "cell_type": "markdown",
   "metadata": {},
   "source": [
    "However, it seems that word2vec method is not appropriate for this task. If we just use cosine similarity to measure the difference of two vectors, we could get the the following similarity matrix."
   ]
  },
  {
   "cell_type": "code",
   "execution_count": 134,
   "metadata": {},
   "outputs": [
    {
     "data": {
      "text/plain": [
       "array([[ 1.00000012,  0.99999338],\n",
       "       [ 0.99999338,  1.00000024]], dtype=float32)"
      ]
     },
     "execution_count": 134,
     "metadata": {},
     "output_type": "execute_result"
    }
   ],
   "source": [
    "a = list(courses_repre.values())[0]\n",
    "b = list(courses_repre.values())[210]\n",
    "matrix = np.array([a,b])\n",
    "\n",
    "cosine_similarity(matrix)"
   ]
  },
  {
   "cell_type": "code",
   "execution_count": 163,
   "metadata": {},
   "outputs": [
    {
     "data": {
      "text/plain": [
       "'Writing II: Rhetorical Composing'"
      ]
     },
     "execution_count": 163,
     "metadata": {},
     "output_type": "execute_result"
    }
   ],
   "source": [
    "courses_name[0]"
   ]
  },
  {
   "cell_type": "markdown",
   "metadata": {},
   "source": [
    "The first course 'Writing II: Rhetorical Composing' seems to have no relationship with machine learning but from the matrix it tells us that these two courses are very similar."
   ]
  },
  {
   "cell_type": "code",
   "execution_count": null,
   "metadata": {
    "collapsed": true
   },
   "outputs": [],
   "source": []
  }
 ],
 "metadata": {
  "kernelspec": {
   "display_name": "Python 3",
   "language": "python",
   "name": "python3"
  },
  "language_info": {
   "codemirror_mode": {
    "name": "ipython",
    "version": 3
   },
   "file_extension": ".py",
   "mimetype": "text/x-python",
   "name": "python",
   "nbconvert_exporter": "python",
   "pygments_lexer": "ipython3",
   "version": "3.5.2"
  }
 },
 "nbformat": 4,
 "nbformat_minor": 2
}
